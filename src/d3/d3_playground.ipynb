{
 "cells": [
  {
   "cell_type": "code",
   "execution_count": 2,
   "metadata": {
    "collapsed": true
   },
   "outputs": [
    {
     "name": "stderr",
     "output_type": "stream",
     "text": [
      "C:\\Users\\ltxom\\IdeaProjects\\python_ml_venv\\lib\\site-packages\\numpy\\_distributor_init.py:30: UserWarning: loaded more than 1 DLL from .libs:\n",
      "C:\\Users\\ltxom\\IdeaProjects\\python_ml_venv\\lib\\site-packages\\numpy\\.libs\\libopenblas.FB5AE2TYXYH2IJRDKGDGQ3XBKLKTF43H.gfortran-win_amd64.dll\n",
      "C:\\Users\\ltxom\\IdeaProjects\\python_ml_venv\\lib\\site-packages\\numpy\\.libs\\libopenblas.WCDJNK7YVMPZQ2ME2ZZHJJRJ3JIKNDB7.gfortran-win_amd64.dll\n",
      "  warnings.warn(\"loaded more than 1 DLL from .libs:\"\n"
     ]
    }
   ],
   "source": [
    "import mmsdk\n",
    "import numpy as np\n",
    "import os\n",
    "from mmsdk import mmdatasdk as md\n",
    "import torch"
   ]
  },
  {
   "cell_type": "code",
   "execution_count": 3,
   "outputs": [
    {
     "name": "stdout",
     "output_type": "stream",
     "text": [
      "\u001B[92m\u001B[1m[2023-05-05 03:52:41.468] | Success | \u001B[0mComputational sequence read from file ../data/CMU_MOSI_TimestampedWordVectors.csd ...\n",
      "\u001B[94m\u001B[1m[2023-05-05 03:52:41.472] | Status  | \u001B[0mChecking the integrity of the <glove_vectors> computational sequence ...\n",
      "\u001B[94m\u001B[1m[2023-05-05 03:52:41.472] | Status  | \u001B[0mChecking the format of the data in <glove_vectors> computational sequence ...\n"
     ]
    },
    {
     "name": "stderr",
     "output_type": "stream",
     "text": [
      "                                                                   \r"
     ]
    },
    {
     "name": "stdout",
     "output_type": "stream",
     "text": [
      "\u001B[92m\u001B[1m[2023-05-05 03:52:41.493] | Success | \u001B[0m<glove_vectors> computational sequence data in correct format.\n",
      "\u001B[94m\u001B[1m[2023-05-05 03:52:41.493] | Status  | \u001B[0mChecking the format of the metadata in <glove_vectors> computational sequence ...\n",
      "\u001B[93m\u001B[1m[2023-05-05 03:52:41.493] | Warning | \u001B[0m<glove_vectors> computational sequence does not have all the required metadata ... continuing \n",
      "\u001B[92m\u001B[1m[2023-05-05 03:52:41.493] | Success | \u001B[0mComputational sequence read from file ../data/CMU_MOSI_Visual_Facet_41.csd ...\n",
      "\u001B[94m\u001B[1m[2023-05-05 03:52:41.496] | Status  | \u001B[0mChecking the integrity of the <FACET_4.1> computational sequence ...\n",
      "\u001B[94m\u001B[1m[2023-05-05 03:52:41.496] | Status  | \u001B[0mChecking the format of the data in <FACET_4.1> computational sequence ...\n"
     ]
    },
    {
     "name": "stderr",
     "output_type": "stream",
     "text": [
      "                                                                   \r"
     ]
    },
    {
     "name": "stdout",
     "output_type": "stream",
     "text": [
      "\u001B[92m\u001B[1m[2023-05-05 03:52:41.511] | Success | \u001B[0m<FACET_4.1> computational sequence data in correct format.\n",
      "\u001B[94m\u001B[1m[2023-05-05 03:52:41.511] | Status  | \u001B[0mChecking the format of the metadata in <FACET_4.1> computational sequence ...\n",
      "\u001B[93m\u001B[1m[2023-05-05 03:52:41.511] | Warning | \u001B[0m<FACET_4.1> computational sequence does not have all the required metadata ... continuing \n",
      "\u001B[92m\u001B[1m[2023-05-05 03:52:41.512] | Success | \u001B[0mComputational sequence read from file ../data/CMU_MOSI_COVAREP.csd ...\n",
      "\u001B[94m\u001B[1m[2023-05-05 03:52:41.515] | Status  | \u001B[0mChecking the integrity of the <COVAREP> computational sequence ...\n",
      "\u001B[94m\u001B[1m[2023-05-05 03:52:41.515] | Status  | \u001B[0mChecking the format of the data in <COVAREP> computational sequence ...\n"
     ]
    },
    {
     "name": "stderr",
     "output_type": "stream",
     "text": [
      "                                                                   "
     ]
    },
    {
     "name": "stdout",
     "output_type": "stream",
     "text": [
      "\u001B[92m\u001B[1m[2023-05-05 03:52:41.532] | Success | \u001B[0m<COVAREP> computational sequence data in correct format.\n",
      "\u001B[94m\u001B[1m[2023-05-05 03:52:41.532] | Status  | \u001B[0mChecking the format of the metadata in <COVAREP> computational sequence ...\n",
      "\u001B[93m\u001B[1m[2023-05-05 03:52:41.532] | Warning | \u001B[0m<COVAREP> computational sequence does not have all the required metadata ... continuing \n",
      "\u001B[92m\u001B[1m[2023-05-05 03:52:41.532] | Success | \u001B[0mDataset initialized successfully ... \n"
     ]
    },
    {
     "name": "stderr",
     "output_type": "stream",
     "text": [
      "\r"
     ]
    }
   ],
   "source": [
    "visual_field = '../data/CMU_MOSI_Visual_Facet_41'\n",
    "acoustic_field = '../data/CMU_MOSI_COVAREP'\n",
    "text_field = '../data/CMU_MOSI_TimestampedWordVectors'\n",
    "\n",
    "\n",
    "features = [\n",
    "    text_field,\n",
    "    visual_field,\n",
    "    acoustic_field\n",
    "]\n",
    "\n",
    "recipe = {feat: feat + '.csd' for feat in features}\n",
    "dataset = md.mmdataset(recipe)"
   ],
   "metadata": {
    "collapsed": false
   }
  },
  {
   "cell_type": "code",
   "execution_count": 4,
   "outputs": [
    {
     "name": "stdout",
     "output_type": "stream",
     "text": [
      "\u001B[94m\u001B[1m[2023-05-05 03:52:41.536] | Status  | \u001B[0mUnify was called ...\n",
      "\u001B[92m\u001B[1m[2023-05-05 03:52:41.537] | Success | \u001B[0mUnify completed ...\n",
      "\u001B[94m\u001B[1m[2023-05-05 03:52:41.537] | Status  | \u001B[0mPre-alignment based on <../data/CMU_MOSI_TimestampedWordVectors> computational sequence started ...\n",
      "\u001B[94m\u001B[1m[2023-05-05 03:52:43.603] | Status  | \u001B[0mPre-alignment done for <../data/CMU_MOSI_COVAREP> ...\n",
      "\u001B[94m\u001B[1m[2023-05-05 03:52:44.064] | Status  | \u001B[0mPre-alignment done for <../data/CMU_MOSI_Visual_Facet_41> ...\n",
      "\u001B[94m\u001B[1m[2023-05-05 03:52:44.107] | Status  | \u001B[0mAlignment starting ...\n"
     ]
    },
    {
     "name": "stderr",
     "output_type": "stream",
     "text": [
      "Overall Progress:   0%|          | 0/93 [00:00<?, ? Computational Sequence Entries/s]\n",
      "  0%|          | 0/464 [00:00<?, ? Segments/s]\u001B[A\n",
      "Aligning 03bSnISJMiM:   0%|          | 0/464 [00:00<?, ? Segments/s]\u001B[A\n",
      "Aligning 03bSnISJMiM:  17%|█▋        | 80/464 [00:00<00:00, 799.39 Segments/s]\u001B[A\n",
      "Aligning 03bSnISJMiM:  34%|███▍      | 160/464 [00:00<00:00, 748.73 Segments/s]\u001B[A\n",
      "Aligning 03bSnISJMiM:  51%|█████     | 236/464 [00:00<00:00, 748.41 Segments/s]\u001B[A\n",
      "Aligning 03bSnISJMiM:  69%|██████▊   | 318/464 [00:00<00:00, 772.75 Segments/s]\u001B[A\n",
      "Aligning 03bSnISJMiM:  87%|████████▋ | 402/464 [00:00<00:00, 794.91 Segments/s]\u001B[A\n",
      "Overall Progress:   1%|          | 1/93 [00:00<00:54,  1.68 Computational Sequence Entries/s]\n",
      "  0%|          | 0/485 [00:00<?, ? Segments/s]\u001B[A\n",
      "Aligning 0h-zjBukYpk:   0%|          | 0/485 [00:00<?, ? Segments/s]\u001B[A\n",
      "Aligning 0h-zjBukYpk:  17%|█▋        | 81/485 [00:00<00:00, 801.40 Segments/s]\u001B[A\n",
      "Aligning 0h-zjBukYpk:  33%|███▎      | 162/485 [00:00<00:00, 769.72 Segments/s]\u001B[A\n",
      "Aligning 0h-zjBukYpk:  49%|████▉     | 240/485 [00:00<00:00, 772.31 Segments/s]\u001B[A\n",
      "Aligning 0h-zjBukYpk:  66%|██████▌   | 318/485 [00:00<00:00, 763.24 Segments/s]\u001B[A\n",
      "Aligning 0h-zjBukYpk:  81%|████████▏ | 395/485 [00:00<00:00, 754.71 Segments/s]\u001B[A\n",
      "Aligning 0h-zjBukYpk:  97%|█████████▋| 471/485 [00:00<00:00, 743.12 Segments/s]\u001B[A\n",
      "Overall Progress:   2%|▏         | 2/93 [00:01<00:56,  1.60 Computational Sequence Entries/s]\n",
      "  0%|          | 0/237 [00:00<?, ? Segments/s]\u001B[A\n",
      "Aligning 1DmNV9C1hbY:   0%|          | 0/237 [00:00<?, ? Segments/s]\u001B[A\n",
      "Aligning 1DmNV9C1hbY:  46%|████▌     | 109/237 [00:00<00:00, 1089.13 Segments/s]\u001B[A\n",
      "Aligning 1DmNV9C1hbY:  95%|█████████▌| 226/237 [00:00<00:00, 1136.19 Segments/s]\u001B[A\n",
      "Overall Progress:   3%|▎         | 3/93 [00:01<00:39,  2.29 Computational Sequence Entries/s]\n",
      "  0%|          | 0/562 [00:00<?, ? Segments/s]\u001B[A\n",
      "Aligning 1iG0909rllw:   0%|          | 0/562 [00:00<?, ? Segments/s]\u001B[A\n",
      "Aligning 1iG0909rllw:  14%|█▎        | 77/562 [00:00<00:00, 765.56 Segments/s]\u001B[A\n",
      "Aligning 1iG0909rllw:  27%|██▋       | 154/562 [00:00<00:00, 749.89 Segments/s]\u001B[A\n",
      "Aligning 1iG0909rllw:  42%|████▏     | 235/562 [00:00<00:00, 776.64 Segments/s]\u001B[A\n",
      "Aligning 1iG0909rllw:  56%|█████▋    | 317/562 [00:00<00:00, 793.34 Segments/s]\u001B[A\n",
      "Aligning 1iG0909rllw:  71%|███████   | 397/562 [00:00<00:00, 782.66 Segments/s]\u001B[A\n",
      "Aligning 1iG0909rllw:  85%|████████▍ | 476/562 [00:00<00:00, 764.37 Segments/s]\u001B[A\n",
      "Aligning 1iG0909rllw:  98%|█████████▊| 553/562 [00:00<00:00, 763.56 Segments/s]\u001B[A\n",
      "Overall Progress:   4%|▍         | 4/93 [00:02<00:49,  1.80 Computational Sequence Entries/s]\n",
      "  0%|          | 0/651 [00:00<?, ? Segments/s]\u001B[A\n",
      "Aligning 2WGyTLYerpo:   0%|          | 0/651 [00:00<?, ? Segments/s]\u001B[A\n",
      "Aligning 2WGyTLYerpo:  11%|█         | 73/651 [00:00<00:00, 718.59 Segments/s]\u001B[A\n",
      "Aligning 2WGyTLYerpo:  22%|██▏       | 145/651 [00:00<00:00, 704.65 Segments/s]\u001B[A\n",
      "Aligning 2WGyTLYerpo:  33%|███▎      | 216/651 [00:00<00:00, 706.76 Segments/s]\u001B[A\n",
      "Aligning 2WGyTLYerpo:  44%|████▍     | 287/651 [00:00<00:00, 700.93 Segments/s]\u001B[A\n",
      "Aligning 2WGyTLYerpo:  55%|█████▌    | 360/651 [00:00<00:00, 708.58 Segments/s]\u001B[A\n",
      "Aligning 2WGyTLYerpo:  66%|██████▌   | 431/651 [00:00<00:00, 708.86 Segments/s]\u001B[A\n",
      "Aligning 2WGyTLYerpo:  77%|███████▋  | 504/651 [00:00<00:00, 713.21 Segments/s]\u001B[A\n",
      "Aligning 2WGyTLYerpo:  88%|████████▊ | 576/651 [00:00<00:00, 702.92 Segments/s]\u001B[A\n",
      "Aligning 2WGyTLYerpo:  99%|█████████▉| 647/651 [00:00<00:00, 685.93 Segments/s]\u001B[A\n",
      "Overall Progress:   5%|▌         | 5/93 [00:03<01:00,  1.44 Computational Sequence Entries/s]\n",
      "  0%|          | 0/700 [00:00<?, ? Segments/s]\u001B[A\n",
      "Aligning 2iD-tVS8NPw:   0%|          | 0/700 [00:00<?, ? Segments/s]\u001B[A\n",
      "Aligning 2iD-tVS8NPw:  10%|▉         | 69/700 [00:00<00:00, 682.22 Segments/s]\u001B[A\n",
      "Aligning 2iD-tVS8NPw:  20%|██        | 143/700 [00:00<00:00, 711.62 Segments/s]\u001B[A\n",
      "Aligning 2iD-tVS8NPw:  31%|███       | 215/700 [00:00<00:00, 710.14 Segments/s]\u001B[A\n",
      "Aligning 2iD-tVS8NPw:  41%|████      | 287/700 [00:00<00:00, 709.58 Segments/s]\u001B[A\n",
      "Aligning 2iD-tVS8NPw:  51%|█████     | 358/700 [00:00<00:00, 709.55 Segments/s]\u001B[A\n",
      "Aligning 2iD-tVS8NPw:  61%|██████▏   | 430/700 [00:00<00:00, 709.28 Segments/s]\u001B[A\n",
      "Aligning 2iD-tVS8NPw:  72%|███████▏  | 501/700 [00:00<00:00, 709.35 Segments/s]\u001B[A\n",
      "Aligning 2iD-tVS8NPw:  82%|████████▏ | 572/700 [00:00<00:00, 709.38 Segments/s]\u001B[A\n",
      "Aligning 2iD-tVS8NPw:  92%|█████████▏| 643/700 [00:00<00:00, 706.11 Segments/s]\u001B[A\n",
      "Overall Progress:   6%|▋         | 6/93 [00:04<01:09,  1.26 Computational Sequence Entries/s]\n",
      "  0%|          | 0/262 [00:00<?, ? Segments/s]\u001B[A\n",
      "Aligning 5W7Z1C_fDaE:   0%|          | 0/262 [00:00<?, ? Segments/s]\u001B[A\n",
      "Aligning 5W7Z1C_fDaE:  42%|████▏     | 111/262 [00:00<00:00, 1103.57 Segments/s]\u001B[A\n",
      "Aligning 5W7Z1C_fDaE:  85%|████████▌ | 223/262 [00:00<00:00, 1112.67 Segments/s]\u001B[A\n",
      "Overall Progress:   8%|▊         | 7/93 [00:04<00:52,  1.63 Computational Sequence Entries/s]\n",
      "  0%|          | 0/411 [00:00<?, ? Segments/s]\u001B[A\n",
      "Aligning 6Egk_28TtTM:   0%|          | 0/411 [00:00<?, ? Segments/s]\u001B[A\n",
      "Aligning 6Egk_28TtTM:  21%|██        | 87/411 [00:00<00:00, 869.28 Segments/s]\u001B[A\n",
      "Aligning 6Egk_28TtTM:  42%|████▏     | 174/411 [00:00<00:00, 846.81 Segments/s]\u001B[A\n",
      "Aligning 6Egk_28TtTM:  63%|██████▎   | 260/411 [00:00<00:00, 852.43 Segments/s]\u001B[A\n",
      "Aligning 6Egk_28TtTM:  85%|████████▌ | 351/411 [00:00<00:00, 874.70 Segments/s]\u001B[A\n",
      "Overall Progress:   9%|▊         | 8/93 [00:04<00:48,  1.75 Computational Sequence Entries/s]\n",
      "  0%|          | 0/374 [00:00<?, ? Segments/s]\u001B[A\n",
      "Aligning 6_0THN4chvY:   0%|          | 0/374 [00:00<?, ? Segments/s]\u001B[A\n",
      "Aligning 6_0THN4chvY:  25%|██▍       | 92/374 [00:00<00:00, 919.26 Segments/s]\u001B[A\n",
      "Aligning 6_0THN4chvY:  51%|█████     | 190/374 [00:00<00:00, 951.79 Segments/s]\u001B[A\n",
      "Aligning 6_0THN4chvY:  76%|███████▋  | 286/374 [00:00<00:00, 933.87 Segments/s]\u001B[A\n",
      "Overall Progress:  10%|▉         | 9/93 [00:05<00:43,  1.93 Computational Sequence Entries/s]\n",
      "  0%|          | 0/591 [00:00<?, ? Segments/s]\u001B[A\n",
      "Aligning 73jzhE8R1TQ:   0%|          | 0/591 [00:00<?, ? Segments/s]\u001B[A\n",
      "Aligning 73jzhE8R1TQ:  12%|█▏        | 73/591 [00:00<00:00, 729.37 Segments/s]\u001B[A\n",
      "Aligning 73jzhE8R1TQ:  26%|██▌       | 153/591 [00:00<00:00, 765.59 Segments/s]\u001B[A\n",
      "Aligning 73jzhE8R1TQ:  39%|███▉      | 230/591 [00:00<00:00, 750.30 Segments/s]\u001B[A\n",
      "Aligning 73jzhE8R1TQ:  52%|█████▏    | 308/591 [00:00<00:00, 760.13 Segments/s]\u001B[A\n",
      "Aligning 73jzhE8R1TQ:  66%|██████▌   | 390/591 [00:00<00:00, 781.25 Segments/s]\u001B[A\n",
      "Aligning 73jzhE8R1TQ:  79%|███████▉  | 469/591 [00:00<00:00, 764.61 Segments/s]\u001B[A\n",
      "Aligning 73jzhE8R1TQ:  92%|█████████▏| 546/591 [00:00<00:00, 758.82 Segments/s]\u001B[A\n",
      "Overall Progress:  11%|█         | 10/93 [00:06<00:49,  1.67 Computational Sequence Entries/s]\n",
      "  0%|          | 0/636 [00:00<?, ? Segments/s]\u001B[A\n",
      "Aligning 7JsX8y1ysxY:   0%|          | 0/636 [00:00<?, ? Segments/s]\u001B[A\n",
      "Aligning 7JsX8y1ysxY:  11%|█▏        | 73/636 [00:00<00:00, 729.32 Segments/s]\u001B[A\n",
      "Aligning 7JsX8y1ysxY:  23%|██▎       | 146/636 [00:00<00:00, 700.43 Segments/s]\u001B[A\n",
      "Aligning 7JsX8y1ysxY:  34%|███▍      | 217/636 [00:00<00:00, 698.16 Segments/s]\u001B[A\n",
      "Aligning 7JsX8y1ysxY:  46%|████▌     | 290/636 [00:00<00:00, 710.27 Segments/s]\u001B[A\n",
      "Aligning 7JsX8y1ysxY:  57%|█████▋    | 362/636 [00:00<00:00, 707.20 Segments/s]\u001B[A\n",
      "Aligning 7JsX8y1ysxY:  68%|██████▊   | 434/636 [00:00<00:00, 709.74 Segments/s]\u001B[A\n",
      "Aligning 7JsX8y1ysxY:  80%|███████▉  | 506/636 [00:00<00:00, 711.69 Segments/s]\u001B[A\n",
      "Aligning 7JsX8y1ysxY:  91%|█████████ | 580/636 [00:00<00:00, 719.29 Segments/s]\u001B[A\n",
      "Overall Progress:  12%|█▏        | 11/93 [00:06<00:56,  1.45 Computational Sequence Entries/s]\n",
      "  0%|          | 0/654 [00:00<?, ? Segments/s]\u001B[A\n",
      "Aligning 8OtFthrtaJM:   0%|          | 0/654 [00:00<?, ? Segments/s]\u001B[A\n",
      "Aligning 8OtFthrtaJM:  11%|█         | 69/654 [00:00<00:00, 682.66 Segments/s]\u001B[A\n",
      "Aligning 8OtFthrtaJM:  22%|██▏       | 141/654 [00:00<00:00, 702.15 Segments/s]\u001B[A\n",
      "Aligning 8OtFthrtaJM:  32%|███▏      | 212/654 [00:00<00:00, 691.27 Segments/s]\u001B[A\n",
      "Aligning 8OtFthrtaJM:  44%|████▍     | 287/654 [00:00<00:00, 709.76 Segments/s]\u001B[A\n",
      "Aligning 8OtFthrtaJM:  55%|█████▌    | 360/654 [00:00<00:00, 716.75 Segments/s]\u001B[A\n",
      "Aligning 8OtFthrtaJM:  66%|██████▌   | 432/654 [00:00<00:00, 716.34 Segments/s]\u001B[A\n",
      "Aligning 8OtFthrtaJM:  77%|███████▋  | 504/654 [00:00<00:00, 706.95 Segments/s]\u001B[A\n",
      "Aligning 8OtFthrtaJM:  88%|████████▊ | 575/654 [00:00<00:00, 698.87 Segments/s]\u001B[A\n",
      "Aligning 8OtFthrtaJM:  99%|█████████▉| 647/654 [00:00<00:00, 705.01 Segments/s]\u001B[A\n",
      "Overall Progress:  13%|█▎        | 12/93 [00:07<01:01,  1.31 Computational Sequence Entries/s]\n",
      "  0%|          | 0/584 [00:00<?, ? Segments/s]\u001B[A\n",
      "Aligning 8d-gEyoeBzc:   0%|          | 0/584 [00:00<?, ? Segments/s]\u001B[A\n",
      "Aligning 8d-gEyoeBzc:  13%|█▎        | 77/584 [00:00<00:00, 769.23 Segments/s]\u001B[A\n",
      "Aligning 8d-gEyoeBzc:  26%|██▋       | 154/584 [00:00<00:00, 745.10 Segments/s]\u001B[A\n",
      "Aligning 8d-gEyoeBzc:  40%|████      | 235/584 [00:00<00:00, 773.96 Segments/s]\u001B[A\n",
      "Aligning 8d-gEyoeBzc:  54%|█████▎    | 313/584 [00:00<00:00, 756.82 Segments/s]\u001B[A\n",
      "Aligning 8d-gEyoeBzc:  67%|██████▋   | 389/584 [00:00<00:00, 753.70 Segments/s]\u001B[A\n",
      "Aligning 8d-gEyoeBzc:  80%|███████▉  | 467/584 [00:00<00:00, 759.74 Segments/s]\u001B[A\n",
      "Aligning 8d-gEyoeBzc:  93%|█████████▎| 544/584 [00:00<00:00, 751.98 Segments/s]\u001B[A\n",
      "Overall Progress:  14%|█▍        | 13/93 [00:08<01:01,  1.30 Computational Sequence Entries/s]\n",
      "  0%|          | 0/523 [00:00<?, ? Segments/s]\u001B[A\n",
      "Aligning 8qrpnFRGt2A:   0%|          | 0/523 [00:00<?, ? Segments/s]\u001B[A\n",
      "Aligning 8qrpnFRGt2A:  15%|█▍        | 78/523 [00:00<00:00, 779.46 Segments/s]\u001B[A\n",
      "Aligning 8qrpnFRGt2A:  30%|███       | 159/523 [00:00<00:00, 792.13 Segments/s]\u001B[A\n",
      "Aligning 8qrpnFRGt2A:  46%|████▌     | 239/523 [00:00<00:00, 779.40 Segments/s]\u001B[A\n",
      "Aligning 8qrpnFRGt2A:  61%|██████    | 317/523 [00:00<00:00, 776.40 Segments/s]\u001B[A\n",
      "Aligning 8qrpnFRGt2A:  76%|███████▌  | 395/523 [00:00<00:00, 765.17 Segments/s]\u001B[A\n",
      "Aligning 8qrpnFRGt2A:  91%|█████████ | 474/523 [00:00<00:00, 773.29 Segments/s]\u001B[A\n",
      "Overall Progress:  15%|█▌        | 14/93 [00:09<00:58,  1.35 Computational Sequence Entries/s]\n",
      "  0%|          | 0/554 [00:00<?, ? Segments/s]\u001B[A\n",
      "Aligning 9J25DZhivz8:   0%|          | 0/554 [00:00<?, ? Segments/s]\u001B[A\n",
      "Aligning 9J25DZhivz8:  13%|█▎        | 74/554 [00:00<00:00, 731.61 Segments/s]\u001B[A\n",
      "Aligning 9J25DZhivz8:  28%|██▊       | 153/554 [00:00<00:00, 763.15 Segments/s]\u001B[A\n",
      "Aligning 9J25DZhivz8:  42%|████▏     | 232/554 [00:00<00:00, 771.58 Segments/s]\u001B[A\n",
      "Aligning 9J25DZhivz8:  56%|█████▌    | 310/554 [00:00<00:00, 774.59 Segments/s]\u001B[A\n",
      "Aligning 9J25DZhivz8:  70%|███████   | 388/554 [00:00<00:00, 773.44 Segments/s]\u001B[A\n",
      "Aligning 9J25DZhivz8:  84%|████████▍ | 466/554 [00:00<00:00, 766.21 Segments/s]\u001B[A\n",
      "Aligning 9J25DZhivz8:  98%|█████████▊| 543/554 [00:00<00:00, 753.73 Segments/s]\u001B[A\n",
      "Overall Progress:  16%|█▌        | 15/93 [00:10<00:57,  1.36 Computational Sequence Entries/s]\n",
      "  0%|          | 0/645 [00:00<?, ? Segments/s]\u001B[A\n",
      "Aligning 9T9Hf74oK10:   0%|          | 0/645 [00:00<?, ? Segments/s]\u001B[A\n",
      "Aligning 9T9Hf74oK10:  11%|█         | 72/645 [00:00<00:00, 719.27 Segments/s]\u001B[A\n",
      "Aligning 9T9Hf74oK10:  23%|██▎       | 146/645 [00:00<00:00, 729.00 Segments/s]\u001B[A\n",
      "Aligning 9T9Hf74oK10:  34%|███▍      | 219/645 [00:00<00:00, 719.11 Segments/s]\u001B[A\n",
      "Aligning 9T9Hf74oK10:  46%|████▌     | 294/645 [00:00<00:00, 729.51 Segments/s]\u001B[A\n",
      "Aligning 9T9Hf74oK10:  57%|█████▋    | 367/645 [00:00<00:00, 722.98 Segments/s]\u001B[A\n",
      "Aligning 9T9Hf74oK10:  68%|██████▊   | 440/645 [00:00<00:00, 720.31 Segments/s]\u001B[A\n",
      "Aligning 9T9Hf74oK10:  80%|███████▉  | 513/645 [00:00<00:00, 706.15 Segments/s]\u001B[A\n",
      "Aligning 9T9Hf74oK10:  91%|█████████ | 584/645 [00:00<00:00, 706.07 Segments/s]\u001B[A\n",
      "Overall Progress:  17%|█▋        | 16/93 [00:10<01:00,  1.27 Computational Sequence Entries/s]\n",
      "  0%|          | 0/300 [00:00<?, ? Segments/s]\u001B[A\n",
      "Aligning 9c67fiY0wGQ:   0%|          | 0/300 [00:00<?, ? Segments/s]\u001B[A\n",
      "Aligning 9c67fiY0wGQ:  35%|███▌      | 105/300 [00:00<00:00, 1049.08 Segments/s]\u001B[A\n",
      "Aligning 9c67fiY0wGQ:  71%|███████▏  | 214/300 [00:00<00:00, 1072.65 Segments/s]\u001B[A\n",
      "Overall Progress:  18%|█▊        | 17/93 [00:11<00:48,  1.57 Computational Sequence Entries/s]\n",
      "  0%|          | 0/735 [00:00<?, ? Segments/s]\u001B[A\n",
      "Aligning 9qR7uwkblbs:   0%|          | 0/735 [00:00<?, ? Segments/s]\u001B[A\n",
      "Aligning 9qR7uwkblbs:   9%|▉         | 69/735 [00:00<00:00, 682.61 Segments/s]\u001B[A\n",
      "Aligning 9qR7uwkblbs:  19%|█▉        | 138/735 [00:00<00:00, 680.62 Segments/s]\u001B[A\n",
      "Aligning 9qR7uwkblbs:  28%|██▊       | 209/735 [00:00<00:00, 691.95 Segments/s]\u001B[A\n",
      "Aligning 9qR7uwkblbs:  38%|███▊      | 279/735 [00:00<00:00, 678.88 Segments/s]\u001B[A\n",
      "Aligning 9qR7uwkblbs:  48%|████▊     | 352/735 [00:00<00:00, 696.79 Segments/s]\u001B[A\n",
      "Aligning 9qR7uwkblbs:  57%|█████▋    | 422/735 [00:00<00:00, 664.19 Segments/s]\u001B[A\n",
      "Aligning 9qR7uwkblbs:  67%|██████▋   | 493/735 [00:00<00:00, 676.25 Segments/s]\u001B[A\n",
      "Aligning 9qR7uwkblbs:  76%|███████▋  | 561/735 [00:00<00:00, 677.23 Segments/s]\u001B[A\n",
      "Aligning 9qR7uwkblbs:  86%|████████▌ | 630/735 [00:00<00:00, 678.91 Segments/s]\u001B[A\n",
      "Aligning 9qR7uwkblbs:  95%|█████████▌| 699/735 [00:01<00:00, 673.91 Segments/s]\u001B[A\n",
      "Overall Progress:  19%|█▉        | 18/93 [00:12<00:57,  1.30 Computational Sequence Entries/s]\n",
      "  0%|          | 0/659 [00:00<?, ? Segments/s]\u001B[A\n",
      "Aligning Af8D0E4ZXaw:   0%|          | 0/659 [00:00<?, ? Segments/s]\u001B[A\n",
      "Aligning Af8D0E4ZXaw:  10%|█         | 69/659 [00:00<00:00, 686.00 Segments/s]\u001B[A\n",
      "Aligning Af8D0E4ZXaw:  21%|██        | 140/659 [00:00<00:00, 697.77 Segments/s]\u001B[A\n",
      "Aligning Af8D0E4ZXaw:  32%|███▏      | 211/659 [00:00<00:00, 701.51 Segments/s]\u001B[A\n",
      "Aligning Af8D0E4ZXaw:  43%|████▎     | 282/659 [00:00<00:00, 688.36 Segments/s]\u001B[A\n",
      "Aligning Af8D0E4ZXaw:  53%|█████▎    | 351/659 [00:00<00:00, 687.49 Segments/s]\u001B[A\n",
      "Aligning Af8D0E4ZXaw:  64%|██████▎   | 420/659 [00:00<00:00, 685.85 Segments/s]\u001B[A\n",
      "Aligning Af8D0E4ZXaw:  75%|███████▍  | 492/659 [00:00<00:00, 695.58 Segments/s]\u001B[A\n",
      "Aligning Af8D0E4ZXaw:  85%|████████▌ | 562/659 [00:00<00:00, 690.25 Segments/s]\u001B[A\n",
      "Aligning Af8D0E4ZXaw:  96%|█████████▌| 634/659 [00:00<00:00, 698.18 Segments/s]\u001B[A\n",
      "Overall Progress:  20%|██        | 19/93 [00:13<01:01,  1.21 Computational Sequence Entries/s]\n",
      "  0%|          | 0/406 [00:00<?, ? Segments/s]\u001B[A\n",
      "Aligning BI97DNYfe5I:   0%|          | 0/406 [00:00<?, ? Segments/s]\u001B[A\n",
      "Aligning BI97DNYfe5I:  21%|██        | 84/406 [00:00<00:00, 839.33 Segments/s]\u001B[A\n",
      "Aligning BI97DNYfe5I:  43%|████▎     | 175/406 [00:00<00:00, 880.47 Segments/s]\u001B[A\n",
      "Aligning BI97DNYfe5I:  66%|██████▌   | 268/406 [00:00<00:00, 902.69 Segments/s]\u001B[A\n",
      "Aligning BI97DNYfe5I:  88%|████████▊ | 359/406 [00:00<00:00, 905.29 Segments/s]\u001B[A\n",
      "Overall Progress:  22%|██▏       | 20/93 [00:13<00:52,  1.39 Computational Sequence Entries/s]\n",
      "  0%|          | 0/566 [00:00<?, ? Segments/s]\u001B[A\n",
      "Aligning BXuRRbG0Ugk:   0%|          | 0/566 [00:00<?, ? Segments/s]\u001B[A\n",
      "Aligning BXuRRbG0Ugk:  13%|█▎        | 75/566 [00:00<00:00, 749.42 Segments/s]\u001B[A\n",
      "Aligning BXuRRbG0Ugk:  27%|██▋       | 150/566 [00:00<00:00, 715.67 Segments/s]\u001B[A\n",
      "Aligning BXuRRbG0Ugk:  40%|███▉      | 225/566 [00:00<00:00, 727.44 Segments/s]\u001B[A\n",
      "Aligning BXuRRbG0Ugk:  53%|█████▎    | 298/566 [00:00<00:00, 718.43 Segments/s]\u001B[A\n",
      "Aligning BXuRRbG0Ugk:  65%|██████▌   | 370/566 [00:00<00:00, 705.03 Segments/s]\u001B[A\n",
      "Aligning BXuRRbG0Ugk:  78%|███████▊  | 441/566 [00:00<00:00, 695.00 Segments/s]\u001B[A\n",
      "Aligning BXuRRbG0Ugk:  90%|█████████ | 511/566 [00:00<00:00, 690.91 Segments/s]\u001B[A\n",
      "Overall Progress:  23%|██▎       | 21/93 [00:14<00:53,  1.34 Computational Sequence Entries/s]\n",
      "  0%|          | 0/282 [00:00<?, ? Segments/s]\u001B[A\n",
      "Aligning Bfr499ggo-0:   0%|          | 0/282 [00:00<?, ? Segments/s]\u001B[A\n",
      "Aligning Bfr499ggo-0:  35%|███▌      | 100/282 [00:00<00:00, 994.06 Segments/s]\u001B[A\n",
      "Aligning Bfr499ggo-0:  72%|███████▏  | 202/282 [00:00<00:00, 1005.86 Segments/s]\u001B[A\n",
      "Overall Progress:  24%|██▎       | 22/93 [00:14<00:43,  1.65 Computational Sequence Entries/s]\n",
      "  0%|          | 0/659 [00:00<?, ? Segments/s]\u001B[A\n",
      "Aligning BioHAh1qJAQ:   0%|          | 0/659 [00:00<?, ? Segments/s]\u001B[A\n",
      "Aligning BioHAh1qJAQ:  10%|█         | 68/659 [00:00<00:00, 676.03 Segments/s]\u001B[A\n",
      "Aligning BioHAh1qJAQ:  21%|██        | 137/659 [00:00<00:00, 683.78 Segments/s]\u001B[A\n",
      "Aligning BioHAh1qJAQ:  32%|███▏      | 210/659 [00:00<00:00, 703.02 Segments/s]\u001B[A\n",
      "Aligning BioHAh1qJAQ:  43%|████▎     | 281/659 [00:00<00:00, 695.95 Segments/s]\u001B[A\n",
      "Aligning BioHAh1qJAQ:  53%|█████▎    | 351/659 [00:00<00:00, 687.34 Segments/s]\u001B[A\n",
      "Aligning BioHAh1qJAQ:  64%|██████▍   | 421/659 [00:00<00:00, 691.35 Segments/s]\u001B[A\n",
      "Aligning BioHAh1qJAQ:  75%|███████▍  | 492/659 [00:00<00:00, 697.21 Segments/s]\u001B[A\n",
      "Aligning BioHAh1qJAQ:  85%|████████▌ | 563/659 [00:00<00:00, 699.97 Segments/s]\u001B[A\n",
      "Aligning BioHAh1qJAQ:  96%|█████████▌| 634/659 [00:00<00:00, 701.82 Segments/s]\u001B[A\n",
      "Overall Progress:  25%|██▍       | 23/93 [00:15<00:49,  1.41 Computational Sequence Entries/s]\n",
      "  0%|          | 0/695 [00:00<?, ? Segments/s]\u001B[A\n",
      "Aligning BvYR0L6f2Ig:   0%|          | 0/695 [00:00<?, ? Segments/s]\u001B[A\n",
      "Aligning BvYR0L6f2Ig:   9%|▉         | 66/695 [00:00<00:00, 659.49 Segments/s]\u001B[A\n",
      "Aligning BvYR0L6f2Ig:  20%|██        | 139/695 [00:00<00:00, 698.53 Segments/s]\u001B[A\n",
      "Aligning BvYR0L6f2Ig:  30%|███       | 209/695 [00:00<00:00, 698.89 Segments/s]\u001B[A\n",
      "Aligning BvYR0L6f2Ig:  40%|████      | 281/695 [00:00<00:00, 704.22 Segments/s]\u001B[A\n",
      "Aligning BvYR0L6f2Ig:  51%|█████     | 355/695 [00:00<00:00, 716.85 Segments/s]\u001B[A\n",
      "Aligning BvYR0L6f2Ig:  61%|██████▏   | 427/695 [00:00<00:00, 700.92 Segments/s]\u001B[A\n",
      "Aligning BvYR0L6f2Ig:  72%|███████▏  | 498/695 [00:00<00:00, 686.00 Segments/s]\u001B[A\n",
      "Aligning BvYR0L6f2Ig:  82%|████████▏ | 567/695 [00:00<00:00, 679.68 Segments/s]\u001B[A\n",
      "Aligning BvYR0L6f2Ig:  92%|█████████▏| 637/695 [00:00<00:00, 684.62 Segments/s]\u001B[A\n",
      "Overall Progress:  26%|██▌       | 24/93 [00:16<00:55,  1.25 Computational Sequence Entries/s]\n",
      "  0%|          | 0/777 [00:00<?, ? Segments/s]\u001B[A\n",
      "Aligning Ci-AH39fi3Y:   0%|          | 0/777 [00:00<?, ? Segments/s]\u001B[A\n",
      "Aligning Ci-AH39fi3Y:  10%|█         | 79/777 [00:00<00:00, 781.64 Segments/s]\u001B[A\n",
      "Aligning Ci-AH39fi3Y:  21%|██        | 160/777 [00:00<00:00, 793.13 Segments/s]\u001B[A\n",
      "Aligning Ci-AH39fi3Y:  31%|███▏      | 243/777 [00:00<00:00, 808.17 Segments/s]\u001B[A\n",
      "Aligning Ci-AH39fi3Y:  42%|████▏     | 324/777 [00:00<00:00, 786.95 Segments/s]\u001B[A\n",
      "Aligning Ci-AH39fi3Y:  52%|█████▏    | 403/777 [00:00<00:00, 776.82 Segments/s]\u001B[A\n",
      "Aligning Ci-AH39fi3Y:  62%|██████▏   | 483/777 [00:00<00:00, 784.35 Segments/s]\u001B[A\n",
      "Aligning Ci-AH39fi3Y:  73%|███████▎  | 567/777 [00:00<00:00, 799.52 Segments/s]\u001B[A\n",
      "Aligning Ci-AH39fi3Y:  83%|████████▎ | 648/777 [00:00<00:00, 796.30 Segments/s]\u001B[A\n",
      "Aligning Ci-AH39fi3Y:  94%|█████████▎| 728/777 [00:00<00:00, 787.36 Segments/s]\u001B[A\n",
      "Overall Progress:  27%|██▋       | 25/93 [00:17<00:58,  1.17 Computational Sequence Entries/s]\n",
      "  0%|          | 0/590 [00:00<?, ? Segments/s]\u001B[A\n",
      "Aligning Clx4VXItLTE:   0%|          | 0/590 [00:00<?, ? Segments/s]\u001B[A\n",
      "Aligning Clx4VXItLTE:  12%|█▏        | 73/590 [00:00<00:00, 722.12 Segments/s]\u001B[A\n",
      "Aligning Clx4VXItLTE:  25%|██▌       | 150/590 [00:00<00:00, 747.66 Segments/s]\u001B[A\n",
      "Aligning Clx4VXItLTE:  39%|███▊      | 228/590 [00:00<00:00, 762.11 Segments/s]\u001B[A\n",
      "Aligning Clx4VXItLTE:  52%|█████▏    | 305/590 [00:00<00:00, 744.42 Segments/s]\u001B[A\n",
      "Aligning Clx4VXItLTE:  65%|██████▍   | 381/590 [00:00<00:00, 744.37 Segments/s]\u001B[A\n",
      "Aligning Clx4VXItLTE:  77%|███████▋  | 456/590 [00:00<00:00, 742.32 Segments/s]\u001B[A\n",
      "Aligning Clx4VXItLTE:  90%|█████████ | 531/590 [00:00<00:00, 733.94 Segments/s]\u001B[A\n",
      "Overall Progress:  28%|██▊       | 26/93 [00:18<00:56,  1.19 Computational Sequence Entries/s]\n",
      "  0%|          | 0/411 [00:00<?, ? Segments/s]\u001B[A\n",
      "Aligning Dg_0XKD0Mf4:   0%|          | 0/411 [00:00<?, ? Segments/s]\u001B[A\n",
      "Aligning Dg_0XKD0Mf4:  21%|██        | 87/411 [00:00<00:00, 869.30 Segments/s]\u001B[A\n",
      "Aligning Dg_0XKD0Mf4:  42%|████▏     | 174/411 [00:00<00:00, 846.88 Segments/s]\u001B[A\n",
      "Aligning Dg_0XKD0Mf4:  64%|██████▍   | 263/411 [00:00<00:00, 863.94 Segments/s]\u001B[A\n",
      "Aligning Dg_0XKD0Mf4:  85%|████████▌ | 350/411 [00:00<00:00, 862.45 Segments/s]\u001B[A\n",
      "Overall Progress:  29%|██▉       | 27/93 [00:19<00:48,  1.36 Computational Sequence Entries/s]\n",
      "  0%|          | 0/559 [00:00<?, ? Segments/s]\u001B[A\n",
      "Aligning G-xst2euQUc:   0%|          | 0/559 [00:00<?, ? Segments/s]\u001B[A\n",
      "Aligning G-xst2euQUc:  14%|█▍        | 80/559 [00:00<00:00, 795.26 Segments/s]\u001B[A\n",
      "Aligning G-xst2euQUc:  29%|██▊       | 160/559 [00:00<00:00, 766.06 Segments/s]\u001B[A\n",
      "Aligning G-xst2euQUc:  43%|████▎     | 239/559 [00:00<00:00, 774.67 Segments/s]\u001B[A\n",
      "Aligning G-xst2euQUc:  58%|█████▊    | 322/559 [00:00<00:00, 794.28 Segments/s]\u001B[A\n",
      "Aligning G-xst2euQUc:  72%|███████▏  | 402/559 [00:00<00:00, 769.98 Segments/s]\u001B[A\n",
      "Aligning G-xst2euQUc:  86%|████████▌ | 480/559 [00:00<00:00, 771.85 Segments/s]\u001B[A\n",
      "Aligning G-xst2euQUc: 100%|█████████▉| 558/559 [00:00<00:00, 773.07 Segments/s]\u001B[A\n",
      "Overall Progress:  30%|███       | 28/93 [00:19<00:47,  1.37 Computational Sequence Entries/s]\n",
      "  0%|          | 0/763 [00:00<?, ? Segments/s]\u001B[A\n",
      "Aligning G6GlGvlkxAQ:   0%|          | 0/763 [00:00<?, ? Segments/s]\u001B[A\n",
      "Aligning G6GlGvlkxAQ:   9%|▉         | 71/763 [00:00<00:00, 709.34 Segments/s]\u001B[A\n",
      "Aligning G6GlGvlkxAQ:  19%|█▉        | 144/763 [00:00<00:00, 721.13 Segments/s]\u001B[A\n",
      "Aligning G6GlGvlkxAQ:  30%|██▉       | 228/763 [00:00<00:00, 773.34 Segments/s]\u001B[A\n",
      "Aligning G6GlGvlkxAQ:  40%|████      | 306/763 [00:00<00:00, 772.69 Segments/s]\u001B[A\n",
      "Aligning G6GlGvlkxAQ:  50%|█████     | 384/763 [00:00<00:00, 770.91 Segments/s]\u001B[A\n",
      "Aligning G6GlGvlkxAQ:  61%|██████    | 463/763 [00:00<00:00, 777.19 Segments/s]\u001B[A\n",
      "Aligning G6GlGvlkxAQ:  71%|███████   | 541/763 [00:00<00:00, 777.84 Segments/s]\u001B[A\n",
      "Aligning G6GlGvlkxAQ:  81%|████████  | 619/763 [00:00<00:00, 770.99 Segments/s]\u001B[A\n",
      "Aligning G6GlGvlkxAQ:  91%|█████████▏| 697/763 [00:00<00:00, 770.00 Segments/s]\u001B[A\n",
      "Overall Progress:  31%|███       | 29/93 [00:20<00:51,  1.23 Computational Sequence Entries/s]\n",
      "  0%|          | 0/417 [00:00<?, ? Segments/s]\u001B[A\n",
      "Aligning GWuJjcEuzt8:   0%|          | 0/417 [00:00<?, ? Segments/s]\u001B[A\n",
      "Aligning GWuJjcEuzt8:  19%|█▉        | 81/417 [00:00<00:00, 805.33 Segments/s]\u001B[A\n",
      "Aligning GWuJjcEuzt8:  40%|███▉      | 166/417 [00:00<00:00, 831.14 Segments/s]\u001B[A\n",
      "Aligning GWuJjcEuzt8:  60%|█████▉    | 250/417 [00:00<00:00, 834.89 Segments/s]\u001B[A\n",
      "Aligning GWuJjcEuzt8:  81%|████████▏ | 339/417 [00:00<00:00, 856.40 Segments/s]\u001B[A\n",
      "Overall Progress:  32%|███▏      | 30/93 [00:21<00:45,  1.39 Computational Sequence Entries/s]\n",
      "  0%|          | 0/622 [00:00<?, ? Segments/s]\u001B[A\n",
      "Aligning HEsqda8_d0Q:   0%|          | 0/622 [00:00<?, ? Segments/s]\u001B[A\n",
      "Aligning HEsqda8_d0Q:  12%|█▏        | 74/622 [00:00<00:00, 739.30 Segments/s]\u001B[A\n",
      "Aligning HEsqda8_d0Q:  24%|██▍       | 152/622 [00:00<00:00, 760.59 Segments/s]\u001B[A\n",
      "Aligning HEsqda8_d0Q:  37%|███▋      | 229/622 [00:00<00:00, 750.75 Segments/s]\u001B[A\n",
      "Aligning HEsqda8_d0Q:  49%|████▉     | 305/622 [00:00<00:00, 729.87 Segments/s]\u001B[A\n",
      "Aligning HEsqda8_d0Q:  61%|██████    | 379/622 [00:00<00:00, 730.58 Segments/s]\u001B[A\n",
      "Aligning HEsqda8_d0Q:  73%|███████▎  | 453/622 [00:00<00:00, 722.67 Segments/s]\u001B[A\n",
      "Aligning HEsqda8_d0Q:  85%|████████▍ | 526/622 [00:00<00:00, 722.52 Segments/s]\u001B[A\n",
      "Aligning HEsqda8_d0Q:  96%|█████████▋| 600/622 [00:00<00:00, 726.64 Segments/s]\u001B[A\n",
      "Overall Progress:  33%|███▎      | 31/93 [00:22<00:47,  1.32 Computational Sequence Entries/s]\n",
      "  0%|          | 0/640 [00:00<?, ? Segments/s]\u001B[A\n",
      "Aligning I5y0__X72p0:   0%|          | 0/640 [00:00<?, ? Segments/s]\u001B[A\n",
      "Aligning I5y0__X72p0:  11%|█         | 71/640 [00:00<00:00, 705.12 Segments/s]\u001B[A\n",
      "Aligning I5y0__X72p0:  23%|██▎       | 147/640 [00:00<00:00, 732.69 Segments/s]\u001B[A\n",
      "Aligning I5y0__X72p0:  35%|███▍      | 222/640 [00:00<00:00, 738.62 Segments/s]\u001B[A\n",
      "Aligning I5y0__X72p0:  46%|████▋     | 296/640 [00:00<00:00, 736.03 Segments/s]\u001B[A\n",
      "Aligning I5y0__X72p0:  58%|█████▊    | 370/640 [00:00<00:00, 731.90 Segments/s]\u001B[A\n",
      "Aligning I5y0__X72p0:  69%|██████▉   | 444/640 [00:00<00:00, 707.99 Segments/s]\u001B[A\n",
      "Aligning I5y0__X72p0:  80%|████████  | 515/640 [00:00<00:00, 708.47 Segments/s]\u001B[A\n",
      "Aligning I5y0__X72p0:  92%|█████████▏| 586/640 [00:00<00:00, 704.38 Segments/s]\u001B[A\n",
      "Overall Progress:  34%|███▍      | 32/93 [00:23<00:48,  1.25 Computational Sequence Entries/s]\n",
      "  0%|          | 0/316 [00:00<?, ? Segments/s]\u001B[A\n",
      "Aligning Iu2PFX3z_1s:   0%|          | 0/316 [00:00<?, ? Segments/s]\u001B[A\n",
      "Aligning Iu2PFX3z_1s:  31%|███▏      | 99/316 [00:00<00:00, 984.31 Segments/s]\u001B[A\n",
      "Aligning Iu2PFX3z_1s:  63%|██████▎   | 198/316 [00:00<00:00, 969.98 Segments/s]\u001B[A\n",
      "Aligning Iu2PFX3z_1s:  94%|█████████▎| 296/316 [00:00<00:00, 971.92 Segments/s]\u001B[A\n",
      "Overall Progress:  35%|███▌      | 33/93 [00:23<00:39,  1.51 Computational Sequence Entries/s]\n",
      "  0%|          | 0/450 [00:00<?, ? Segments/s]\u001B[A\n",
      "Aligning IumbAb8q2dM:   0%|          | 0/450 [00:00<?, ? Segments/s]\u001B[A\n",
      "Aligning IumbAb8q2dM:  18%|█▊        | 82/450 [00:00<00:00, 818.94 Segments/s]\u001B[A\n",
      "Aligning IumbAb8q2dM:  37%|███▋      | 165/450 [00:00<00:00, 820.26 Segments/s]\u001B[A\n",
      "Aligning IumbAb8q2dM:  55%|█████▌    | 249/450 [00:00<00:00, 828.61 Segments/s]\u001B[A\n",
      "Aligning IumbAb8q2dM:  74%|███████▍  | 334/450 [00:00<00:00, 835.10 Segments/s]\u001B[A\n",
      "Aligning IumbAb8q2dM:  93%|█████████▎| 420/450 [00:00<00:00, 842.31 Segments/s]\u001B[A\n",
      "Overall Progress:  37%|███▋      | 34/93 [00:23<00:36,  1.60 Computational Sequence Entries/s]\n",
      "  0%|          | 0/219 [00:00<?, ? Segments/s]\u001B[A\n",
      "Aligning Jkswaaud0hk:   0%|          | 0/219 [00:00<?, ? Segments/s]\u001B[A\n",
      "Aligning Jkswaaud0hk:  51%|█████     | 111/219 [00:00<00:00, 1108.48 Segments/s]\u001B[A\n",
      "Overall Progress:  38%|███▊      | 35/93 [00:24<00:28,  2.02 Computational Sequence Entries/s]\n",
      "  0%|          | 0/735 [00:00<?, ? Segments/s]\u001B[A\n",
      "Aligning LSi-o-IrDMs:   0%|          | 0/735 [00:00<?, ? Segments/s]\u001B[A\n",
      "Aligning LSi-o-IrDMs:   9%|▉         | 66/735 [00:00<00:01, 656.18 Segments/s]\u001B[A\n",
      "Aligning LSi-o-IrDMs:  18%|█▊        | 132/735 [00:00<00:00, 633.92 Segments/s]\u001B[A\n",
      "Aligning LSi-o-IrDMs:  27%|██▋       | 201/735 [00:00<00:00, 658.68 Segments/s]\u001B[A\n",
      "Aligning LSi-o-IrDMs:  37%|███▋      | 272/735 [00:00<00:00, 677.17 Segments/s]\u001B[A\n",
      "Aligning LSi-o-IrDMs:  46%|████▋     | 340/735 [00:00<00:00, 664.89 Segments/s]\u001B[A\n",
      "Aligning LSi-o-IrDMs:  56%|█████▌    | 409/735 [00:00<00:00, 673.10 Segments/s]\u001B[A\n",
      "Aligning LSi-o-IrDMs:  65%|██████▌   | 479/735 [00:00<00:00, 681.58 Segments/s]\u001B[A\n",
      "Aligning LSi-o-IrDMs:  75%|███████▍  | 548/735 [00:00<00:00, 674.46 Segments/s]\u001B[A\n",
      "Aligning LSi-o-IrDMs:  84%|████████▍ | 616/735 [00:00<00:00, 660.74 Segments/s]\u001B[A\n",
      "Aligning LSi-o-IrDMs:  93%|█████████▎| 685/735 [00:01<00:00, 668.38 Segments/s]\u001B[A\n",
      "Overall Progress:  39%|███▊      | 36/93 [00:25<00:38,  1.47 Computational Sequence Entries/s]\n",
      "  0%|          | 0/385 [00:00<?, ? Segments/s]\u001B[A\n",
      "Aligning MLal-t_vJPM:   0%|          | 0/385 [00:00<?, ? Segments/s]\u001B[A\n",
      "Aligning MLal-t_vJPM:  23%|██▎       | 88/385 [00:00<00:00, 874.79 Segments/s]\u001B[A\n",
      "Aligning MLal-t_vJPM:  46%|████▌     | 176/385 [00:00<00:00, 872.09 Segments/s]\u001B[A\n",
      "Aligning MLal-t_vJPM:  70%|██████▉   | 269/385 [00:00<00:00, 898.12 Segments/s]\u001B[A\n",
      "Aligning MLal-t_vJPM:  93%|█████████▎| 359/385 [00:00<00:00, 884.58 Segments/s]\u001B[A\n",
      "Overall Progress:  40%|███▉      | 37/93 [00:25<00:34,  1.64 Computational Sequence Entries/s]\n",
      "  0%|          | 0/266 [00:00<?, ? Segments/s]\u001B[A\n",
      "Aligning Njd1F0vZSm4:   0%|          | 0/266 [00:00<?, ? Segments/s]\u001B[A\n",
      "Aligning Njd1F0vZSm4:  42%|████▏     | 113/266 [00:00<00:00, 1123.57 Segments/s]\u001B[A\n",
      "Aligning Njd1F0vZSm4:  85%|████████▍ | 226/266 [00:00<00:00, 1113.74 Segments/s]\u001B[A\n",
      "Overall Progress:  41%|████      | 38/93 [00:25<00:27,  2.01 Computational Sequence Entries/s]\n",
      "  0%|          | 0/621 [00:00<?, ? Segments/s]\u001B[A\n",
      "Aligning Nzq88NnDkEk:   0%|          | 0/621 [00:00<?, ? Segments/s]\u001B[A\n",
      "Aligning Nzq88NnDkEk:  12%|█▏        | 73/621 [00:00<00:00, 725.76 Segments/s]\u001B[A\n",
      "Aligning Nzq88NnDkEk:  24%|██▍       | 150/621 [00:00<00:00, 749.19 Segments/s]\u001B[A\n",
      "Aligning Nzq88NnDkEk:  36%|███▌      | 225/621 [00:00<00:00, 739.21 Segments/s]\u001B[A\n",
      "Aligning Nzq88NnDkEk:  48%|████▊     | 299/621 [00:00<00:00, 737.87 Segments/s]\u001B[A\n",
      "Aligning Nzq88NnDkEk:  60%|██████    | 373/621 [00:00<00:00, 719.04 Segments/s]\u001B[A\n",
      "Aligning Nzq88NnDkEk:  72%|███████▏  | 445/621 [00:00<00:00, 689.37 Segments/s]\u001B[A\n",
      "Aligning Nzq88NnDkEk:  83%|████████▎ | 515/621 [00:00<00:00, 672.52 Segments/s]\u001B[A\n",
      "Aligning Nzq88NnDkEk:  94%|█████████▍| 583/621 [00:00<00:00, 671.56 Segments/s]\u001B[A\n",
      "Overall Progress:  42%|████▏     | 39/93 [00:26<00:33,  1.62 Computational Sequence Entries/s]\n",
      "  0%|          | 0/311 [00:00<?, ? Segments/s]\u001B[A\n",
      "Aligning OQvJTdtJ2H4:   0%|          | 0/311 [00:00<?, ? Segments/s]\u001B[A\n",
      "Aligning OQvJTdtJ2H4:  31%|███       | 97/311 [00:00<00:00, 969.24 Segments/s]\u001B[A\n",
      "Aligning OQvJTdtJ2H4:  62%|██████▏   | 194/311 [00:00<00:00, 960.71 Segments/s]\u001B[A\n",
      "Aligning OQvJTdtJ2H4:  94%|█████████▍| 292/311 [00:00<00:00, 968.92 Segments/s]\u001B[A\n",
      "Overall Progress:  43%|████▎     | 40/93 [00:27<00:28,  1.89 Computational Sequence Entries/s]\n",
      "  0%|          | 0/597 [00:00<?, ? Segments/s]\u001B[A\n",
      "Aligning OtBXNcAL_lE:   0%|          | 0/597 [00:00<?, ? Segments/s]\u001B[A\n",
      "Aligning OtBXNcAL_lE:  12%|█▏        | 70/597 [00:00<00:00, 695.80 Segments/s]\u001B[A\n",
      "Aligning OtBXNcAL_lE:  23%|██▎       | 140/597 [00:00<00:00, 681.94 Segments/s]\u001B[A\n",
      "Aligning OtBXNcAL_lE:  37%|███▋      | 219/597 [00:00<00:00, 728.68 Segments/s]\u001B[A\n",
      "Aligning OtBXNcAL_lE:  49%|████▉     | 293/597 [00:00<00:00, 731.45 Segments/s]\u001B[A\n",
      "Aligning OtBXNcAL_lE:  61%|██████▏   | 367/597 [00:00<00:00, 716.30 Segments/s]\u001B[A\n",
      "Aligning OtBXNcAL_lE:  74%|███████▍  | 442/597 [00:00<00:00, 726.11 Segments/s]\u001B[A\n",
      "Aligning OtBXNcAL_lE:  86%|████████▋ | 515/597 [00:00<00:00, 726.00 Segments/s]\u001B[A\n",
      "Aligning OtBXNcAL_lE:  98%|█████████▊| 588/597 [00:00<00:00, 720.25 Segments/s]\u001B[A\n",
      "Overall Progress:  44%|████▍     | 41/93 [00:27<00:32,  1.61 Computational Sequence Entries/s]\n",
      "  0%|          | 0/740 [00:00<?, ? Segments/s]\u001B[A\n",
      "Aligning Oz06ZWiO20M:   0%|          | 0/740 [00:00<?, ? Segments/s]\u001B[A\n",
      "Aligning Oz06ZWiO20M:   9%|▉         | 67/740 [00:00<00:01, 666.06 Segments/s]\u001B[A\n",
      "Aligning Oz06ZWiO20M:  18%|█▊        | 135/740 [00:00<00:00, 673.34 Segments/s]\u001B[A\n",
      "Aligning Oz06ZWiO20M:  27%|██▋       | 203/740 [00:00<00:00, 646.62 Segments/s]\u001B[A\n",
      "Aligning Oz06ZWiO20M:  37%|███▋      | 273/740 [00:00<00:00, 665.61 Segments/s]\u001B[A\n",
      "Aligning Oz06ZWiO20M:  46%|████▌     | 340/740 [00:00<00:00, 664.58 Segments/s]\u001B[A\n",
      "Aligning Oz06ZWiO20M:  55%|█████▌    | 407/740 [00:00<00:00, 662.84 Segments/s]\u001B[A\n",
      "Aligning Oz06ZWiO20M:  64%|██████▍   | 475/740 [00:00<00:00, 668.17 Segments/s]\u001B[A\n",
      "Aligning Oz06ZWiO20M:  73%|███████▎  | 542/740 [00:00<00:00, 660.23 Segments/s]\u001B[A\n",
      "Aligning Oz06ZWiO20M:  82%|████████▏ | 609/740 [00:00<00:00, 657.98 Segments/s]\u001B[A\n",
      "Aligning Oz06ZWiO20M:  91%|█████████ | 675/740 [00:01<00:00, 658.43 Segments/s]\u001B[A\n",
      "Overall Progress:  45%|████▌     | 42/93 [00:29<00:39,  1.30 Computational Sequence Entries/s]\n",
      "  0%|          | 0/395 [00:00<?, ? Segments/s]\u001B[A\n",
      "Aligning POKffnXeBds:   0%|          | 0/395 [00:00<?, ? Segments/s]\u001B[A\n",
      "Aligning POKffnXeBds:  23%|██▎       | 90/395 [00:00<00:00, 899.30 Segments/s]\u001B[A\n",
      "Aligning POKffnXeBds:  46%|████▌     | 180/395 [00:00<00:00, 876.06 Segments/s]\u001B[A\n",
      "Aligning POKffnXeBds:  70%|██████▉   | 275/395 [00:00<00:00, 906.98 Segments/s]\u001B[A\n",
      "Aligning POKffnXeBds:  95%|█████████▌| 376/395 [00:00<00:00, 945.13 Segments/s]\u001B[A\n",
      "Overall Progress:  46%|████▌     | 43/93 [00:29<00:33,  1.50 Computational Sequence Entries/s]\n",
      "  0%|          | 0/385 [00:00<?, ? Segments/s]\u001B[A\n",
      "Aligning PZ-lDQFboO8:   0%|          | 0/385 [00:00<?, ? Segments/s]\u001B[A\n",
      "Aligning PZ-lDQFboO8:  23%|██▎       | 87/385 [00:00<00:00, 864.84 Segments/s]\u001B[A\n",
      "Aligning PZ-lDQFboO8:  45%|████▌     | 174/385 [00:00<00:00, 854.70 Segments/s]\u001B[A\n",
      "Aligning PZ-lDQFboO8:  69%|██████▉   | 266/385 [00:00<00:00, 881.36 Segments/s]\u001B[A\n",
      "Aligning PZ-lDQFboO8:  92%|█████████▏| 355/385 [00:00<00:00, 863.79 Segments/s]\u001B[A\n",
      "Overall Progress:  47%|████▋     | 44/93 [00:29<00:29,  1.67 Computational Sequence Entries/s]\n",
      "  0%|          | 0/663 [00:00<?, ? Segments/s]\u001B[A\n",
      "Aligning QN9ZIUWUXsY:   0%|          | 0/663 [00:00<?, ? Segments/s]\u001B[A\n",
      "Aligning QN9ZIUWUXsY:  10%|█         | 67/663 [00:00<00:00, 669.31 Segments/s]\u001B[A\n",
      "Aligning QN9ZIUWUXsY:  21%|██        | 139/663 [00:00<00:00, 694.59 Segments/s]\u001B[A\n",
      "Aligning QN9ZIUWUXsY:  32%|███▏      | 212/663 [00:00<00:00, 710.24 Segments/s]\u001B[A\n",
      "Aligning QN9ZIUWUXsY:  43%|████▎     | 284/663 [00:00<00:00, 713.70 Segments/s]\u001B[A\n",
      "Aligning QN9ZIUWUXsY:  54%|█████▎    | 356/663 [00:00<00:00, 690.89 Segments/s]\u001B[A\n",
      "Aligning QN9ZIUWUXsY:  64%|██████▍   | 426/663 [00:00<00:00, 687.87 Segments/s]\u001B[A\n",
      "Aligning QN9ZIUWUXsY:  75%|███████▍  | 495/663 [00:00<00:00, 664.98 Segments/s]\u001B[A\n",
      "Aligning QN9ZIUWUXsY:  85%|████████▍ | 562/663 [00:00<00:00, 661.25 Segments/s]\u001B[A\n",
      "Aligning QN9ZIUWUXsY:  96%|█████████▌| 634/663 [00:00<00:00, 678.88 Segments/s]\u001B[A\n",
      "Overall Progress:  48%|████▊     | 45/93 [00:30<00:34,  1.41 Computational Sequence Entries/s]\n",
      "  0%|          | 0/484 [00:00<?, ? Segments/s]\u001B[A\n",
      "Aligning Qr1Ca94K55A:   0%|          | 0/484 [00:00<?, ? Segments/s]\u001B[A\n",
      "Aligning Qr1Ca94K55A:  15%|█▌        | 75/484 [00:00<00:00, 748.85 Segments/s]\u001B[A\n",
      "Aligning Qr1Ca94K55A:  33%|███▎      | 162/484 [00:00<00:00, 819.72 Segments/s]\u001B[A\n",
      "Aligning Qr1Ca94K55A:  50%|█████     | 244/484 [00:00<00:00, 803.04 Segments/s]\u001B[A\n",
      "Aligning Qr1Ca94K55A:  67%|██████▋   | 326/484 [00:00<00:00, 806.22 Segments/s]\u001B[A\n",
      "Aligning Qr1Ca94K55A:  84%|████████▍ | 407/484 [00:00<00:00, 803.01 Segments/s]\u001B[A\n",
      "Overall Progress:  49%|████▉     | 46/93 [00:31<00:31,  1.47 Computational Sequence Entries/s]\n",
      "  0%|          | 0/706 [00:00<?, ? Segments/s]\u001B[A\n",
      "Aligning Sqr0AcuoNnk:   0%|          | 0/706 [00:00<?, ? Segments/s]\u001B[A\n",
      "Aligning Sqr0AcuoNnk:   9%|▉         | 66/706 [00:00<00:00, 652.97 Segments/s]\u001B[A\n",
      "Aligning Sqr0AcuoNnk:  19%|█▉        | 136/706 [00:00<00:00, 676.16 Segments/s]\u001B[A\n",
      "Aligning Sqr0AcuoNnk:  29%|██▉       | 205/706 [00:00<00:00, 680.54 Segments/s]\u001B[A\n",
      "Aligning Sqr0AcuoNnk:  40%|███▉      | 280/706 [00:00<00:00, 703.43 Segments/s]\u001B[A\n",
      "Aligning Sqr0AcuoNnk:  50%|████▉     | 351/706 [00:00<00:00, 684.54 Segments/s]\u001B[A\n",
      "Aligning Sqr0AcuoNnk:  60%|█████▉    | 422/706 [00:00<00:00, 690.49 Segments/s]\u001B[A\n",
      "Aligning Sqr0AcuoNnk:  70%|██████▉   | 492/706 [00:00<00:00, 691.15 Segments/s]\u001B[A\n",
      "Aligning Sqr0AcuoNnk:  80%|███████▉  | 562/706 [00:00<00:00, 668.54 Segments/s]\u001B[A\n",
      "Aligning Sqr0AcuoNnk:  89%|████████▉ | 630/706 [00:00<00:00, 664.78 Segments/s]\u001B[A\n",
      "Aligning Sqr0AcuoNnk:  99%|█████████▉| 699/706 [00:01<00:00, 672.12 Segments/s]\u001B[A\n",
      "Overall Progress:  51%|█████     | 47/93 [00:32<00:36,  1.27 Computational Sequence Entries/s]\n",
      "  0%|          | 0/317 [00:00<?, ? Segments/s]\u001B[A\n",
      "Aligning TvyZBvOMOTc:   0%|          | 0/317 [00:00<?, ? Segments/s]\u001B[A\n",
      "Aligning TvyZBvOMOTc:  32%|███▏      | 100/317 [00:00<00:00, 999.10 Segments/s]\u001B[A\n",
      "Aligning TvyZBvOMOTc:  63%|██████▎   | 200/317 [00:00<00:00, 965.02 Segments/s]\u001B[A\n",
      "Aligning TvyZBvOMOTc:  94%|█████████▎| 297/317 [00:00<00:00, 954.06 Segments/s]\u001B[A\n",
      "Overall Progress:  52%|█████▏    | 48/93 [00:32<00:29,  1.53 Computational Sequence Entries/s]\n",
      "  0%|          | 0/611 [00:00<?, ? Segments/s]\u001B[A\n",
      "Aligning VCslbP0mgZI:   0%|          | 0/611 [00:00<?, ? Segments/s]\u001B[A\n",
      "Aligning VCslbP0mgZI:  12%|█▏        | 72/611 [00:00<00:00, 719.44 Segments/s]\u001B[A\n",
      "Aligning VCslbP0mgZI:  24%|██▎       | 145/611 [00:00<00:00, 723.20 Segments/s]\u001B[A\n",
      "Aligning VCslbP0mgZI:  36%|███▌      | 220/611 [00:00<00:00, 735.16 Segments/s]\u001B[A\n",
      "Aligning VCslbP0mgZI:  48%|████▊     | 294/611 [00:00<00:00, 722.24 Segments/s]\u001B[A\n",
      "Aligning VCslbP0mgZI:  60%|██████    | 367/611 [00:00<00:00, 708.24 Segments/s]\u001B[A\n",
      "Aligning VCslbP0mgZI:  72%|███████▏  | 440/611 [00:00<00:00, 714.08 Segments/s]\u001B[A\n",
      "Aligning VCslbP0mgZI:  84%|████████▍ | 512/611 [00:00<00:00, 706.66 Segments/s]\u001B[A\n",
      "Aligning VCslbP0mgZI:  95%|█████████▌| 583/611 [00:00<00:00, 707.54 Segments/s]\u001B[A\n",
      "Overall Progress:  53%|█████▎    | 49/93 [00:33<00:31,  1.40 Computational Sequence Entries/s]\n",
      "  0%|          | 0/751 [00:00<?, ? Segments/s]\u001B[A\n",
      "Aligning VbQk4H8hgr0:   0%|          | 0/751 [00:00<?, ? Segments/s]\u001B[A\n",
      "Aligning VbQk4H8hgr0:   9%|▉         | 71/751 [00:00<00:00, 709.44 Segments/s]\u001B[A\n",
      "Aligning VbQk4H8hgr0:  19%|█▉        | 144/751 [00:00<00:00, 719.06 Segments/s]\u001B[A\n",
      "Aligning VbQk4H8hgr0:  29%|██▉       | 216/751 [00:00<00:00, 692.34 Segments/s]\u001B[A\n",
      "Aligning VbQk4H8hgr0:  38%|███▊      | 286/751 [00:00<00:00, 692.38 Segments/s]\u001B[A\n",
      "Aligning VbQk4H8hgr0:  47%|████▋     | 356/751 [00:00<00:00, 683.93 Segments/s]\u001B[A\n",
      "Aligning VbQk4H8hgr0:  57%|█████▋    | 425/751 [00:00<00:00, 669.05 Segments/s]\u001B[A\n",
      "Aligning VbQk4H8hgr0:  66%|██████▌   | 492/751 [00:00<00:00, 667.03 Segments/s]\u001B[A\n",
      "Aligning VbQk4H8hgr0:  75%|███████▍  | 560/751 [00:00<00:00, 670.84 Segments/s]\u001B[A\n",
      "Aligning VbQk4H8hgr0:  84%|████████▎ | 628/751 [00:00<00:00, 659.17 Segments/s]\u001B[A\n",
      "Aligning VbQk4H8hgr0:  93%|█████████▎| 699/751 [00:01<00:00, 674.30 Segments/s]\u001B[A\n",
      "Overall Progress:  54%|█████▍    | 50/93 [00:34<00:35,  1.20 Computational Sequence Entries/s]\n",
      "  0%|          | 0/622 [00:00<?, ? Segments/s]\u001B[A\n",
      "Aligning Vj1wYRQjB-o:   0%|          | 0/622 [00:00<?, ? Segments/s]\u001B[A\n",
      "Aligning Vj1wYRQjB-o:  11%|█         | 66/622 [00:00<00:00, 659.33 Segments/s]\u001B[A\n",
      "Aligning Vj1wYRQjB-o:  23%|██▎       | 144/622 [00:00<00:00, 729.99 Segments/s]\u001B[A\n",
      "Aligning Vj1wYRQjB-o:  35%|███▌      | 218/622 [00:00<00:00, 703.70 Segments/s]\u001B[A\n",
      "Aligning Vj1wYRQjB-o:  46%|████▋     | 289/622 [00:00<00:00, 704.51 Segments/s]\u001B[A\n",
      "Aligning Vj1wYRQjB-o:  58%|█████▊    | 360/622 [00:00<00:00, 703.74 Segments/s]\u001B[A\n",
      "Aligning Vj1wYRQjB-o:  69%|██████▉   | 432/622 [00:00<00:00, 708.97 Segments/s]\u001B[A\n",
      "Aligning Vj1wYRQjB-o:  81%|████████  | 503/622 [00:00<00:00, 700.00 Segments/s]\u001B[A\n",
      "Aligning Vj1wYRQjB-o:  92%|█████████▏| 574/622 [00:00<00:00, 697.47 Segments/s]\u001B[A\n",
      "Overall Progress:  55%|█████▍    | 51/93 [00:35<00:35,  1.18 Computational Sequence Entries/s]\n",
      "  0%|          | 0/612 [00:00<?, ? Segments/s]\u001B[A\n",
      "Aligning W8NXH0Djyww:   0%|          | 0/612 [00:00<?, ? Segments/s]\u001B[A\n",
      "Aligning W8NXH0Djyww:  11%|█▏        | 69/612 [00:00<00:00, 686.10 Segments/s]\u001B[A\n",
      "Aligning W8NXH0Djyww:  24%|██▎       | 144/612 [00:00<00:00, 718.96 Segments/s]\u001B[A\n",
      "Aligning W8NXH0Djyww:  36%|███▌      | 220/612 [00:00<00:00, 732.33 Segments/s]\u001B[A\n",
      "Aligning W8NXH0Djyww:  48%|████▊     | 294/612 [00:00<00:00, 719.55 Segments/s]\u001B[A\n",
      "Aligning W8NXH0Djyww:  60%|█████▉    | 366/612 [00:00<00:00, 716.95 Segments/s]\u001B[A\n",
      "Aligning W8NXH0Djyww:  72%|███████▏  | 438/612 [00:00<00:00, 710.61 Segments/s]\u001B[A\n",
      "Aligning W8NXH0Djyww:  83%|████████▎ | 510/612 [00:00<00:00, 701.01 Segments/s]\u001B[A\n",
      "Aligning W8NXH0Djyww:  95%|█████████▍| 581/612 [00:00<00:00, 702.53 Segments/s]\u001B[A\n",
      "Overall Progress:  56%|█████▌    | 52/93 [00:36<00:35,  1.17 Computational Sequence Entries/s]\n",
      "  0%|          | 0/621 [00:00<?, ? Segments/s]\u001B[A\n",
      "Aligning WKA5OygbEKI:   0%|          | 0/621 [00:00<?, ? Segments/s]\u001B[A\n",
      "Aligning WKA5OygbEKI:  12%|█▏        | 74/621 [00:00<00:00, 739.46 Segments/s]\u001B[A\n",
      "Aligning WKA5OygbEKI:  24%|██▍       | 148/621 [00:00<00:00, 726.57 Segments/s]\u001B[A\n",
      "Aligning WKA5OygbEKI:  36%|███▌      | 222/621 [00:00<00:00, 732.01 Segments/s]\u001B[A\n",
      "Aligning WKA5OygbEKI:  48%|████▊     | 298/621 [00:00<00:00, 742.78 Segments/s]\u001B[A\n",
      "Aligning WKA5OygbEKI:  60%|██████    | 373/621 [00:00<00:00, 742.46 Segments/s]\u001B[A\n",
      "Aligning WKA5OygbEKI:  72%|███████▏  | 448/621 [00:00<00:00, 728.75 Segments/s]\u001B[A\n",
      "Aligning WKA5OygbEKI:  84%|████████▍ | 521/621 [00:00<00:00, 717.30 Segments/s]\u001B[A\n",
      "Aligning WKA5OygbEKI:  95%|█████████▌| 593/621 [00:00<00:00, 716.85 Segments/s]\u001B[A\n",
      "Overall Progress:  57%|█████▋    | 53/93 [00:37<00:34,  1.17 Computational Sequence Entries/s]\n",
      "  0%|          | 0/249 [00:00<?, ? Segments/s]\u001B[A\n",
      "Aligning X3j2zQgwYgE:   0%|          | 0/249 [00:00<?, ? Segments/s]\u001B[A\n",
      "Aligning X3j2zQgwYgE:  48%|████▊     | 119/249 [00:00<00:00, 1188.29 Segments/s]\u001B[A\n",
      "Aligning X3j2zQgwYgE:  96%|█████████▌| 238/249 [00:00<00:00, 1107.30 Segments/s]\u001B[A\n",
      "Overall Progress:  58%|█████▊    | 54/93 [00:37<00:26,  1.50 Computational Sequence Entries/s]\n",
      "  0%|          | 0/220 [00:00<?, ? Segments/s]\u001B[A\n",
      "Aligning ZAIRrfG22O0:   0%|          | 0/220 [00:00<?, ? Segments/s]\u001B[A\n",
      "Aligning ZAIRrfG22O0:  52%|█████▏    | 115/220 [00:00<00:00, 1143.23 Segments/s]\u001B[A\n",
      "Overall Progress:  59%|█████▉    | 55/93 [00:37<00:20,  1.90 Computational Sequence Entries/s]\n",
      "  0%|          | 0/537 [00:00<?, ? Segments/s]\u001B[A\n",
      "Aligning ZUXBRvtny7o:   0%|          | 0/537 [00:00<?, ? Segments/s]\u001B[A\n",
      "Aligning ZUXBRvtny7o:  14%|█▍        | 77/537 [00:00<00:00, 769.24 Segments/s]\u001B[A\n",
      "Aligning ZUXBRvtny7o:  29%|██▊       | 154/537 [00:00<00:00, 755.87 Segments/s]\u001B[A\n",
      "Aligning ZUXBRvtny7o:  43%|████▎     | 230/537 [00:00<00:00, 743.72 Segments/s]\u001B[A\n",
      "Aligning ZUXBRvtny7o:  57%|█████▋    | 307/537 [00:00<00:00, 750.77 Segments/s]\u001B[A\n",
      "Aligning ZUXBRvtny7o:  72%|███████▏  | 385/537 [00:00<00:00, 758.22 Segments/s]\u001B[A\n",
      "Aligning ZUXBRvtny7o:  86%|████████▌ | 461/537 [00:00<00:00, 752.24 Segments/s]\u001B[A\n",
      "Aligning ZUXBRvtny7o: 100%|██████████| 537/537 [00:00<00:00, 742.58 Segments/s]\u001B[A\n",
      "Overall Progress:  60%|██████    | 56/93 [00:38<00:21,  1.71 Computational Sequence Entries/s]\n",
      "  0%|          | 0/675 [00:00<?, ? Segments/s]\u001B[A\n",
      "Aligning _dI--eQ6qVU:   0%|          | 0/675 [00:00<?, ? Segments/s]\u001B[A\n",
      "Aligning _dI--eQ6qVU:  10%|█         | 68/675 [00:00<00:00, 679.40 Segments/s]\u001B[A\n",
      "Aligning _dI--eQ6qVU:  20%|██        | 136/675 [00:00<00:00, 679.35 Segments/s]\u001B[A\n",
      "Aligning _dI--eQ6qVU:  30%|███       | 204/675 [00:00<00:00, 662.73 Segments/s]\u001B[A\n",
      "Aligning _dI--eQ6qVU:  41%|████▏     | 280/675 [00:00<00:00, 698.93 Segments/s]\u001B[A\n",
      "Aligning _dI--eQ6qVU:  52%|█████▏    | 350/675 [00:00<00:00, 689.26 Segments/s]\u001B[A\n",
      "Aligning _dI--eQ6qVU:  63%|██████▎   | 423/675 [00:00<00:00, 701.51 Segments/s]\u001B[A\n",
      "Aligning _dI--eQ6qVU:  73%|███████▎  | 494/675 [00:00<00:00, 675.65 Segments/s]\u001B[A\n",
      "Aligning _dI--eQ6qVU:  83%|████████▎ | 562/675 [00:00<00:00, 662.58 Segments/s]\u001B[A\n",
      "Aligning _dI--eQ6qVU:  93%|█████████▎| 629/675 [00:00<00:00, 649.07 Segments/s]\u001B[A\n",
      "Overall Progress:  61%|██████▏   | 57/93 [00:39<00:25,  1.40 Computational Sequence Entries/s]\n",
      "  0%|          | 0/591 [00:00<?, ? Segments/s]\u001B[A\n",
      "Aligning aiEXnCPZubE:   0%|          | 0/591 [00:00<?, ? Segments/s]\u001B[A\n",
      "Aligning aiEXnCPZubE:  12%|█▏        | 68/591 [00:00<00:00, 672.60 Segments/s]\u001B[A\n",
      "Aligning aiEXnCPZubE:  23%|██▎       | 137/591 [00:00<00:00, 682.48 Segments/s]\u001B[A\n",
      "Aligning aiEXnCPZubE:  35%|███▌      | 208/591 [00:00<00:00, 693.19 Segments/s]\u001B[A\n",
      "Aligning aiEXnCPZubE:  48%|████▊     | 283/591 [00:00<00:00, 709.70 Segments/s]\u001B[A\n",
      "Aligning aiEXnCPZubE:  60%|██████    | 356/591 [00:00<00:00, 716.62 Segments/s]\u001B[A\n",
      "Aligning aiEXnCPZubE:  72%|███████▏  | 428/591 [00:00<00:00, 715.04 Segments/s]\u001B[A\n",
      "Aligning aiEXnCPZubE:  85%|████████▍ | 500/591 [00:00<00:00, 711.78 Segments/s]\u001B[A\n",
      "Aligning aiEXnCPZubE:  97%|█████████▋| 575/591 [00:00<00:00, 720.27 Segments/s]\u001B[A\n",
      "Overall Progress:  62%|██████▏   | 58/93 [00:40<00:26,  1.33 Computational Sequence Entries/s]\n",
      "  0%|          | 0/557 [00:00<?, ? Segments/s]\u001B[A\n",
      "Aligning atnd_PF-Lbs:   0%|          | 0/557 [00:00<?, ? Segments/s]\u001B[A\n",
      "Aligning atnd_PF-Lbs:  14%|█▍        | 77/557 [00:00<00:00, 765.50 Segments/s]\u001B[A\n",
      "Aligning atnd_PF-Lbs:  28%|██▊       | 154/557 [00:00<00:00, 685.23 Segments/s]\u001B[A\n",
      "Aligning atnd_PF-Lbs:  41%|████      | 227/557 [00:00<00:00, 702.68 Segments/s]\u001B[A\n",
      "Aligning atnd_PF-Lbs:  54%|█████▎    | 298/557 [00:00<00:00, 702.58 Segments/s]\u001B[A\n",
      "Aligning atnd_PF-Lbs:  67%|██████▋   | 372/557 [00:00<00:00, 715.52 Segments/s]\u001B[A\n",
      "Aligning atnd_PF-Lbs:  80%|███████▉  | 444/557 [00:00<00:00, 716.83 Segments/s]\u001B[A\n",
      "Aligning atnd_PF-Lbs:  93%|█████████▎| 518/557 [00:00<00:00, 721.78 Segments/s]\u001B[A\n",
      "Overall Progress:  63%|██████▎   | 59/93 [00:41<00:25,  1.31 Computational Sequence Entries/s]\n",
      "  0%|          | 0/443 [00:00<?, ? Segments/s]\u001B[A\n",
      "Aligning bOL9jKpeJRs:   0%|          | 0/443 [00:00<?, ? Segments/s]\u001B[A\n",
      "Aligning bOL9jKpeJRs:  20%|██        | 90/443 [00:00<00:00, 894.45 Segments/s]\u001B[A\n",
      "Aligning bOL9jKpeJRs:  41%|████      | 180/443 [00:00<00:00, 859.43 Segments/s]\u001B[A\n",
      "Aligning bOL9jKpeJRs:  60%|██████    | 267/443 [00:00<00:00, 852.46 Segments/s]\u001B[A\n",
      "Aligning bOL9jKpeJRs:  80%|███████▉  | 353/443 [00:00<00:00, 851.82 Segments/s]\u001B[A\n",
      "Aligning bOL9jKpeJRs: 100%|██████████| 443/443 [00:00<00:00, 868.61 Segments/s]\u001B[A\n",
      "Overall Progress:  65%|██████▍   | 60/93 [00:41<00:22,  1.45 Computational Sequence Entries/s]\n",
      "  0%|          | 0/595 [00:00<?, ? Segments/s]\u001B[A\n",
      "Aligning bvLlb-M3UXU:   0%|          | 0/595 [00:00<?, ? Segments/s]\u001B[A\n",
      "Aligning bvLlb-M3UXU:  11%|█▏        | 68/595 [00:00<00:00, 669.42 Segments/s]\u001B[A\n",
      "Aligning bvLlb-M3UXU:  23%|██▎       | 135/595 [00:00<00:00, 667.30 Segments/s]\u001B[A\n",
      "Aligning bvLlb-M3UXU:  34%|███▍      | 202/595 [00:00<00:00, 641.99 Segments/s]\u001B[A\n",
      "Aligning bvLlb-M3UXU:  46%|████▌     | 275/595 [00:00<00:00, 674.19 Segments/s]\u001B[A\n",
      "Aligning bvLlb-M3UXU:  58%|█████▊    | 343/595 [00:00<00:00, 665.11 Segments/s]\u001B[A\n",
      "Aligning bvLlb-M3UXU:  69%|██████▉   | 410/595 [00:00<00:00, 656.72 Segments/s]\u001B[A\n",
      "Aligning bvLlb-M3UXU:  80%|████████  | 476/595 [00:00<00:00, 653.32 Segments/s]\u001B[A\n",
      "Aligning bvLlb-M3UXU:  91%|█████████ | 542/595 [00:00<00:00, 652.17 Segments/s]\u001B[A\n",
      "Overall Progress:  66%|██████▌   | 61/93 [00:42<00:24,  1.33 Computational Sequence Entries/s]\n",
      "  0%|          | 0/694 [00:00<?, ? Segments/s]\u001B[A\n",
      "Aligning c5xsKMxpXnc:   0%|          | 0/694 [00:00<?, ? Segments/s]\u001B[A\n",
      "Aligning c5xsKMxpXnc:   9%|▉         | 65/694 [00:00<00:00, 639.93 Segments/s]\u001B[A\n",
      "Aligning c5xsKMxpXnc:  19%|█▉        | 131/694 [00:00<00:00, 651.36 Segments/s]\u001B[A\n",
      "Aligning c5xsKMxpXnc:  29%|██▉       | 200/694 [00:00<00:00, 667.00 Segments/s]\u001B[A\n",
      "Aligning c5xsKMxpXnc:  39%|███▊      | 268/694 [00:00<00:00, 671.87 Segments/s]\u001B[A\n",
      "Aligning c5xsKMxpXnc:  48%|████▊     | 336/694 [00:00<00:00, 657.85 Segments/s]\u001B[A\n",
      "Aligning c5xsKMxpXnc:  58%|█████▊    | 402/694 [00:00<00:00, 654.03 Segments/s]\u001B[A\n",
      "Aligning c5xsKMxpXnc:  67%|██████▋   | 468/694 [00:00<00:00, 653.59 Segments/s]\u001B[A\n",
      "Aligning c5xsKMxpXnc:  77%|███████▋  | 534/694 [00:00<00:00, 652.36 Segments/s]\u001B[A\n",
      "Aligning c5xsKMxpXnc:  86%|████████▋ | 600/694 [00:00<00:00, 651.52 Segments/s]\u001B[A\n",
      "Aligning c5xsKMxpXnc:  97%|█████████▋| 674/694 [00:01<00:00, 678.32 Segments/s]\u001B[A\n",
      "Overall Progress:  67%|██████▋   | 62/93 [00:43<00:26,  1.19 Computational Sequence Entries/s]\n",
      "  0%|          | 0/448 [00:00<?, ? Segments/s]\u001B[A\n",
      "Aligning c7UH_rxdZv4:   0%|          | 0/448 [00:00<?, ? Segments/s]\u001B[A\n",
      "Aligning c7UH_rxdZv4:  16%|█▌        | 70/448 [00:00<00:00, 695.52 Segments/s]\u001B[A\n",
      "Aligning c7UH_rxdZv4:  32%|███▏      | 144/448 [00:00<00:00, 716.98 Segments/s]\u001B[A\n",
      "Aligning c7UH_rxdZv4:  49%|████▉     | 219/448 [00:00<00:00, 725.05 Segments/s]\u001B[A\n",
      "Aligning c7UH_rxdZv4:  65%|██████▌   | 292/448 [00:00<00:00, 719.71 Segments/s]\u001B[A\n",
      "Aligning c7UH_rxdZv4:  81%|████████▏ | 364/448 [00:00<00:00, 698.40 Segments/s]\u001B[A\n",
      "Aligning c7UH_rxdZv4:  99%|█████████▊| 442/448 [00:00<00:00, 722.81 Segments/s]\u001B[A\n",
      "Overall Progress:  68%|██████▊   | 63/93 [00:44<00:23,  1.28 Computational Sequence Entries/s]\n",
      "  0%|          | 0/548 [00:00<?, ? Segments/s]\u001B[A\n",
      "Aligning cM3Yna7AavY:   0%|          | 0/548 [00:00<?, ? Segments/s]\u001B[A\n",
      "Aligning cM3Yna7AavY:  14%|█▎        | 74/548 [00:00<00:00, 739.43 Segments/s]\u001B[A\n",
      "Aligning cM3Yna7AavY:  27%|██▋       | 148/548 [00:00<00:00, 717.93 Segments/s]\u001B[A\n",
      "Aligning cM3Yna7AavY:  41%|████      | 222/548 [00:00<00:00, 725.94 Segments/s]\u001B[A\n",
      "Aligning cM3Yna7AavY:  54%|█████▍    | 298/548 [00:00<00:00, 737.36 Segments/s]\u001B[A\n",
      "Aligning cM3Yna7AavY:  68%|██████▊   | 372/548 [00:00<00:00, 722.60 Segments/s]\u001B[A\n",
      "Aligning cM3Yna7AavY:  81%|████████  | 445/548 [00:00<00:00, 720.10 Segments/s]\u001B[A\n",
      "Aligning cM3Yna7AavY:  95%|█████████▍| 518/548 [00:00<00:00, 718.46 Segments/s]\u001B[A\n",
      "Overall Progress:  69%|██████▉   | 64/93 [00:45<00:22,  1.29 Computational Sequence Entries/s]\n",
      "  0%|          | 0/497 [00:00<?, ? Segments/s]\u001B[A\n",
      "Aligning cW1FSBF59ik:   0%|          | 0/497 [00:00<?, ? Segments/s]\u001B[A\n",
      "Aligning cW1FSBF59ik:  15%|█▍        | 74/497 [00:00<00:00, 735.64 Segments/s]\u001B[A\n",
      "Aligning cW1FSBF59ik:  30%|██▉       | 148/497 [00:00<00:00, 734.36 Segments/s]\u001B[A\n",
      "Aligning cW1FSBF59ik:  46%|████▌     | 229/497 [00:00<00:00, 765.01 Segments/s]\u001B[A\n",
      "Aligning cW1FSBF59ik:  62%|██████▏   | 306/497 [00:00<00:00, 759.27 Segments/s]\u001B[A\n",
      "Aligning cW1FSBF59ik:  77%|███████▋  | 382/497 [00:00<00:00, 747.30 Segments/s]\u001B[A\n",
      "Aligning cW1FSBF59ik:  92%|█████████▏| 457/497 [00:00<00:00, 736.92 Segments/s]\u001B[A\n",
      "Overall Progress:  70%|██████▉   | 65/93 [00:45<00:20,  1.35 Computational Sequence Entries/s]\n",
      "  0%|          | 0/717 [00:00<?, ? Segments/s]\u001B[A\n",
      "Aligning cXypl4FnoZo:   0%|          | 0/717 [00:00<?, ? Segments/s]\u001B[A\n",
      "Aligning cXypl4FnoZo:  10%|▉         | 70/717 [00:00<00:00, 699.50 Segments/s]\u001B[A\n",
      "Aligning cXypl4FnoZo:  20%|█▉        | 140/717 [00:00<00:00, 697.39 Segments/s]\u001B[A\n",
      "Aligning cXypl4FnoZo:  29%|██▉       | 210/717 [00:00<00:00, 692.00 Segments/s]\u001B[A\n",
      "Aligning cXypl4FnoZo:  39%|███▉      | 280/717 [00:00<00:00, 694.90 Segments/s]\u001B[A\n",
      "Aligning cXypl4FnoZo:  49%|████▉     | 350/717 [00:00<00:00, 673.58 Segments/s]\u001B[A\n",
      "Aligning cXypl4FnoZo:  58%|█████▊    | 418/717 [00:00<00:00, 655.95 Segments/s]\u001B[A\n",
      "Aligning cXypl4FnoZo:  68%|██████▊   | 487/717 [00:00<00:00, 666.49 Segments/s]\u001B[A\n",
      "Aligning cXypl4FnoZo:  78%|███████▊  | 557/717 [00:00<00:00, 674.62 Segments/s]\u001B[A\n",
      "Aligning cXypl4FnoZo:  87%|████████▋ | 625/717 [00:00<00:00, 670.83 Segments/s]\u001B[A\n",
      "Aligning cXypl4FnoZo:  97%|█████████▋| 693/717 [00:01<00:00, 662.41 Segments/s]\u001B[A\n",
      "Overall Progress:  71%|███████   | 66/93 [00:46<00:22,  1.19 Computational Sequence Entries/s]\n",
      "  0%|          | 0/572 [00:00<?, ? Segments/s]\u001B[A\n",
      "Aligning d3_k5Xpfmik:   0%|          | 0/572 [00:00<?, ? Segments/s]\u001B[A\n",
      "Aligning d3_k5Xpfmik:  13%|█▎        | 73/572 [00:00<00:00, 725.85 Segments/s]\u001B[A\n",
      "Aligning d3_k5Xpfmik:  26%|██▌       | 150/572 [00:00<00:00, 751.39 Segments/s]\u001B[A\n",
      "Aligning d3_k5Xpfmik:  40%|███▉      | 226/572 [00:00<00:00, 753.34 Segments/s]\u001B[A\n",
      "Aligning d3_k5Xpfmik:  53%|█████▎    | 302/572 [00:00<00:00, 746.94 Segments/s]\u001B[A\n",
      "Aligning d3_k5Xpfmik:  66%|██████▌   | 377/572 [00:00<00:00, 733.22 Segments/s]\u001B[A\n",
      "Aligning d3_k5Xpfmik:  79%|███████▉  | 451/572 [00:00<00:00, 724.43 Segments/s]\u001B[A\n",
      "Aligning d3_k5Xpfmik:  92%|█████████▏| 524/572 [00:00<00:00, 719.15 Segments/s]\u001B[A\n",
      "Overall Progress:  72%|███████▏  | 67/93 [00:47<00:21,  1.21 Computational Sequence Entries/s]\n",
      "  0%|          | 0/481 [00:00<?, ? Segments/s]\u001B[A\n",
      "Aligning d6hH302o4v8:   0%|          | 0/481 [00:00<?, ? Segments/s]\u001B[A\n",
      "Aligning d6hH302o4v8:  17%|█▋        | 83/481 [00:00<00:00, 825.29 Segments/s]\u001B[A\n",
      "Aligning d6hH302o4v8:  35%|███▍      | 166/481 [00:00<00:00, 813.04 Segments/s]\u001B[A\n",
      "Aligning d6hH302o4v8:  52%|█████▏    | 248/481 [00:00<00:00, 810.42 Segments/s]\u001B[A\n",
      "Aligning d6hH302o4v8:  69%|██████▊   | 330/481 [00:00<00:00, 809.15 Segments/s]\u001B[A\n",
      "Aligning d6hH302o4v8:  86%|████████▌ | 413/481 [00:00<00:00, 816.35 Segments/s]\u001B[A\n",
      "Overall Progress:  73%|███████▎  | 68/93 [00:48<00:18,  1.32 Computational Sequence Entries/s]\n",
      "  0%|          | 0/287 [00:00<?, ? Segments/s]\u001B[A\n",
      "Aligning dq3Nf_lMPnE:   0%|          | 0/287 [00:00<?, ? Segments/s]\u001B[A\n",
      "Aligning dq3Nf_lMPnE:  37%|███▋      | 105/287 [00:00<00:00, 1044.01 Segments/s]\u001B[A\n",
      "Aligning dq3Nf_lMPnE:  73%|███████▎  | 210/287 [00:00<00:00, 1017.16 Segments/s]\u001B[A\n",
      "Overall Progress:  74%|███████▍  | 69/93 [00:48<00:14,  1.62 Computational Sequence Entries/s]\n",
      "  0%|          | 0/687 [00:00<?, ? Segments/s]\u001B[A\n",
      "Aligning etzxEpPuc6I:   0%|          | 0/687 [00:00<?, ? Segments/s]\u001B[A\n",
      "Aligning etzxEpPuc6I:  10%|█         | 69/687 [00:00<00:00, 669.41 Segments/s]\u001B[A\n",
      "Aligning etzxEpPuc6I:  20%|██        | 138/687 [00:00<00:00, 679.13 Segments/s]\u001B[A\n",
      "Aligning etzxEpPuc6I:  30%|██▉       | 206/687 [00:00<00:00, 658.40 Segments/s]\u001B[A\n",
      "Aligning etzxEpPuc6I:  40%|███▉      | 273/687 [00:00<00:00, 661.10 Segments/s]\u001B[A\n",
      "Aligning etzxEpPuc6I:  50%|████▉     | 341/687 [00:00<00:00, 667.61 Segments/s]\u001B[A\n",
      "Aligning etzxEpPuc6I:  60%|█████▉    | 412/687 [00:00<00:00, 679.39 Segments/s]\u001B[A\n",
      "Aligning etzxEpPuc6I:  70%|███████   | 482/687 [00:00<00:00, 685.89 Segments/s]\u001B[A\n",
      "Aligning etzxEpPuc6I:  80%|████████  | 551/687 [00:00<00:00, 651.72 Segments/s]\u001B[A\n",
      "Aligning etzxEpPuc6I:  90%|█████████ | 620/687 [00:00<00:00, 662.90 Segments/s]\u001B[A\n",
      "Overall Progress:  75%|███████▌  | 70/93 [00:49<00:17,  1.35 Computational Sequence Entries/s]\n",
      "  0%|          | 0/500 [00:00<?, ? Segments/s]\u001B[A\n",
      "Aligning f9O3YtZ2VfI:   0%|          | 0/500 [00:00<?, ? Segments/s]\u001B[A\n",
      "Aligning f9O3YtZ2VfI:  15%|█▍        | 74/500 [00:00<00:00, 735.75 Segments/s]\u001B[A\n",
      "Aligning f9O3YtZ2VfI:  31%|███       | 153/500 [00:00<00:00, 764.70 Segments/s]\u001B[A\n",
      "Aligning f9O3YtZ2VfI:  46%|████▌     | 230/500 [00:00<00:00, 729.79 Segments/s]\u001B[A\n",
      "Aligning f9O3YtZ2VfI:  61%|██████    | 304/500 [00:00<00:00, 719.68 Segments/s]\u001B[A\n",
      "Aligning f9O3YtZ2VfI:  76%|███████▌  | 381/500 [00:00<00:00, 737.01 Segments/s]\u001B[A\n",
      "Aligning f9O3YtZ2VfI:  93%|█████████▎| 463/500 [00:00<00:00, 763.11 Segments/s]\u001B[A\n",
      "Overall Progress:  76%|███████▋  | 71/93 [00:50<00:15,  1.39 Computational Sequence Entries/s]\n",
      "  0%|          | 0/456 [00:00<?, ? Segments/s]\u001B[A\n",
      "Aligning f_pcplsH_V0:   0%|          | 0/456 [00:00<?, ? Segments/s]\u001B[A\n",
      "Aligning f_pcplsH_V0:  15%|█▌        | 70/456 [00:00<00:00, 698.32 Segments/s]\u001B[A\n",
      "Aligning f_pcplsH_V0:  33%|███▎      | 149/456 [00:00<00:00, 751.52 Segments/s]\u001B[A\n",
      "Aligning f_pcplsH_V0:  50%|█████     | 229/456 [00:00<00:00, 771.38 Segments/s]\u001B[A\n",
      "Aligning f_pcplsH_V0:  67%|██████▋   | 307/456 [00:00<00:00, 765.42 Segments/s]\u001B[A\n",
      "Aligning f_pcplsH_V0:  84%|████████▍ | 384/456 [00:00<00:00, 741.68 Segments/s]\u001B[A\n",
      "Overall Progress:  77%|███████▋  | 72/93 [00:50<00:14,  1.45 Computational Sequence Entries/s]\n",
      "  0%|          | 0/642 [00:00<?, ? Segments/s]\u001B[A\n",
      "Aligning fvVhgmXxadc:   0%|          | 0/642 [00:00<?, ? Segments/s]\u001B[A\n",
      "Aligning fvVhgmXxadc:  11%|█         | 70/642 [00:00<00:00, 695.20 Segments/s]\u001B[A\n",
      "Aligning fvVhgmXxadc:  22%|██▏       | 140/642 [00:00<00:00, 687.46 Segments/s]\u001B[A\n",
      "Aligning fvVhgmXxadc:  33%|███▎      | 209/642 [00:00<00:00, 672.94 Segments/s]\u001B[A\n",
      "Aligning fvVhgmXxadc:  43%|████▎     | 277/642 [00:00<00:00, 665.18 Segments/s]\u001B[A\n",
      "Aligning fvVhgmXxadc:  54%|█████▎    | 344/642 [00:00<00:00, 665.49 Segments/s]\u001B[A\n",
      "Aligning fvVhgmXxadc:  64%|██████▍   | 411/642 [00:00<00:00, 666.71 Segments/s]\u001B[A\n",
      "Aligning fvVhgmXxadc:  74%|███████▍  | 478/642 [00:00<00:00, 667.62 Segments/s]\u001B[A\n",
      "Aligning fvVhgmXxadc:  85%|████████▍ | 545/642 [00:00<00:00, 668.22 Segments/s]\u001B[A\n",
      "Aligning fvVhgmXxadc:  96%|█████████▌| 614/642 [00:00<00:00, 672.78 Segments/s]\u001B[A\n",
      "Overall Progress:  78%|███████▊  | 73/93 [00:51<00:15,  1.30 Computational Sequence Entries/s]\n",
      "  0%|          | 0/306 [00:00<?, ? Segments/s]\u001B[A\n",
      "Aligning iiK8YX8oH1E:   0%|          | 0/306 [00:00<?, ? Segments/s]\u001B[A\n",
      "Aligning iiK8YX8oH1E:  31%|███       | 94/306 [00:00<00:00, 939.29 Segments/s]\u001B[A\n",
      "Aligning iiK8YX8oH1E:  61%|██████▏   | 188/306 [00:00<00:00, 925.60 Segments/s]\u001B[A\n",
      "Aligning iiK8YX8oH1E:  92%|█████████▏| 282/306 [00:00<00:00, 925.56 Segments/s]\u001B[A\n",
      "Overall Progress:  80%|███████▉  | 74/93 [00:52<00:12,  1.57 Computational Sequence Entries/s]\n",
      "  0%|          | 0/638 [00:00<?, ? Segments/s]\u001B[A\n",
      "Aligning jUzDDGyPkXU:   0%|          | 0/638 [00:00<?, ? Segments/s]\u001B[A\n",
      "Aligning jUzDDGyPkXU:  11%|█         | 69/638 [00:00<00:00, 689.52 Segments/s]\u001B[A\n",
      "Aligning jUzDDGyPkXU:  22%|██▏       | 143/638 [00:00<00:00, 716.69 Segments/s]\u001B[A\n",
      "Aligning jUzDDGyPkXU:  34%|███▎      | 215/638 [00:00<00:00, 697.26 Segments/s]\u001B[A\n",
      "Aligning jUzDDGyPkXU:  45%|████▌     | 290/638 [00:00<00:00, 717.42 Segments/s]\u001B[A\n",
      "Aligning jUzDDGyPkXU:  57%|█████▋    | 362/638 [00:00<00:00, 702.99 Segments/s]\u001B[A\n",
      "Aligning jUzDDGyPkXU:  68%|██████▊   | 433/638 [00:00<00:00, 695.70 Segments/s]\u001B[A\n",
      "Aligning jUzDDGyPkXU:  79%|███████▉  | 503/638 [00:00<00:00, 693.59 Segments/s]\u001B[A\n",
      "Aligning jUzDDGyPkXU:  90%|████████▉ | 573/638 [00:00<00:00, 691.10 Segments/s]\u001B[A\n",
      "Overall Progress:  81%|████████  | 75/93 [00:53<00:13,  1.38 Computational Sequence Entries/s]\n",
      "  0%|          | 0/623 [00:00<?, ? Segments/s]\u001B[A\n",
      "Aligning k5Y_838nuGo:   0%|          | 0/623 [00:00<?, ? Segments/s]\u001B[A\n",
      "Aligning k5Y_838nuGo:  12%|█▏        | 73/623 [00:00<00:00, 719.35 Segments/s]\u001B[A\n",
      "Aligning k5Y_838nuGo:  23%|██▎       | 145/623 [00:00<00:00, 700.97 Segments/s]\u001B[A\n",
      "Aligning k5Y_838nuGo:  35%|███▍      | 216/623 [00:00<00:00, 703.22 Segments/s]\u001B[A\n",
      "Aligning k5Y_838nuGo:  46%|████▌     | 287/623 [00:00<00:00, 683.00 Segments/s]\u001B[A\n",
      "Aligning k5Y_838nuGo:  59%|█████▊    | 366/623 [00:00<00:00, 720.31 Segments/s]\u001B[A\n",
      "Aligning k5Y_838nuGo:  70%|███████   | 439/623 [00:00<00:00, 719.74 Segments/s]\u001B[A\n",
      "Aligning k5Y_838nuGo:  82%|████████▏ | 512/623 [00:00<00:00, 721.71 Segments/s]\u001B[A\n",
      "Aligning k5Y_838nuGo:  94%|█████████▍| 585/623 [00:00<00:00, 708.54 Segments/s]\u001B[A\n",
      "Overall Progress:  82%|████████▏ | 76/93 [00:53<00:13,  1.30 Computational Sequence Entries/s]\n",
      "  0%|          | 0/655 [00:00<?, ? Segments/s]\u001B[A\n",
      "Aligning lXPQBPVc5Cw:   0%|          | 0/655 [00:00<?, ? Segments/s]\u001B[A\n",
      "Aligning lXPQBPVc5Cw:  10%|█         | 68/655 [00:00<00:00, 676.18 Segments/s]\u001B[A\n",
      "Aligning lXPQBPVc5Cw:  22%|██▏       | 144/655 [00:00<00:00, 725.02 Segments/s]\u001B[A\n",
      "Aligning lXPQBPVc5Cw:  33%|███▎      | 218/655 [00:00<00:00, 731.56 Segments/s]\u001B[A\n",
      "Aligning lXPQBPVc5Cw:  45%|████▍     | 292/655 [00:00<00:00, 683.41 Segments/s]\u001B[A\n",
      "Aligning lXPQBPVc5Cw:  55%|█████▌    | 361/655 [00:00<00:00, 679.64 Segments/s]\u001B[A\n",
      "Aligning lXPQBPVc5Cw:  66%|██████▌   | 433/655 [00:00<00:00, 690.42 Segments/s]\u001B[A\n",
      "Aligning lXPQBPVc5Cw:  77%|███████▋  | 503/655 [00:00<00:00, 672.92 Segments/s]\u001B[A\n",
      "Aligning lXPQBPVc5Cw:  87%|████████▋ | 573/655 [00:00<00:00, 678.99 Segments/s]\u001B[A\n",
      "Aligning lXPQBPVc5Cw:  98%|█████████▊| 644/655 [00:00<00:00, 686.15 Segments/s]\u001B[A\n",
      "Overall Progress:  83%|████████▎ | 77/93 [00:54<00:13,  1.21 Computational Sequence Entries/s]\n",
      "  0%|          | 0/593 [00:00<?, ? Segments/s]\u001B[A\n",
      "Aligning nbWiPyCm4g0:   0%|          | 0/593 [00:00<?, ? Segments/s]\u001B[A\n",
      "Aligning nbWiPyCm4g0:  12%|█▏        | 70/593 [00:00<00:00, 695.89 Segments/s]\u001B[A\n",
      "Aligning nbWiPyCm4g0:  24%|██▎       | 140/593 [00:00<00:00, 689.88 Segments/s]\u001B[A\n",
      "Aligning nbWiPyCm4g0:  35%|███▌      | 210/593 [00:00<00:00, 694.25 Segments/s]\u001B[A\n",
      "Aligning nbWiPyCm4g0:  48%|████▊     | 282/593 [00:00<00:00, 700.01 Segments/s]\u001B[A\n",
      "Aligning nbWiPyCm4g0:  60%|█████▉    | 353/593 [00:00<00:00, 688.59 Segments/s]\u001B[A\n",
      "Aligning nbWiPyCm4g0:  71%|███████   | 422/593 [00:00<00:00, 679.77 Segments/s]\u001B[A\n",
      "Aligning nbWiPyCm4g0:  83%|████████▎ | 491/593 [00:00<00:00, 672.13 Segments/s]\u001B[A\n",
      "Aligning nbWiPyCm4g0:  94%|█████████▍| 560/593 [00:00<00:00, 677.52 Segments/s]\u001B[A\n",
      "Overall Progress:  84%|████████▍ | 78/93 [00:55<00:12,  1.19 Computational Sequence Entries/s]\n",
      "  0%|          | 0/574 [00:00<?, ? Segments/s]\u001B[A\n",
      "Aligning nzpVDcQ0ywM:   0%|          | 0/574 [00:00<?, ? Segments/s]\u001B[A\n",
      "Aligning nzpVDcQ0ywM:  12%|█▏        | 71/574 [00:00<00:00, 709.48 Segments/s]\u001B[A\n",
      "Aligning nzpVDcQ0ywM:  25%|██▌       | 146/574 [00:00<00:00, 728.69 Segments/s]\u001B[A\n",
      "Aligning nzpVDcQ0ywM:  38%|███▊      | 219/574 [00:00<00:00, 719.24 Segments/s]\u001B[A\n",
      "Aligning nzpVDcQ0ywM:  51%|█████     | 291/574 [00:00<00:00, 713.47 Segments/s]\u001B[A\n",
      "Aligning nzpVDcQ0ywM:  63%|██████▎   | 363/574 [00:00<00:00, 699.38 Segments/s]\u001B[A\n",
      "Aligning nzpVDcQ0ywM:  76%|███████▌  | 436/574 [00:00<00:00, 708.22 Segments/s]\u001B[A\n",
      "Aligning nzpVDcQ0ywM:  88%|████████▊ | 507/574 [00:00<00:00, 702.95 Segments/s]\u001B[A\n",
      "Overall Progress:  85%|████████▍ | 79/93 [00:56<00:11,  1.20 Computational Sequence Entries/s]\n",
      "  0%|          | 0/413 [00:00<?, ? Segments/s]\u001B[A\n",
      "Aligning ob23OKe5a9Q:   0%|          | 0/413 [00:00<?, ? Segments/s]\u001B[A\n",
      "Aligning ob23OKe5a9Q:  19%|█▊        | 77/413 [00:00<00:00, 769.34 Segments/s]\u001B[A\n",
      "Aligning ob23OKe5a9Q:  41%|████      | 168/413 [00:00<00:00, 849.19 Segments/s]\u001B[A\n",
      "Aligning ob23OKe5a9Q:  62%|██████▏   | 254/413 [00:00<00:00, 851.20 Segments/s]\u001B[A\n",
      "Aligning ob23OKe5a9Q:  82%|████████▏ | 340/413 [00:00<00:00, 832.90 Segments/s]\u001B[A\n",
      "Overall Progress:  86%|████████▌ | 80/93 [00:57<00:09,  1.36 Computational Sequence Entries/s]\n",
      "  0%|          | 0/489 [00:00<?, ? Segments/s]\u001B[A\n",
      "Aligning pLTX3ipuDJI:   0%|          | 0/489 [00:00<?, ? Segments/s]\u001B[A\n",
      "Aligning pLTX3ipuDJI:  16%|█▌        | 79/489 [00:00<00:00, 785.49 Segments/s]\u001B[A\n",
      "Aligning pLTX3ipuDJI:  32%|███▏      | 158/489 [00:00<00:00, 787.71 Segments/s]\u001B[A\n",
      "Aligning pLTX3ipuDJI:  50%|█████     | 245/489 [00:00<00:00, 823.06 Segments/s]\u001B[A\n",
      "Aligning pLTX3ipuDJI:  67%|██████▋   | 328/489 [00:00<00:00, 819.08 Segments/s]\u001B[A\n",
      "Aligning pLTX3ipuDJI:  84%|████████▍ | 410/489 [00:00<00:00, 816.29 Segments/s]\u001B[A\n",
      "Overall Progress:  87%|████████▋ | 81/93 [00:57<00:08,  1.44 Computational Sequence Entries/s]\n",
      "  0%|          | 0/720 [00:00<?, ? Segments/s]\u001B[A\n",
      "Aligning phBUpBr1hSo:   0%|          | 0/720 [00:00<?, ? Segments/s]\u001B[A\n",
      "Aligning phBUpBr1hSo:  10%|▉         | 70/720 [00:00<00:00, 699.42 Segments/s]\u001B[A\n",
      "Aligning phBUpBr1hSo:  19%|█▉        | 140/720 [00:00<00:00, 664.29 Segments/s]\u001B[A\n",
      "Aligning phBUpBr1hSo:  29%|██▉       | 207/720 [00:00<00:00, 663.65 Segments/s]\u001B[A\n",
      "Aligning phBUpBr1hSo:  38%|███▊      | 277/720 [00:00<00:00, 674.87 Segments/s]\u001B[A\n",
      "Aligning phBUpBr1hSo:  48%|████▊     | 345/720 [00:00<00:00, 667.01 Segments/s]\u001B[A\n",
      "Aligning phBUpBr1hSo:  57%|█████▋    | 413/720 [00:00<00:00, 671.15 Segments/s]\u001B[A\n",
      "Aligning phBUpBr1hSo:  67%|██████▋   | 481/720 [00:00<00:00, 656.87 Segments/s]\u001B[A\n",
      "Aligning phBUpBr1hSo:  76%|███████▌  | 548/720 [00:00<00:00, 659.76 Segments/s]\u001B[A\n",
      "Aligning phBUpBr1hSo:  85%|████████▌ | 615/720 [00:00<00:00, 648.82 Segments/s]\u001B[A\n",
      "Aligning phBUpBr1hSo:  95%|█████████▍| 681/720 [00:01<00:00, 652.02 Segments/s]\u001B[A\n",
      "Overall Progress:  88%|████████▊ | 82/93 [00:58<00:08,  1.23 Computational Sequence Entries/s]\n",
      "  0%|          | 0/701 [00:00<?, ? Segments/s]\u001B[A\n",
      "Aligning rnaNMUZpvvg:   0%|          | 0/701 [00:00<?, ? Segments/s]\u001B[A\n",
      "Aligning rnaNMUZpvvg:  10%|▉         | 67/701 [00:00<00:00, 665.60 Segments/s]\u001B[A\n",
      "Aligning rnaNMUZpvvg:  19%|█▉        | 134/701 [00:00<00:00, 663.95 Segments/s]\u001B[A\n",
      "Aligning rnaNMUZpvvg:  29%|██▉       | 205/701 [00:00<00:00, 681.39 Segments/s]\u001B[A\n",
      "Aligning rnaNMUZpvvg:  39%|███▉      | 274/701 [00:00<00:00, 681.66 Segments/s]\u001B[A\n",
      "Aligning rnaNMUZpvvg:  49%|████▉     | 343/701 [00:00<00:00, 675.65 Segments/s]\u001B[A\n",
      "Aligning rnaNMUZpvvg:  59%|█████▊    | 411/701 [00:00<00:00, 663.44 Segments/s]\u001B[A\n",
      "Aligning rnaNMUZpvvg:  68%|██████▊   | 478/701 [00:00<00:00, 660.09 Segments/s]\u001B[A\n",
      "Aligning rnaNMUZpvvg:  78%|███████▊  | 545/701 [00:00<00:00, 657.67 Segments/s]\u001B[A\n",
      "Aligning rnaNMUZpvvg:  88%|████████▊ | 615/701 [00:00<00:00, 669.46 Segments/s]\u001B[A\n",
      "Aligning rnaNMUZpvvg:  98%|█████████▊| 684/701 [00:01<00:00, 673.47 Segments/s]\u001B[A\n",
      "Overall Progress:  89%|████████▉ | 83/93 [00:59<00:08,  1.13 Computational Sequence Entries/s]\n",
      "  0%|          | 0/589 [00:00<?, ? Segments/s]\u001B[A\n",
      "Aligning tIrG4oNLFzE:   0%|          | 0/589 [00:00<?, ? Segments/s]\u001B[A\n",
      "Aligning tIrG4oNLFzE:  13%|█▎        | 75/589 [00:00<00:00, 742.11 Segments/s]\u001B[A\n",
      "Aligning tIrG4oNLFzE:  25%|██▌       | 150/589 [00:00<00:00, 712.96 Segments/s]\u001B[A\n",
      "Aligning tIrG4oNLFzE:  38%|███▊      | 222/589 [00:00<00:00, 709.51 Segments/s]\u001B[A\n",
      "Aligning tIrG4oNLFzE:  51%|█████     | 298/589 [00:00<00:00, 728.74 Segments/s]\u001B[A\n",
      "Aligning tIrG4oNLFzE:  63%|██████▎   | 374/589 [00:00<00:00, 737.02 Segments/s]\u001B[A\n",
      "Aligning tIrG4oNLFzE:  76%|███████▌  | 448/589 [00:00<00:00, 728.03 Segments/s]\u001B[A\n",
      "Aligning tIrG4oNLFzE:  88%|████████▊ | 521/589 [00:00<00:00, 716.98 Segments/s]\u001B[A\n",
      "Overall Progress:  90%|█████████ | 84/93 [01:00<00:07,  1.16 Computational Sequence Entries/s]\n",
      "  0%|          | 0/429 [00:00<?, ? Segments/s]\u001B[A\n",
      "Aligning tStelxIAHjw:   0%|          | 0/429 [00:00<?, ? Segments/s]\u001B[A\n",
      "Aligning tStelxIAHjw:  20%|█▉        | 85/429 [00:00<00:00, 845.06 Segments/s]\u001B[A\n",
      "Aligning tStelxIAHjw:  40%|████      | 173/429 [00:00<00:00, 865.11 Segments/s]\u001B[A\n",
      "Aligning tStelxIAHjw:  61%|██████    | 260/429 [00:00<00:00, 837.83 Segments/s]\u001B[A\n",
      "Aligning tStelxIAHjw:  81%|████████  | 346/429 [00:00<00:00, 845.98 Segments/s]\u001B[A\n",
      "Overall Progress:  91%|█████████▏| 85/93 [01:01<00:06,  1.31 Computational Sequence Entries/s]\n",
      "  0%|          | 0/376 [00:00<?, ? Segments/s]\u001B[A\n",
      "Aligning tmZoasNr4rU:   0%|          | 0/376 [00:00<?, ? Segments/s]\u001B[A\n",
      "Aligning tmZoasNr4rU:  23%|██▎       | 86/376 [00:00<00:00, 859.22 Segments/s]\u001B[A\n",
      "Aligning tmZoasNr4rU:  46%|████▌     | 172/376 [00:00<00:00, 827.37 Segments/s]\u001B[A\n",
      "Aligning tmZoasNr4rU:  69%|██████▊   | 258/376 [00:00<00:00, 841.72 Segments/s]\u001B[A\n",
      "Aligning tmZoasNr4rU:  91%|█████████ | 343/376 [00:00<00:00, 826.94 Segments/s]\u001B[A\n",
      "Overall Progress:  92%|█████████▏| 86/93 [01:01<00:04,  1.50 Computational Sequence Entries/s]\n",
      "  0%|          | 0/470 [00:00<?, ? Segments/s]\u001B[A\n",
      "Aligning v0zCBqDeKcE:   0%|          | 0/470 [00:00<?, ? Segments/s]\u001B[A\n",
      "Aligning v0zCBqDeKcE:  16%|█▋        | 77/470 [00:00<00:00, 769.55 Segments/s]\u001B[A\n",
      "Aligning v0zCBqDeKcE:  33%|███▎      | 156/470 [00:00<00:00, 781.24 Segments/s]\u001B[A\n",
      "Aligning v0zCBqDeKcE:  50%|█████     | 235/470 [00:00<00:00, 776.10 Segments/s]\u001B[A\n",
      "Aligning v0zCBqDeKcE:  67%|██████▋   | 313/470 [00:00<00:00, 768.37 Segments/s]\u001B[A\n",
      "Aligning v0zCBqDeKcE:  83%|████████▎ | 390/470 [00:00<00:00, 744.58 Segments/s]\u001B[A\n",
      "Aligning v0zCBqDeKcE:  99%|█████████▉| 465/470 [00:00<00:00, 742.06 Segments/s]\u001B[A\n",
      "Overall Progress:  94%|█████████▎| 87/93 [01:02<00:03,  1.52 Computational Sequence Entries/s]\n",
      "  0%|          | 0/610 [00:00<?, ? Segments/s]\u001B[A\n",
      "Aligning vvZ4IcEtiZc:   0%|          | 0/610 [00:00<?, ? Segments/s]\u001B[A\n",
      "Aligning vvZ4IcEtiZc:  12%|█▏        | 72/610 [00:00<00:00, 712.36 Segments/s]\u001B[A\n",
      "Aligning vvZ4IcEtiZc:  24%|██▎       | 144/610 [00:00<00:00, 712.33 Segments/s]\u001B[A\n",
      "Aligning vvZ4IcEtiZc:  35%|███▌      | 216/610 [00:00<00:00, 687.43 Segments/s]\u001B[A\n",
      "Aligning vvZ4IcEtiZc:  47%|████▋     | 288/610 [00:00<00:00, 697.07 Segments/s]\u001B[A\n",
      "Aligning vvZ4IcEtiZc:  59%|█████▊    | 358/610 [00:00<00:00, 697.92 Segments/s]\u001B[A\n",
      "Aligning vvZ4IcEtiZc:  70%|███████   | 430/610 [00:00<00:00, 703.97 Segments/s]\u001B[A\n",
      "Aligning vvZ4IcEtiZc:  82%|████████▏ | 501/610 [00:00<00:00, 684.71 Segments/s]\u001B[A\n",
      "Aligning vvZ4IcEtiZc:  95%|█████████▍| 578/610 [00:00<00:00, 708.70 Segments/s]\u001B[A\n",
      "Overall Progress:  95%|█████████▍| 88/93 [01:03<00:03,  1.39 Computational Sequence Entries/s]\n",
      "  0%|          | 0/589 [00:00<?, ? Segments/s]\u001B[A\n",
      "Aligning vyB00TXsimI:   0%|          | 0/589 [00:00<?, ? Segments/s]\u001B[A\n",
      "Aligning vyB00TXsimI:  12%|█▏        | 72/589 [00:00<00:00, 719.39 Segments/s]\u001B[A\n",
      "Aligning vyB00TXsimI:  25%|██▍       | 146/589 [00:00<00:00, 731.05 Segments/s]\u001B[A\n",
      "Aligning vyB00TXsimI:  37%|███▋      | 220/589 [00:00<00:00, 704.13 Segments/s]\u001B[A\n",
      "Aligning vyB00TXsimI:  49%|████▉     | 291/589 [00:00<00:00, 683.77 Segments/s]\u001B[A\n",
      "Aligning vyB00TXsimI:  62%|██████▏   | 364/589 [00:00<00:00, 697.22 Segments/s]\u001B[A\n",
      "Aligning vyB00TXsimI:  74%|███████▎  | 434/589 [00:00<00:00, 683.25 Segments/s]\u001B[A\n",
      "Aligning vyB00TXsimI:  85%|████████▌ | 503/589 [00:00<00:00, 671.39 Segments/s]\u001B[A\n",
      "Aligning vyB00TXsimI:  97%|█████████▋| 574/589 [00:00<00:00, 682.75 Segments/s]\u001B[A\n",
      "Overall Progress:  96%|█████████▌| 89/93 [01:03<00:03,  1.31 Computational Sequence Entries/s]\n",
      "  0%|          | 0/690 [00:00<?, ? Segments/s]\u001B[A\n",
      "Aligning wMbj6ajWbic:   0%|          | 0/690 [00:00<?, ? Segments/s]\u001B[A\n",
      "Aligning wMbj6ajWbic:  10%|▉         | 68/690 [00:00<00:00, 679.49 Segments/s]\u001B[A\n",
      "Aligning wMbj6ajWbic:  20%|█▉        | 136/690 [00:00<00:00, 673.53 Segments/s]\u001B[A\n",
      "Aligning wMbj6ajWbic:  30%|██▉       | 204/690 [00:00<00:00, 673.10 Segments/s]\u001B[A\n",
      "Aligning wMbj6ajWbic:  39%|███▉      | 272/690 [00:00<00:00, 651.32 Segments/s]\u001B[A\n",
      "Aligning wMbj6ajWbic:  49%|████▉     | 338/690 [00:00<00:00, 647.40 Segments/s]\u001B[A\n",
      "Aligning wMbj6ajWbic:  59%|█████▊    | 404/690 [00:00<00:00, 649.26 Segments/s]\u001B[A\n",
      "Aligning wMbj6ajWbic:  68%|██████▊   | 472/690 [00:00<00:00, 657.72 Segments/s]\u001B[A\n",
      "Aligning wMbj6ajWbic:  78%|███████▊  | 541/690 [00:00<00:00, 667.64 Segments/s]\u001B[A\n",
      "Aligning wMbj6ajWbic:  89%|████████▊ | 612/690 [00:00<00:00, 680.46 Segments/s]\u001B[A\n",
      "Aligning wMbj6ajWbic:  99%|█████████▊| 681/690 [00:01<00:00, 654.12 Segments/s]\u001B[A\n",
      "Overall Progress:  97%|█████████▋| 90/93 [01:05<00:02,  1.18 Computational Sequence Entries/s]\n",
      "  0%|          | 0/581 [00:00<?, ? Segments/s]\u001B[A\n",
      "Aligning yDtzw_Y-7RU:   0%|          | 0/581 [00:00<?, ? Segments/s]\u001B[A\n",
      "Aligning yDtzw_Y-7RU:  12%|█▏        | 71/581 [00:00<00:00, 709.43 Segments/s]\u001B[A\n",
      "Aligning yDtzw_Y-7RU:  24%|██▍       | 142/581 [00:00<00:00, 709.48 Segments/s]\u001B[A\n",
      "Aligning yDtzw_Y-7RU:  37%|███▋      | 215/581 [00:00<00:00, 718.56 Segments/s]\u001B[A\n",
      "Aligning yDtzw_Y-7RU:  49%|████▉     | 287/581 [00:00<00:00, 667.34 Segments/s]\u001B[A\n",
      "Aligning yDtzw_Y-7RU:  62%|██████▏   | 358/581 [00:00<00:00, 681.83 Segments/s]\u001B[A\n",
      "Aligning yDtzw_Y-7RU:  74%|███████▍  | 431/581 [00:00<00:00, 695.20 Segments/s]\u001B[A\n",
      "Aligning yDtzw_Y-7RU:  87%|████████▋ | 505/581 [00:00<00:00, 706.92 Segments/s]\u001B[A\n",
      "Aligning yDtzw_Y-7RU:  99%|█████████▉| 576/581 [00:00<00:00, 703.15 Segments/s]\u001B[A\n",
      "Overall Progress:  98%|█████████▊| 91/93 [01:05<00:01,  1.18 Computational Sequence Entries/s]\n",
      "  0%|          | 0/616 [00:00<?, ? Segments/s]\u001B[A\n",
      "Aligning yvsjCA6Y5Fc:   0%|          | 0/616 [00:00<?, ? Segments/s]\u001B[A\n",
      "Aligning yvsjCA6Y5Fc:  11%|█         | 67/616 [00:00<00:00, 666.12 Segments/s]\u001B[A\n",
      "Aligning yvsjCA6Y5Fc:  22%|██▏       | 137/616 [00:00<00:00, 681.21 Segments/s]\u001B[A\n",
      "Aligning yvsjCA6Y5Fc:  33%|███▎      | 206/616 [00:00<00:00, 680.15 Segments/s]\u001B[A\n",
      "Aligning yvsjCA6Y5Fc:  45%|████▍     | 275/616 [00:00<00:00, 679.82 Segments/s]\u001B[A\n",
      "Aligning yvsjCA6Y5Fc:  56%|█████▌    | 346/616 [00:00<00:00, 687.95 Segments/s]\u001B[A\n",
      "Aligning yvsjCA6Y5Fc:  67%|██████▋   | 415/616 [00:00<00:00, 669.27 Segments/s]\u001B[A\n",
      "Aligning yvsjCA6Y5Fc:  78%|███████▊  | 483/616 [00:00<00:00, 653.75 Segments/s]\u001B[A\n",
      "Aligning yvsjCA6Y5Fc:  89%|████████▉ | 549/616 [00:00<00:00, 651.52 Segments/s]\u001B[A\n",
      "Overall Progress:  99%|█████████▉| 92/93 [01:06<00:00,  1.15 Computational Sequence Entries/s]\n",
      "  0%|          | 0/676 [00:00<?, ? Segments/s]\u001B[A\n",
      "Aligning zhpQhgha_KU:   0%|          | 0/676 [00:00<?, ? Segments/s]\u001B[A\n",
      "Aligning zhpQhgha_KU:  10%|▉         | 65/676 [00:00<00:00, 648.89 Segments/s]\u001B[A\n",
      "Aligning zhpQhgha_KU:  20%|██        | 136/676 [00:00<00:00, 682.46 Segments/s]\u001B[A\n",
      "Aligning zhpQhgha_KU:  31%|███       | 207/676 [00:00<00:00, 691.55 Segments/s]\u001B[A\n",
      "Aligning zhpQhgha_KU:  41%|████▏     | 279/676 [00:00<00:00, 699.74 Segments/s]\u001B[A\n",
      "Aligning zhpQhgha_KU:  52%|█████▏    | 349/676 [00:00<00:00, 692.16 Segments/s]\u001B[A\n",
      "Aligning zhpQhgha_KU:  62%|██████▏   | 419/676 [00:00<00:00, 687.47 Segments/s]\u001B[A\n",
      "Aligning zhpQhgha_KU:  72%|███████▏  | 488/676 [00:00<00:00, 687.00 Segments/s]\u001B[A\n",
      "Aligning zhpQhgha_KU:  83%|████████▎ | 560/676 [00:00<00:00, 697.19 Segments/s]\u001B[A\n",
      "Aligning zhpQhgha_KU:  93%|█████████▎| 630/676 [00:00<00:00, 687.21 Segments/s]\u001B[A\n",
      "                                                                                              \r"
     ]
    },
    {
     "name": "stdout",
     "output_type": "stream",
     "text": [
      "\u001B[92m\u001B[1m[2023-05-05 03:53:51.899] | Success | \u001B[0mAlignment to <../data/CMU_MOSI_TimestampedWordVectors> complete.\n",
      "\u001B[94m\u001B[1m[2023-05-05 03:53:51.899] | Status  | \u001B[0mReplacing dataset content with aligned computational sequences\n",
      "\u001B[92m\u001B[1m[2023-05-05 03:53:51.902] | Success | \u001B[0mInitialized empty <../data/CMU_MOSI_TimestampedWordVectors> computational sequence.\n",
      "\u001B[94m\u001B[1m[2023-05-05 03:53:51.902] | Status  | \u001B[0mChecking the format of the data in <../data/CMU_MOSI_TimestampedWordVectors> computational sequence ...\n"
     ]
    },
    {
     "name": "stderr",
     "output_type": "stream",
     "text": [
      "                                                                      \r"
     ]
    },
    {
     "name": "stdout",
     "output_type": "stream",
     "text": [
      "\u001B[92m\u001B[1m[2023-05-05 03:53:51.941] | Success | \u001B[0m<../data/CMU_MOSI_TimestampedWordVectors> computational sequence data in correct format.\n",
      "\u001B[94m\u001B[1m[2023-05-05 03:53:51.941] | Status  | \u001B[0mChecking the format of the metadata in <../data/CMU_MOSI_TimestampedWordVectors> computational sequence ...\n",
      "\u001B[93m\u001B[1m[2023-05-05 03:53:51.941] | Warning | \u001B[0m<../data/CMU_MOSI_TimestampedWordVectors> computational sequence does not have all the required metadata ... continuing \n",
      "\u001B[92m\u001B[1m[2023-05-05 03:53:51.941] | Success | \u001B[0mInitialized empty <../data/CMU_MOSI_Visual_Facet_41> computational sequence.\n",
      "\u001B[94m\u001B[1m[2023-05-05 03:53:51.941] | Status  | \u001B[0mChecking the format of the data in <../data/CMU_MOSI_Visual_Facet_41> computational sequence ...\n"
     ]
    },
    {
     "name": "stderr",
     "output_type": "stream",
     "text": [
      "                                                                      \r"
     ]
    },
    {
     "name": "stdout",
     "output_type": "stream",
     "text": [
      "\u001B[92m\u001B[1m[2023-05-05 03:53:51.977] | Success | \u001B[0m<../data/CMU_MOSI_Visual_Facet_41> computational sequence data in correct format.\n",
      "\u001B[94m\u001B[1m[2023-05-05 03:53:51.977] | Status  | \u001B[0mChecking the format of the metadata in <../data/CMU_MOSI_Visual_Facet_41> computational sequence ...\n",
      "\u001B[93m\u001B[1m[2023-05-05 03:53:51.977] | Warning | \u001B[0m<../data/CMU_MOSI_Visual_Facet_41> computational sequence does not have all the required metadata ... continuing \n",
      "\u001B[92m\u001B[1m[2023-05-05 03:53:51.977] | Success | \u001B[0mInitialized empty <../data/CMU_MOSI_COVAREP> computational sequence.\n",
      "\u001B[94m\u001B[1m[2023-05-05 03:53:51.977] | Status  | \u001B[0mChecking the format of the data in <../data/CMU_MOSI_COVAREP> computational sequence ...\n"
     ]
    },
    {
     "name": "stderr",
     "output_type": "stream",
     "text": [
      "                                                                      "
     ]
    },
    {
     "name": "stdout",
     "output_type": "stream",
     "text": [
      "\u001B[92m\u001B[1m[2023-05-05 03:53:52.010] | Success | \u001B[0m<../data/CMU_MOSI_COVAREP> computational sequence data in correct format.\n",
      "\u001B[94m\u001B[1m[2023-05-05 03:53:52.010] | Status  | \u001B[0mChecking the format of the metadata in <../data/CMU_MOSI_COVAREP> computational sequence ...\n",
      "\u001B[93m\u001B[1m[2023-05-05 03:53:52.010] | Warning | \u001B[0m<../data/CMU_MOSI_COVAREP> computational sequence does not have all the required metadata ... continuing \n"
     ]
    },
    {
     "name": "stderr",
     "output_type": "stream",
     "text": [
      "\r"
     ]
    }
   ],
   "source": [
    "def avg(intervals: np.array, features: np.array) -> np.array:\n",
    "    return np.average(features, axis=0)\n",
    "\n",
    "dataset.align(text_field, collapse_functions=[avg])"
   ],
   "metadata": {
    "collapsed": false
   }
  },
  {
   "cell_type": "code",
   "execution_count": 5,
   "outputs": [
    {
     "name": "stdout",
     "output_type": "stream",
     "text": [
      "\u001B[92m\u001B[1m[2023-05-05 03:53:52.042] | Success | \u001B[0mComputational sequence read from file ../data/CMU_MOSI_Opinion_Labels.csd ...\n",
      "\u001B[94m\u001B[1m[2023-05-05 03:53:52.045] | Status  | \u001B[0mChecking the integrity of the <Opinion Segment Labels> computational sequence ...\n",
      "\u001B[94m\u001B[1m[2023-05-05 03:53:52.045] | Status  | \u001B[0mChecking the format of the data in <Opinion Segment Labels> computational sequence ...\n"
     ]
    },
    {
     "name": "stderr",
     "output_type": "stream",
     "text": [
      "                                                                   \r"
     ]
    },
    {
     "name": "stdout",
     "output_type": "stream",
     "text": [
      "\u001B[92m\u001B[1m[2023-05-05 03:53:52.063] | Success | \u001B[0m<Opinion Segment Labels> computational sequence data in correct format.\n",
      "\u001B[94m\u001B[1m[2023-05-05 03:53:52.063] | Status  | \u001B[0mChecking the format of the metadata in <Opinion Segment Labels> computational sequence ...\n",
      "\u001B[93m\u001B[1m[2023-05-05 03:53:52.063] | Warning | \u001B[0m<Opinion Segment Labels> computational sequence does not have all the required metadata ... continuing \n",
      "\u001B[94m\u001B[1m[2023-05-05 03:53:52.063] | Status  | \u001B[0mUnify was called ...\n",
      "\u001B[92m\u001B[1m[2023-05-05 03:53:52.105] | Success | \u001B[0mUnify completed ...\n",
      "\u001B[94m\u001B[1m[2023-05-05 03:53:52.106] | Status  | \u001B[0mPre-alignment based on <../data/CMU_MOSI_Opinion_Labels> computational sequence started ...\n",
      "\u001B[94m\u001B[1m[2023-05-05 03:53:52.236] | Status  | \u001B[0mPre-alignment done for <../data/CMU_MOSI_TimestampedWordVectors> ...\n",
      "\u001B[94m\u001B[1m[2023-05-05 03:53:52.306] | Status  | \u001B[0mPre-alignment done for <../data/CMU_MOSI_Visual_Facet_41> ...\n",
      "\u001B[94m\u001B[1m[2023-05-05 03:53:52.397] | Status  | \u001B[0mPre-alignment done for <../data/CMU_MOSI_COVAREP> ...\n",
      "\u001B[94m\u001B[1m[2023-05-05 03:53:52.402] | Status  | \u001B[0mAlignment starting ...\n"
     ]
    },
    {
     "name": "stderr",
     "output_type": "stream",
     "text": [
      "Overall Progress:   0%|          | 0/93 [00:00<?, ? Computational Sequence Entries/s]\n",
      "  0%|          | 0/13 [00:00<?, ? Segments/s]\u001B[A\n",
      "Aligning 03bSnISJMiM:   0%|          | 0/13 [00:00<?, ? Segments/s]\u001B[A\n",
      "                                                                   \u001B[A\n",
      "  0%|          | 0/25 [00:00<?, ? Segments/s]\u001B[A\n",
      "Aligning 0h-zjBukYpk:   0%|          | 0/25 [00:00<?, ? Segments/s]\u001B[A\n",
      "                                                                   \u001B[A\n",
      "  0%|          | 0/14 [00:00<?, ? Segments/s]\u001B[A\n",
      "Aligning 1DmNV9C1hbY:   0%|          | 0/14 [00:00<?, ? Segments/s]\u001B[A\n",
      "                                                                   \u001B[A\n",
      "  0%|          | 0/30 [00:00<?, ? Segments/s]\u001B[A\n",
      "Aligning 1iG0909rllw:   0%|          | 0/30 [00:00<?, ? Segments/s]\u001B[A\n",
      "                                                                   \u001B[A\n",
      "  0%|          | 0/63 [00:00<?, ? Segments/s]\u001B[A\n",
      "Aligning 2WGyTLYerpo:   0%|          | 0/63 [00:00<?, ? Segments/s]\u001B[A\n",
      "                                                                   \u001B[A\n",
      "  0%|          | 0/30 [00:00<?, ? Segments/s]\u001B[A\n",
      "Aligning 2iD-tVS8NPw:   0%|          | 0/30 [00:00<?, ? Segments/s]\u001B[A\n",
      "Overall Progress:   6%|▋         | 6/93 [00:00<00:01, 54.46 Computational Sequence Entries/s]\n",
      "  0%|          | 0/24 [00:00<?, ? Segments/s]\u001B[A\n",
      "Aligning 5W7Z1C_fDaE:   0%|          | 0/24 [00:00<?, ? Segments/s]\u001B[A\n",
      "                                                                   \u001B[A\n",
      "  0%|          | 0/12 [00:00<?, ? Segments/s]\u001B[A\n",
      "Aligning 6Egk_28TtTM:   0%|          | 0/12 [00:00<?, ? Segments/s]\u001B[A\n",
      "                                                                   \u001B[A\n",
      "  0%|          | 0/14 [00:00<?, ? Segments/s]\u001B[A\n",
      "Aligning 6_0THN4chvY:   0%|          | 0/14 [00:00<?, ? Segments/s]\u001B[A\n",
      "                                                                   \u001B[A\n",
      "  0%|          | 0/19 [00:00<?, ? Segments/s]\u001B[A\n",
      "Aligning 73jzhE8R1TQ:   0%|          | 0/19 [00:00<?, ? Segments/s]\u001B[A\n",
      "                                                                   \u001B[A\n",
      "  0%|          | 0/39 [00:00<?, ? Segments/s]\u001B[A\n",
      "Aligning 7JsX8y1ysxY:   0%|          | 0/39 [00:00<?, ? Segments/s]\u001B[A\n",
      "                                                                   \u001B[A\n",
      "  0%|          | 0/23 [00:00<?, ? Segments/s]\u001B[A\n",
      "Aligning 8OtFthrtaJM:   0%|          | 0/23 [00:00<?, ? Segments/s]\u001B[A\n",
      "                                                                   \u001B[A\n",
      "  0%|          | 0/30 [00:00<?, ? Segments/s]\u001B[A\n",
      "Aligning 8d-gEyoeBzc:   0%|          | 0/30 [00:00<?, ? Segments/s]\u001B[A\n",
      "Overall Progress:  14%|█▍        | 13/93 [00:00<00:01, 61.98 Computational Sequence Entries/s]\n",
      "  0%|          | 0/26 [00:00<?, ? Segments/s]\u001B[A\n",
      "Aligning 8qrpnFRGt2A:   0%|          | 0/26 [00:00<?, ? Segments/s]\u001B[A\n",
      "                                                                   \u001B[A\n",
      "  0%|          | 0/25 [00:00<?, ? Segments/s]\u001B[A\n",
      "Aligning 9J25DZhivz8:   0%|          | 0/25 [00:00<?, ? Segments/s]\u001B[A\n",
      "                                                                   \u001B[A\n",
      "  0%|          | 0/25 [00:00<?, ? Segments/s]\u001B[A\n",
      "Aligning 9T9Hf74oK10:   0%|          | 0/25 [00:00<?, ? Segments/s]\u001B[A\n",
      "                                                                   \u001B[A\n",
      "  0%|          | 0/12 [00:00<?, ? Segments/s]\u001B[A\n",
      "Aligning 9c67fiY0wGQ:   0%|          | 0/12 [00:00<?, ? Segments/s]\u001B[A\n",
      "                                                                   \u001B[A\n",
      "  0%|          | 0/33 [00:00<?, ? Segments/s]\u001B[A\n",
      "Aligning 9qR7uwkblbs:   0%|          | 0/33 [00:00<?, ? Segments/s]\u001B[A\n",
      "                                                                   \u001B[A\n",
      "  0%|          | 0/31 [00:00<?, ? Segments/s]\u001B[A\n",
      "Aligning Af8D0E4ZXaw:   0%|          | 0/31 [00:00<?, ? Segments/s]\u001B[A\n",
      "                                                                   \u001B[A\n",
      "  0%|          | 0/31 [00:00<?, ? Segments/s]\u001B[A\n",
      "Aligning BI97DNYfe5I:   0%|          | 0/31 [00:00<?, ? Segments/s]\u001B[A\n",
      "Overall Progress:  22%|██▏       | 20/93 [00:00<00:01, 60.55 Computational Sequence Entries/s]\n",
      "  0%|          | 0/31 [00:00<?, ? Segments/s]\u001B[A\n",
      "Aligning BXuRRbG0Ugk:   0%|          | 0/31 [00:00<?, ? Segments/s]\u001B[A\n",
      "                                                                   \u001B[A\n",
      "  0%|          | 0/22 [00:00<?, ? Segments/s]\u001B[A\n",
      "Aligning Bfr499ggo-0:   0%|          | 0/22 [00:00<?, ? Segments/s]\u001B[A\n",
      "                                                                   \u001B[A\n",
      "  0%|          | 0/30 [00:00<?, ? Segments/s]\u001B[A\n",
      "Aligning BioHAh1qJAQ:   0%|          | 0/30 [00:00<?, ? Segments/s]\u001B[A\n",
      "                                                                   \u001B[A\n",
      "  0%|          | 0/26 [00:00<?, ? Segments/s]\u001B[A\n",
      "Aligning BvYR0L6f2Ig:   0%|          | 0/26 [00:00<?, ? Segments/s]\u001B[A\n",
      "                                                                   \u001B[A\n",
      "  0%|          | 0/44 [00:00<?, ? Segments/s]\u001B[A\n",
      "Aligning Ci-AH39fi3Y:   0%|          | 0/44 [00:00<?, ? Segments/s]\u001B[A\n",
      "                                                                   \u001B[A\n",
      "  0%|          | 0/31 [00:00<?, ? Segments/s]\u001B[A\n",
      "Aligning Clx4VXItLTE:   0%|          | 0/31 [00:00<?, ? Segments/s]\u001B[A\n",
      "                                                                   \u001B[A\n",
      "  0%|          | 0/18 [00:00<?, ? Segments/s]\u001B[A\n",
      "Aligning Dg_0XKD0Mf4:   0%|          | 0/18 [00:00<?, ? Segments/s]\u001B[A\n",
      "Overall Progress:  29%|██▉       | 27/93 [00:00<00:01, 58.12 Computational Sequence Entries/s]\n",
      "  0%|          | 0/21 [00:00<?, ? Segments/s]\u001B[A\n",
      "Aligning G-xst2euQUc:   0%|          | 0/21 [00:00<?, ? Segments/s]\u001B[A\n",
      "                                                                   \u001B[A\n",
      "  0%|          | 0/29 [00:00<?, ? Segments/s]\u001B[A\n",
      "Aligning G6GlGvlkxAQ:   0%|          | 0/29 [00:00<?, ? Segments/s]\u001B[A\n",
      "                                                                   \u001B[A\n",
      "  0%|          | 0/18 [00:00<?, ? Segments/s]\u001B[A\n",
      "Aligning GWuJjcEuzt8:   0%|          | 0/18 [00:00<?, ? Segments/s]\u001B[A\n",
      "                                                                   \u001B[A\n",
      "  0%|          | 0/34 [00:00<?, ? Segments/s]\u001B[A\n",
      "Aligning HEsqda8_d0Q:   0%|          | 0/34 [00:00<?, ? Segments/s]\u001B[A\n",
      "                                                                   \u001B[A\n",
      "  0%|          | 0/39 [00:00<?, ? Segments/s]\u001B[A\n",
      "Aligning I5y0__X72p0:   0%|          | 0/39 [00:00<?, ? Segments/s]\u001B[A\n",
      "                                                                   \u001B[A\n",
      "  0%|          | 0/16 [00:00<?, ? Segments/s]\u001B[A\n",
      "Aligning Iu2PFX3z_1s:   0%|          | 0/16 [00:00<?, ? Segments/s]\u001B[A\n",
      "                                                                   \u001B[A\n",
      "  0%|          | 0/22 [00:00<?, ? Segments/s]\u001B[A\n",
      "Aligning IumbAb8q2dM:   0%|          | 0/22 [00:00<?, ? Segments/s]\u001B[A\n",
      "Overall Progress:  37%|███▋      | 34/93 [00:00<00:00, 61.06 Computational Sequence Entries/s]\n",
      "  0%|          | 0/20 [00:00<?, ? Segments/s]\u001B[A\n",
      "Aligning Jkswaaud0hk:   0%|          | 0/20 [00:00<?, ? Segments/s]\u001B[A\n",
      "                                                                   \u001B[A\n",
      "  0%|          | 0/29 [00:00<?, ? Segments/s]\u001B[A\n",
      "Aligning LSi-o-IrDMs:   0%|          | 0/29 [00:00<?, ? Segments/s]\u001B[A\n",
      "                                                                   \u001B[A\n",
      "  0%|          | 0/18 [00:00<?, ? Segments/s]\u001B[A\n",
      "Aligning MLal-t_vJPM:   0%|          | 0/18 [00:00<?, ? Segments/s]\u001B[A\n",
      "                                                                   \u001B[A\n",
      "  0%|          | 0/13 [00:00<?, ? Segments/s]\u001B[A\n",
      "Aligning Njd1F0vZSm4:   0%|          | 0/13 [00:00<?, ? Segments/s]\u001B[A\n",
      "                                                                   \u001B[A\n",
      "  0%|          | 0/32 [00:00<?, ? Segments/s]\u001B[A\n",
      "Aligning Nzq88NnDkEk:   0%|          | 0/32 [00:00<?, ? Segments/s]\u001B[A\n",
      "                                                                   \u001B[A\n",
      "  0%|          | 0/16 [00:00<?, ? Segments/s]\u001B[A\n",
      "Aligning OQvJTdtJ2H4:   0%|          | 0/16 [00:00<?, ? Segments/s]\u001B[A\n",
      "                                                                   \u001B[A\n",
      "  0%|          | 0/24 [00:00<?, ? Segments/s]\u001B[A\n",
      "Aligning OtBXNcAL_lE:   0%|          | 0/24 [00:00<?, ? Segments/s]\u001B[A\n",
      "                                                                   \u001B[A\n",
      "  0%|          | 0/25 [00:00<?, ? Segments/s]\u001B[A\n",
      "Aligning Oz06ZWiO20M:   0%|          | 0/25 [00:00<?, ? Segments/s]\u001B[A\n",
      "Overall Progress:  45%|████▌     | 42/93 [00:00<00:00, 65.23 Computational Sequence Entries/s]\n",
      "  0%|          | 0/13 [00:00<?, ? Segments/s]\u001B[A\n",
      "Aligning POKffnXeBds:   0%|          | 0/13 [00:00<?, ? Segments/s]\u001B[A\n",
      "                                                                   \u001B[A\n",
      "  0%|          | 0/12 [00:00<?, ? Segments/s]\u001B[A\n",
      "Aligning PZ-lDQFboO8:   0%|          | 0/12 [00:00<?, ? Segments/s]\u001B[A\n",
      "                                                                   \u001B[A\n",
      "  0%|          | 0/18 [00:00<?, ? Segments/s]\u001B[A\n",
      "Aligning QN9ZIUWUXsY:   0%|          | 0/18 [00:00<?, ? Segments/s]\u001B[A\n",
      "                                                                   \u001B[A\n",
      "  0%|          | 0/14 [00:00<?, ? Segments/s]\u001B[A\n",
      "Aligning Qr1Ca94K55A:   0%|          | 0/14 [00:00<?, ? Segments/s]\u001B[A\n",
      "                                                                   \u001B[A\n",
      "  0%|          | 0/22 [00:00<?, ? Segments/s]\u001B[A\n",
      "Aligning Sqr0AcuoNnk:   0%|          | 0/22 [00:00<?, ? Segments/s]\u001B[A\n",
      "                                                                   \u001B[A\n",
      "  0%|          | 0/15 [00:00<?, ? Segments/s]\u001B[A\n",
      "Aligning TvyZBvOMOTc:   0%|          | 0/15 [00:00<?, ? Segments/s]\u001B[A\n",
      "                                                                   \u001B[A\n",
      "  0%|          | 0/17 [00:00<?, ? Segments/s]\u001B[A\n",
      "Aligning VCslbP0mgZI:   0%|          | 0/17 [00:00<?, ? Segments/s]\u001B[A\n",
      "                                                                   \u001B[A\n",
      "  0%|          | 0/55 [00:00<?, ? Segments/s]\u001B[A\n",
      "Aligning VbQk4H8hgr0:   0%|          | 0/55 [00:00<?, ? Segments/s]\u001B[A\n",
      "Overall Progress:  54%|█████▍    | 50/93 [00:00<00:00, 69.48 Computational Sequence Entries/s]\n",
      "  0%|          | 0/9 [00:00<?, ? Segments/s]\u001B[A\n",
      "Aligning Vj1wYRQjB-o:   0%|          | 0/9 [00:00<?, ? Segments/s]\u001B[A\n",
      "                                                                  \u001B[A\n",
      "  0%|          | 0/32 [00:00<?, ? Segments/s]\u001B[A\n",
      "Aligning W8NXH0Djyww:   0%|          | 0/32 [00:00<?, ? Segments/s]\u001B[A\n",
      "                                                                   \u001B[A\n",
      "  0%|          | 0/22 [00:00<?, ? Segments/s]\u001B[A\n",
      "Aligning WKA5OygbEKI:   0%|          | 0/22 [00:00<?, ? Segments/s]\u001B[A\n",
      "                                                                   \u001B[A\n",
      "  0%|          | 0/11 [00:00<?, ? Segments/s]\u001B[A\n",
      "Aligning X3j2zQgwYgE:   0%|          | 0/11 [00:00<?, ? Segments/s]\u001B[A\n",
      "                                                                   \u001B[A\n",
      "  0%|          | 0/9 [00:00<?, ? Segments/s]\u001B[A\n",
      "Aligning ZAIRrfG22O0:   0%|          | 0/9 [00:00<?, ? Segments/s]\u001B[A\n",
      "                                                                  \u001B[A\n",
      "  0%|          | 0/34 [00:00<?, ? Segments/s]\u001B[A\n",
      "Aligning ZUXBRvtny7o:   0%|          | 0/34 [00:00<?, ? Segments/s]\u001B[A\n",
      "                                                                   \u001B[A\n",
      "  0%|          | 0/28 [00:00<?, ? Segments/s]\u001B[A\n",
      "Aligning _dI--eQ6qVU:   0%|          | 0/28 [00:00<?, ? Segments/s]\u001B[A\n",
      "                                                                   \u001B[A\n",
      "  0%|          | 0/30 [00:00<?, ? Segments/s]\u001B[A\n",
      "Aligning aiEXnCPZubE:   0%|          | 0/30 [00:00<?, ? Segments/s]\u001B[A\n",
      "Overall Progress:  62%|██████▏   | 58/93 [00:00<00:00, 69.69 Computational Sequence Entries/s]\n",
      "  0%|          | 0/21 [00:00<?, ? Segments/s]\u001B[A\n",
      "Aligning atnd_PF-Lbs:   0%|          | 0/21 [00:00<?, ? Segments/s]\u001B[A\n",
      "                                                                   \u001B[A\n",
      "  0%|          | 0/34 [00:00<?, ? Segments/s]\u001B[A\n",
      "Aligning bOL9jKpeJRs:   0%|          | 0/34 [00:00<?, ? Segments/s]\u001B[A\n",
      "                                                                   \u001B[A\n",
      "  0%|          | 0/25 [00:00<?, ? Segments/s]\u001B[A\n",
      "Aligning bvLlb-M3UXU:   0%|          | 0/25 [00:00<?, ? Segments/s]\u001B[A\n",
      "                                                                   \u001B[A\n",
      "  0%|          | 0/15 [00:00<?, ? Segments/s]\u001B[A\n",
      "Aligning c5xsKMxpXnc:   0%|          | 0/15 [00:00<?, ? Segments/s]\u001B[A\n",
      "                                                                   \u001B[A\n",
      "  0%|          | 0/33 [00:00<?, ? Segments/s]\u001B[A\n",
      "Aligning c7UH_rxdZv4:   0%|          | 0/33 [00:00<?, ? Segments/s]\u001B[A\n",
      "                                                                   \u001B[A\n",
      "  0%|          | 0/16 [00:00<?, ? Segments/s]\u001B[A\n",
      "Aligning cM3Yna7AavY:   0%|          | 0/16 [00:00<?, ? Segments/s]\u001B[A\n",
      "                                                                   \u001B[A\n",
      "  0%|          | 0/24 [00:00<?, ? Segments/s]\u001B[A\n",
      "Aligning cW1FSBF59ik:   0%|          | 0/24 [00:00<?, ? Segments/s]\u001B[A\n",
      "                                                                   \u001B[A\n",
      "  0%|          | 0/29 [00:00<?, ? Segments/s]\u001B[A\n",
      "Aligning cXypl4FnoZo:   0%|          | 0/29 [00:00<?, ? Segments/s]\u001B[A\n",
      "Overall Progress:  71%|███████   | 66/93 [00:01<00:00, 67.27 Computational Sequence Entries/s]\n",
      "  0%|          | 0/19 [00:00<?, ? Segments/s]\u001B[A\n",
      "Aligning d3_k5Xpfmik:   0%|          | 0/19 [00:00<?, ? Segments/s]\u001B[A\n",
      "                                                                   \u001B[A\n",
      "  0%|          | 0/43 [00:00<?, ? Segments/s]\u001B[A\n",
      "Aligning d6hH302o4v8:   0%|          | 0/43 [00:00<?, ? Segments/s]\u001B[A\n",
      "                                                                   \u001B[A\n",
      "  0%|          | 0/15 [00:00<?, ? Segments/s]\u001B[A\n",
      "Aligning dq3Nf_lMPnE:   0%|          | 0/15 [00:00<?, ? Segments/s]\u001B[A\n",
      "                                                                   \u001B[A\n",
      "  0%|          | 0/19 [00:00<?, ? Segments/s]\u001B[A\n",
      "Aligning etzxEpPuc6I:   0%|          | 0/19 [00:00<?, ? Segments/s]\u001B[A\n",
      "                                                                   \u001B[A\n",
      "  0%|          | 0/30 [00:00<?, ? Segments/s]\u001B[A\n",
      "Aligning f9O3YtZ2VfI:   0%|          | 0/30 [00:00<?, ? Segments/s]\u001B[A\n",
      "                                                                   \u001B[A\n",
      "  0%|          | 0/15 [00:00<?, ? Segments/s]\u001B[A\n",
      "Aligning f_pcplsH_V0:   0%|          | 0/15 [00:00<?, ? Segments/s]\u001B[A\n",
      "                                                                   \u001B[A\n",
      "  0%|          | 0/14 [00:00<?, ? Segments/s]\u001B[A\n",
      "Aligning fvVhgmXxadc:   0%|          | 0/14 [00:00<?, ? Segments/s]\u001B[A\n",
      "Overall Progress:  78%|███████▊  | 73/93 [00:01<00:00, 67.44 Computational Sequence Entries/s]\n",
      "  0%|          | 0/18 [00:00<?, ? Segments/s]\u001B[A\n",
      "Aligning iiK8YX8oH1E:   0%|          | 0/18 [00:00<?, ? Segments/s]\u001B[A\n",
      "                                                                   \u001B[A\n",
      "  0%|          | 0/27 [00:00<?, ? Segments/s]\u001B[A\n",
      "Aligning jUzDDGyPkXU:   0%|          | 0/27 [00:00<?, ? Segments/s]\u001B[A\n",
      "                                                                   \u001B[A\n",
      "  0%|          | 0/31 [00:00<?, ? Segments/s]\u001B[A\n",
      "Aligning k5Y_838nuGo:   0%|          | 0/31 [00:00<?, ? Segments/s]\u001B[A\n",
      "                                                                   \u001B[A\n",
      "  0%|          | 0/30 [00:00<?, ? Segments/s]\u001B[A\n",
      "Aligning lXPQBPVc5Cw:   0%|          | 0/30 [00:00<?, ? Segments/s]\u001B[A\n",
      "                                                                   \u001B[A\n",
      "  0%|          | 0/10 [00:00<?, ? Segments/s]\u001B[A\n",
      "Aligning nbWiPyCm4g0:   0%|          | 0/10 [00:00<?, ? Segments/s]\u001B[A\n",
      "                                                                   \u001B[A\n",
      "  0%|          | 0/24 [00:00<?, ? Segments/s]\u001B[A\n",
      "Aligning nzpVDcQ0ywM:   0%|          | 0/24 [00:00<?, ? Segments/s]\u001B[A\n",
      "                                                                   \u001B[A\n",
      "  0%|          | 0/14 [00:00<?, ? Segments/s]\u001B[A\n",
      "Aligning ob23OKe5a9Q:   0%|          | 0/14 [00:00<?, ? Segments/s]\u001B[A\n",
      "                                                                   \u001B[A\n",
      "  0%|          | 0/16 [00:00<?, ? Segments/s]\u001B[A\n",
      "Aligning pLTX3ipuDJI:   0%|          | 0/16 [00:00<?, ? Segments/s]\u001B[A\n",
      "Overall Progress:  87%|████████▋ | 81/93 [00:01<00:00, 68.41 Computational Sequence Entries/s]\n",
      "  0%|          | 0/21 [00:00<?, ? Segments/s]\u001B[A\n",
      "Aligning phBUpBr1hSo:   0%|          | 0/21 [00:00<?, ? Segments/s]\u001B[A\n",
      "                                                                   \u001B[A\n",
      "  0%|          | 0/22 [00:00<?, ? Segments/s]\u001B[A\n",
      "Aligning rnaNMUZpvvg:   0%|          | 0/22 [00:00<?, ? Segments/s]\u001B[A\n",
      "                                                                   \u001B[A\n",
      "  0%|          | 0/18 [00:00<?, ? Segments/s]\u001B[A\n",
      "Aligning tIrG4oNLFzE:   0%|          | 0/18 [00:00<?, ? Segments/s]\u001B[A\n",
      "                                                                   \u001B[A\n",
      "  0%|          | 0/16 [00:00<?, ? Segments/s]\u001B[A\n",
      "Aligning tStelxIAHjw:   0%|          | 0/16 [00:00<?, ? Segments/s]\u001B[A\n",
      "                                                                   \u001B[A\n",
      "  0%|          | 0/20 [00:00<?, ? Segments/s]\u001B[A\n",
      "Aligning tmZoasNr4rU:   0%|          | 0/20 [00:00<?, ? Segments/s]\u001B[A\n",
      "                                                                   \u001B[A\n",
      "  0%|          | 0/16 [00:00<?, ? Segments/s]\u001B[A\n",
      "Aligning v0zCBqDeKcE:   0%|          | 0/16 [00:00<?, ? Segments/s]\u001B[A\n",
      "                                                                   \u001B[A\n",
      "  0%|          | 0/12 [00:00<?, ? Segments/s]\u001B[A\n",
      "Aligning vvZ4IcEtiZc:   0%|          | 0/12 [00:00<?, ? Segments/s]\u001B[A\n",
      "                                                                   \u001B[A\n",
      "  0%|          | 0/22 [00:00<?, ? Segments/s]\u001B[A\n",
      "Aligning vyB00TXsimI:   0%|          | 0/22 [00:00<?, ? Segments/s]\u001B[A\n",
      "Overall Progress:  96%|█████████▌| 89/93 [00:01<00:00, 70.46 Computational Sequence Entries/s]\n",
      "  0%|          | 0/30 [00:00<?, ? Segments/s]\u001B[A\n",
      "Aligning wMbj6ajWbic:   0%|          | 0/30 [00:00<?, ? Segments/s]\u001B[A\n",
      "                                                                   \u001B[A\n",
      "  0%|          | 0/24 [00:00<?, ? Segments/s]\u001B[A\n",
      "Aligning yDtzw_Y-7RU:   0%|          | 0/24 [00:00<?, ? Segments/s]\u001B[A\n",
      "                                                                   \u001B[A\n",
      "  0%|          | 0/23 [00:00<?, ? Segments/s]\u001B[A\n",
      "Aligning yvsjCA6Y5Fc:   0%|          | 0/23 [00:00<?, ? Segments/s]\u001B[A\n",
      "                                                                   \u001B[A\n",
      "  0%|          | 0/35 [00:00<?, ? Segments/s]\u001B[A\n",
      "Aligning zhpQhgha_KU:   0%|          | 0/35 [00:00<?, ? Segments/s]\u001B[A\n",
      "                                                                                              \r"
     ]
    },
    {
     "name": "stdout",
     "output_type": "stream",
     "text": [
      "\u001B[92m\u001B[1m[2023-05-05 03:53:53.815] | Success | \u001B[0mAlignment to <../data/CMU_MOSI_Opinion_Labels> complete.\n",
      "\u001B[94m\u001B[1m[2023-05-05 03:53:53.815] | Status  | \u001B[0mReplacing dataset content with aligned computational sequences\n",
      "\u001B[92m\u001B[1m[2023-05-05 03:53:53.894] | Success | \u001B[0mInitialized empty <../data/CMU_MOSI_TimestampedWordVectors> computational sequence.\n",
      "\u001B[94m\u001B[1m[2023-05-05 03:53:53.894] | Status  | \u001B[0mChecking the format of the data in <../data/CMU_MOSI_TimestampedWordVectors> computational sequence ...\n"
     ]
    },
    {
     "name": "stderr",
     "output_type": "stream",
     "text": [
      "                                                                     \r"
     ]
    },
    {
     "name": "stdout",
     "output_type": "stream",
     "text": [
      "\u001B[92m\u001B[1m[2023-05-05 03:53:53.897] | Success | \u001B[0m<../data/CMU_MOSI_TimestampedWordVectors> computational sequence data in correct format.\n",
      "\u001B[94m\u001B[1m[2023-05-05 03:53:53.897] | Status  | \u001B[0mChecking the format of the metadata in <../data/CMU_MOSI_TimestampedWordVectors> computational sequence ...\n",
      "\u001B[93m\u001B[1m[2023-05-05 03:53:53.897] | Warning | \u001B[0m<../data/CMU_MOSI_TimestampedWordVectors> computational sequence does not have all the required metadata ... continuing \n",
      "\u001B[92m\u001B[1m[2023-05-05 03:53:53.897] | Success | \u001B[0mInitialized empty <../data/CMU_MOSI_Visual_Facet_41> computational sequence.\n",
      "\u001B[94m\u001B[1m[2023-05-05 03:53:53.897] | Status  | \u001B[0mChecking the format of the data in <../data/CMU_MOSI_Visual_Facet_41> computational sequence ...\n"
     ]
    },
    {
     "name": "stderr",
     "output_type": "stream",
     "text": [
      "                                                                     \r"
     ]
    },
    {
     "name": "stdout",
     "output_type": "stream",
     "text": [
      "\u001B[92m\u001B[1m[2023-05-05 03:53:53.900] | Success | \u001B[0m<../data/CMU_MOSI_Visual_Facet_41> computational sequence data in correct format.\n",
      "\u001B[94m\u001B[1m[2023-05-05 03:53:53.900] | Status  | \u001B[0mChecking the format of the metadata in <../data/CMU_MOSI_Visual_Facet_41> computational sequence ...\n",
      "\u001B[93m\u001B[1m[2023-05-05 03:53:53.900] | Warning | \u001B[0m<../data/CMU_MOSI_Visual_Facet_41> computational sequence does not have all the required metadata ... continuing \n",
      "\u001B[92m\u001B[1m[2023-05-05 03:53:53.900] | Success | \u001B[0mInitialized empty <../data/CMU_MOSI_COVAREP> computational sequence.\n",
      "\u001B[94m\u001B[1m[2023-05-05 03:53:53.900] | Status  | \u001B[0mChecking the format of the data in <../data/CMU_MOSI_COVAREP> computational sequence ...\n"
     ]
    },
    {
     "name": "stderr",
     "output_type": "stream",
     "text": [
      "                                                                     \r"
     ]
    },
    {
     "name": "stdout",
     "output_type": "stream",
     "text": [
      "\u001B[92m\u001B[1m[2023-05-05 03:53:53.902] | Success | \u001B[0m<../data/CMU_MOSI_COVAREP> computational sequence data in correct format.\n",
      "\u001B[94m\u001B[1m[2023-05-05 03:53:53.902] | Status  | \u001B[0mChecking the format of the metadata in <../data/CMU_MOSI_COVAREP> computational sequence ...\n",
      "\u001B[93m\u001B[1m[2023-05-05 03:53:53.902] | Warning | \u001B[0m<../data/CMU_MOSI_COVAREP> computational sequence does not have all the required metadata ... continuing \n",
      "\u001B[92m\u001B[1m[2023-05-05 03:53:53.902] | Success | \u001B[0mInitialized empty <../data/CMU_MOSI_Opinion_Labels> computational sequence.\n",
      "\u001B[94m\u001B[1m[2023-05-05 03:53:53.902] | Status  | \u001B[0mChecking the format of the data in <../data/CMU_MOSI_Opinion_Labels> computational sequence ...\n"
     ]
    },
    {
     "name": "stderr",
     "output_type": "stream",
     "text": [
      "                                                                     "
     ]
    },
    {
     "name": "stdout",
     "output_type": "stream",
     "text": [
      "\u001B[92m\u001B[1m[2023-05-05 03:53:53.905] | Success | \u001B[0m<../data/CMU_MOSI_Opinion_Labels> computational sequence data in correct format.\n",
      "\u001B[94m\u001B[1m[2023-05-05 03:53:53.905] | Status  | \u001B[0mChecking the format of the metadata in <../data/CMU_MOSI_Opinion_Labels> computational sequence ...\n",
      "\u001B[93m\u001B[1m[2023-05-05 03:53:53.905] | Warning | \u001B[0m<../data/CMU_MOSI_Opinion_Labels> computational sequence does not have all the required metadata ... continuing \n"
     ]
    },
    {
     "name": "stderr",
     "output_type": "stream",
     "text": [
      "\r"
     ]
    }
   ],
   "source": [
    "label_field = '../data/CMU_MOSI_Opinion_Labels'\n",
    "\n",
    "label_recipe = {label_field:  label_field + '.csd'}\n",
    "dataset.add_computational_sequences(label_recipe, destination=None)\n",
    "dataset.align(label_field)"
   ],
   "metadata": {
    "collapsed": false
   }
  },
  {
   "cell_type": "code",
   "execution_count": 6,
   "outputs": [],
   "source": [
    "train_split = md.cmu_mosi.standard_folds.standard_train_fold\n",
    "dev_split = md.cmu_mosi.standard_folds.standard_valid_fold\n",
    "test_split = md.cmu_mosi.standard_folds.standard_test_fold"
   ],
   "metadata": {
    "collapsed": false
   }
  },
  {
   "cell_type": "code",
   "execution_count": 7,
   "outputs": [
    {
     "name": "stderr",
     "output_type": "stream",
     "text": [
      "C:\\Users\\ltxom\\AppData\\Local\\Temp\\ipykernel_24348\\2788815632.py:49: RuntimeWarning: invalid value encountered in divide\n",
      "  acoustic = np.nan_to_num((acoustic - acoustic.mean(0, keepdims=True)) / (EPS + np.std(acoustic, axis=0, keepdims=True)))\n",
      "C:\\Users\\ltxom\\AppData\\Local\\Temp\\ipykernel_24348\\2788815632.py:48: RuntimeWarning: invalid value encountered in divide\n",
      "  visual = np.nan_to_num((visual - visual.mean(0, keepdims=True)) / (EPS + np.std(visual, axis=0, keepdims=True)))\n",
      "C:\\Users\\ltxom\\IdeaProjects\\python_ml_venv\\lib\\site-packages\\numpy\\core\\_methods.py:236: RuntimeWarning: overflow encountered in multiply\n",
      "  x = um.multiply(x, x, out=x)\n",
      "C:\\Users\\ltxom\\IdeaProjects\\python_ml_venv\\lib\\site-packages\\numpy\\core\\_methods.py:180: RuntimeWarning: overflow encountered in reduce\n",
      "  ret = umr_sum(arr, axis, dtype, out, keepdims, where=where)\n",
      "C:\\Users\\ltxom\\IdeaProjects\\python_ml_venv\\lib\\site-packages\\numpy\\core\\_methods.py:213: RuntimeWarning: overflow encountered in reduce\n",
      "  arrmean = umr_sum(arr, axis, dtype, keepdims=True, where=where)\n"
     ]
    },
    {
     "name": "stdout",
     "output_type": "stream",
     "text": [
      "Total number of 0 datapoints have been dropped.\n"
     ]
    }
   ],
   "source": [
    "import re\n",
    "import torch\n",
    "import torch.nn as nn\n",
    "\n",
    "from torch.nn.utils.rnn import pad_sequence, pack_padded_sequence, pad_packed_sequence\n",
    "from torch.utils.data import DataLoader, Dataset\n",
    "from tqdm import tqdm_notebook\n",
    "from collections import defaultdict\n",
    "\n",
    "# a sentinel epsilon for safe division, without it we will replace illegal values with a constant\n",
    "EPS = 0\n",
    "\n",
    "# place holders for the final train/dev/test dataset\n",
    "train = []\n",
    "dev = []\n",
    "test = []\n",
    "\n",
    "# define a regular expression to extract the video ID out of the keys\n",
    "pattern = re.compile('(.*)\\[.*\\]')\n",
    "num_drop = 0 # a counter to count how many data points went into some processing issues\n",
    "\n",
    "for segment in dataset[label_field].keys():\n",
    "\n",
    "    # get the video ID and the features out of the aligned dataset\n",
    "    vid = re.search(pattern, segment).group(1)\n",
    "    label = dataset[label_field][segment]['features']\n",
    "    _words = dataset[text_field][segment]['features']\n",
    "    _visual = dataset[visual_field][segment]['features']\n",
    "    _acoustic = dataset[acoustic_field][segment]['features']\n",
    "\n",
    "    # if the sequences are not same length after alignment, there must be some problem with some modalities\n",
    "    # we should drop it or inspect the data again\n",
    "    if not _words.shape[0] == _visual.shape[0] == _acoustic.shape[0]:\n",
    "        print(f\"Encountered datapoint {vid} with text shape {_words.shape}, visual shape {_visual.shape}, acoustic shape {_acoustic.shape}\")\n",
    "        num_drop += 1\n",
    "        continue\n",
    "\n",
    "    # remove nan values\n",
    "    label = np.nan_to_num(label)\n",
    "    _visual = np.nan_to_num(_visual)\n",
    "    _acoustic = np.nan_to_num(_acoustic)\n",
    "\n",
    "    words = np.asarray(_words)\n",
    "    visual = np.asarray(_visual)\n",
    "    acoustic = np.asarray(_acoustic)\n",
    "\n",
    "    # z-normalization per instance and remove nan/infs\n",
    "    visual = np.nan_to_num((visual - visual.mean(0, keepdims=True)) / (EPS + np.std(visual, axis=0, keepdims=True)))\n",
    "    acoustic = np.nan_to_num((acoustic - acoustic.mean(0, keepdims=True)) / (EPS + np.std(acoustic, axis=0, keepdims=True)))\n",
    "\n",
    "    if vid in train_split:\n",
    "        train.append(((words, visual, acoustic), label, segment))\n",
    "    elif vid in dev_split:\n",
    "        dev.append(((words, visual, acoustic), label, segment))\n",
    "    elif vid in test_split:\n",
    "        test.append(((words, visual, acoustic), label, segment))\n",
    "    else:\n",
    "        print(f\"Found video that doesn't belong to any splits: {vid}\")\n",
    "\n",
    "print(f\"Total number of {num_drop} datapoints have been dropped.\")"
   ],
   "metadata": {
    "collapsed": false
   }
  },
  {
   "cell_type": "code",
   "execution_count": 8,
   "outputs": [],
   "source": [
    "def multi_collate(batch):\n",
    "    '''\n",
    "    Collate functions assume batch = [Dataset[i] for i in index_set]\n",
    "    '''\n",
    "    # for later use we sort the batch in descending order of length\n",
    "    batch = sorted(batch, key=lambda x: x[0][0].shape[0], reverse=True)\n",
    "\n",
    "    # I eat food _ _ _ -> 1\n",
    "    # I eat a lot of food -> 1.2\n",
    "\n",
    "    # get the data out of the batch - use pad sequence util functions from PyTorch to pad things\n",
    "    labels = torch.cat([torch.from_numpy(sample[1]) for sample in batch], dim=0)\n",
    "    sentences = pad_sequence([torch.FloatTensor(sample[0][0]) for sample in batch])\n",
    "    visual = pad_sequence([torch.FloatTensor(sample[0][1]) for sample in batch])\n",
    "    acoustic = pad_sequence([torch.FloatTensor(sample[0][2]) for sample in batch])\n",
    "\n",
    "    # lengths are useful later in using RNNs\n",
    "    lengths = torch.LongTensor([sample[0][0].shape[0] for sample in batch])\n",
    "    return sentences, visual, acoustic, labels, lengths\n",
    "batch_sz = 64\n",
    "train_loader = DataLoader(train, shuffle=True, batch_size=batch_sz, collate_fn=multi_collate)\n",
    "dev_loader = DataLoader(dev, shuffle=False, batch_size=batch_sz*3, collate_fn=multi_collate)\n",
    "test_loader = DataLoader(test, shuffle=False, batch_size=batch_sz*3, collate_fn=multi_collate)\n"
   ],
   "metadata": {
    "collapsed": false
   }
  },
  {
   "cell_type": "code",
   "execution_count": 9,
   "outputs": [],
   "source": [
    "class LFLSTM(nn.Module):\n",
    "    def __init__(self, input_sizes, hidden_sizes, fc1_size, output_size, dropout_rate):\n",
    "        super(LFLSTM, self).__init__()\n",
    "        self.input_size = input_sizes\n",
    "        self.hidden_size = hidden_sizes\n",
    "        self.fc1_size = fc1_size\n",
    "        self.output_size = output_size\n",
    "        self.dropout_rate = dropout_rate\n",
    "\n",
    "        # defining modules - two layer bidirectional LSTM with layer norm in between\n",
    "        self.embed = nn.Embedding(2196017, input_sizes[0])\n",
    "        self.trnn1 = nn.LSTM(input_sizes[0], hidden_sizes[0], bidirectional=True)\n",
    "        self.trnn2 = nn.LSTM(2*hidden_sizes[0], hidden_sizes[0], bidirectional=True)\n",
    "\n",
    "        self.vrnn1 = nn.LSTM(input_sizes[1], hidden_sizes[1], bidirectional=True)\n",
    "        self.vrnn2 = nn.LSTM(2*hidden_sizes[1], hidden_sizes[1], bidirectional=True)\n",
    "\n",
    "        self.arnn1 = nn.LSTM(input_sizes[2], hidden_sizes[2], bidirectional=True)\n",
    "        self.arnn2 = nn.LSTM(2*hidden_sizes[2], hidden_sizes[2], bidirectional=True)\n",
    "\n",
    "        self.fc0 = nn.Linear(sum(hidden_sizes)*4, fc1_size*2)\n",
    "        self.fc1 = nn.Linear(fc1_size*2, fc1_size)\n",
    "        self.fc2 = nn.Linear(fc1_size, output_size)\n",
    "\n",
    "        self.relu = nn.ReLU()\n",
    "        self.dropout = nn.Dropout(dropout_rate)\n",
    "        self.tlayer_norm = nn.LayerNorm((hidden_sizes[0]*2,))\n",
    "        self.vlayer_norm = nn.LayerNorm((hidden_sizes[1]*2,))\n",
    "        self.alayer_norm = nn.LayerNorm((hidden_sizes[2]*2,))\n",
    "        self.bn = nn.BatchNorm1d(sum(hidden_sizes)*4)\n",
    "\n",
    "\n",
    "    def extract_features(self, sequence, lengths, rnn1, rnn2, layer_norm):\n",
    "        packed_sequence = pack_padded_sequence(sequence, lengths)\n",
    "        packed_h1, (final_h1, _) = rnn1(packed_sequence)\n",
    "        padded_h1, _ = pad_packed_sequence(packed_h1)\n",
    "        normed_h1 = layer_norm(padded_h1)\n",
    "        packed_normed_h1 = pack_padded_sequence(normed_h1, lengths)\n",
    "        _, (final_h2, _) = rnn2(packed_normed_h1)\n",
    "        return final_h1, final_h2\n",
    "\n",
    "\n",
    "    def fusion(self, sentences, visual, acoustic, lengths):\n",
    "        batch_size = lengths.size(0)\n",
    "        # sentences = self.embed(sentences)\n",
    "\n",
    "        # extract features from text modality\n",
    "        final_h1t, final_h2t = self.extract_features(sentences, lengths, self.trnn1, self.trnn2, self.tlayer_norm)\n",
    "\n",
    "        # extract features from visual modality\n",
    "        final_h1v, final_h2v = self.extract_features(visual, lengths, self.vrnn1, self.vrnn2, self.vlayer_norm)\n",
    "\n",
    "        # extract features from acoustic modality\n",
    "        final_h1a, final_h2a = self.extract_features(acoustic, lengths, self.arnn1, self.arnn2, self.alayer_norm)\n",
    "\n",
    "\n",
    "        # simple late fusion -- concatenation + normalization\n",
    "        h = torch.cat((final_h1t, final_h2t, final_h1v, final_h2v, final_h1a, final_h2a),\n",
    "                      dim=2).permute(1, 0, 2).contiguous().view(batch_size, -1)\n",
    "        return self.bn(h)\n",
    "\n",
    "    def forward(self, sentences, visual, acoustic, lengths):\n",
    "        batch_size = lengths.size(0)\n",
    "        h = self.fusion(sentences, visual, acoustic, lengths.cpu())\n",
    "        h = self.fc0(h)\n",
    "        h = self.fc1(h)\n",
    "        h = self.dropout(h)\n",
    "        h = self.relu(h)\n",
    "        o = self.fc2(h)\n",
    "        return o"
   ],
   "metadata": {
    "collapsed": false
   }
  },
  {
   "cell_type": "code",
   "execution_count": 14,
   "outputs": [
    {
     "name": "stdout",
     "output_type": "stream",
     "text": [
      "True\n"
     ]
    }
   ],
   "source": [
    "from tqdm import tqdm_notebook\n",
    "from torch.optim import Adam, SGD\n",
    "from sklearn.metrics import accuracy_score\n",
    "\n",
    "torch.manual_seed(573)\n",
    "torch.cuda.manual_seed_all(573)\n",
    "\n",
    "CUDA = torch.cuda.is_available()\n",
    "print(CUDA)\n",
    "\n",
    "MAX_EPOCH = 1000\n",
    "\n",
    "text_size = 300\n",
    "visual_size = 47\n",
    "acoustic_size = 74\n",
    "\n",
    "input_sizes = [text_size, visual_size, acoustic_size]\n",
    "hidden_sizes = [int(text_size * 10), int(visual_size * 10), int(acoustic_size * 10)]\n",
    "fc1_size = sum(hidden_sizes) // 2\n",
    "dropout = 0.25\n",
    "output_size = 1\n",
    "curr_patience = patience = 4\n",
    "num_trials = 3\n",
    "grad_clip_value = 1.0\n",
    "weight_decay = 0.1\n",
    "pretrained_emb = None"
   ],
   "metadata": {
    "collapsed": false
   }
  },
  {
   "cell_type": "code",
   "execution_count": 15,
   "outputs": [
    {
     "name": "stderr",
     "output_type": "stream",
     "text": [
      "C:\\Users\\ltxom\\IdeaProjects\\python_ml_venv\\lib\\site-packages\\torch\\optim\\lr_scheduler.py:139: UserWarning: Detected call of `lr_scheduler.step()` before `optimizer.step()`. In PyTorch 1.1.0 and later, you should call them in the opposite order: `optimizer.step()` before `lr_scheduler.step()`.  Failure to do this will result in PyTorch skipping the first value of the learning rate schedule. See more details at https://pytorch.org/docs/stable/optim.html#how-to-adjust-learning-rate\n",
      "  warnings.warn(\"Detected call of `lr_scheduler.step()` before `optimizer.step()`. \"\n",
      "C:\\Users\\ltxom\\AppData\\Local\\Temp\\ipykernel_24348\\1646148519.py:17: TqdmDeprecationWarning: This function will be removed in tqdm==5.0.0\n",
      "Please use `tqdm.notebook.tqdm` instead of `tqdm.tqdm_notebook`\n",
      "  train_iter = tqdm_notebook(train_loader)\n"
     ]
    },
    {
     "data": {
      "text/plain": "  0%|          | 0/21 [00:00<?, ?it/s]",
      "application/vnd.jupyter.widget-view+json": {
       "version_major": 2,
       "version_minor": 0,
       "model_id": "5fb1b48e92384b5f9768d2859b9c923e"
      }
     },
     "metadata": {},
     "output_type": "display_data"
    },
    {
     "name": "stdout",
     "output_type": "stream",
     "text": [
      "Training loss: 1.2881\n",
      "Validation loss: 1.3189\n",
      "Current patience: 4, current trial: 3.\n",
      "Found new best model on dev set!\n"
     ]
    },
    {
     "data": {
      "text/plain": "  0%|          | 0/21 [00:00<?, ?it/s]",
      "application/vnd.jupyter.widget-view+json": {
       "version_major": 2,
       "version_minor": 0,
       "model_id": "f2de4fb32d71452a9f406a07d17b9e87"
      }
     },
     "metadata": {},
     "output_type": "display_data"
    },
    {
     "name": "stdout",
     "output_type": "stream",
     "text": [
      "Training loss: 1.0585\n",
      "Validation loss: 1.3184\n",
      "Current patience: 4, current trial: 3.\n",
      "Found new best model on dev set!\n"
     ]
    },
    {
     "data": {
      "text/plain": "  0%|          | 0/21 [00:00<?, ?it/s]",
      "application/vnd.jupyter.widget-view+json": {
       "version_major": 2,
       "version_minor": 0,
       "model_id": "e35bcef44a654f32990bb8016fae7025"
      }
     },
     "metadata": {},
     "output_type": "display_data"
    },
    {
     "name": "stdout",
     "output_type": "stream",
     "text": [
      "Training loss: 1.0089\n",
      "Validation loss: 1.3494\n",
      "Current patience: 4, current trial: 3.\n"
     ]
    },
    {
     "data": {
      "text/plain": "  0%|          | 0/21 [00:00<?, ?it/s]",
      "application/vnd.jupyter.widget-view+json": {
       "version_major": 2,
       "version_minor": 0,
       "model_id": "e110d23b70354b96b2133610d1d7aaa0"
      }
     },
     "metadata": {},
     "output_type": "display_data"
    },
    {
     "name": "stdout",
     "output_type": "stream",
     "text": [
      "Training loss: 0.9377\n",
      "Validation loss: 1.3648\n",
      "Current patience: 3, current trial: 3.\n"
     ]
    },
    {
     "data": {
      "text/plain": "  0%|          | 0/21 [00:00<?, ?it/s]",
      "application/vnd.jupyter.widget-view+json": {
       "version_major": 2,
       "version_minor": 0,
       "model_id": "d56151721c494e088e635a0df9d78ab1"
      }
     },
     "metadata": {},
     "output_type": "display_data"
    },
    {
     "name": "stdout",
     "output_type": "stream",
     "text": [
      "Training loss: 0.998\n",
      "Validation loss: 1.2709\n",
      "Current patience: 2, current trial: 3.\n",
      "Found new best model on dev set!\n"
     ]
    },
    {
     "data": {
      "text/plain": "  0%|          | 0/21 [00:00<?, ?it/s]",
      "application/vnd.jupyter.widget-view+json": {
       "version_major": 2,
       "version_minor": 0,
       "model_id": "3ef9e4c4710849b38c1410f22d5254d8"
      }
     },
     "metadata": {},
     "output_type": "display_data"
    },
    {
     "name": "stdout",
     "output_type": "stream",
     "text": [
      "Training loss: 0.9974\n",
      "Validation loss: 1.5751\n",
      "Current patience: 4, current trial: 3.\n"
     ]
    },
    {
     "data": {
      "text/plain": "  0%|          | 0/21 [00:00<?, ?it/s]",
      "application/vnd.jupyter.widget-view+json": {
       "version_major": 2,
       "version_minor": 0,
       "model_id": "ea983bbf74c04f8b9dfe40f2a5675e4e"
      }
     },
     "metadata": {},
     "output_type": "display_data"
    },
    {
     "name": "stdout",
     "output_type": "stream",
     "text": [
      "Training loss: 0.9203\n",
      "Validation loss: 1.3033\n",
      "Current patience: 3, current trial: 3.\n"
     ]
    },
    {
     "data": {
      "text/plain": "  0%|          | 0/21 [00:00<?, ?it/s]",
      "application/vnd.jupyter.widget-view+json": {
       "version_major": 2,
       "version_minor": 0,
       "model_id": "5bdc5430b39c486c8b5ae8d1dbdce16b"
      }
     },
     "metadata": {},
     "output_type": "display_data"
    },
    {
     "name": "stdout",
     "output_type": "stream",
     "text": [
      "Training loss: 0.9549\n",
      "Validation loss: 1.33\n",
      "Current patience: 2, current trial: 3.\n"
     ]
    },
    {
     "data": {
      "text/plain": "  0%|          | 0/21 [00:00<?, ?it/s]",
      "application/vnd.jupyter.widget-view+json": {
       "version_major": 2,
       "version_minor": 0,
       "model_id": "14001bb965ca4a0fb598ac4913102c44"
      }
     },
     "metadata": {},
     "output_type": "display_data"
    },
    {
     "name": "stdout",
     "output_type": "stream",
     "text": [
      "Training loss: 0.8808\n",
      "Validation loss: 1.3917\n",
      "Current patience: 1, current trial: 3.\n"
     ]
    },
    {
     "data": {
      "text/plain": "  0%|          | 0/21 [00:00<?, ?it/s]",
      "application/vnd.jupyter.widget-view+json": {
       "version_major": 2,
       "version_minor": 0,
       "model_id": "98be266d07ad494cbf28dbee073dc183"
      }
     },
     "metadata": {},
     "output_type": "display_data"
    },
    {
     "name": "stdout",
     "output_type": "stream",
     "text": [
      "Training loss: 0.8651\n",
      "Validation loss: 1.2179\n",
      "Current patience: 0, current trial: 3.\n",
      "Found new best model on dev set!\n"
     ]
    },
    {
     "data": {
      "text/plain": "  0%|          | 0/21 [00:00<?, ?it/s]",
      "application/vnd.jupyter.widget-view+json": {
       "version_major": 2,
       "version_minor": 0,
       "model_id": "6db705b7fec1424fb1ad62d77b5b6eeb"
      }
     },
     "metadata": {},
     "output_type": "display_data"
    },
    {
     "name": "stdout",
     "output_type": "stream",
     "text": [
      "Training loss: 0.874\n",
      "Validation loss: 1.3314\n",
      "Current patience: 4, current trial: 3.\n"
     ]
    },
    {
     "data": {
      "text/plain": "  0%|          | 0/21 [00:00<?, ?it/s]",
      "application/vnd.jupyter.widget-view+json": {
       "version_major": 2,
       "version_minor": 0,
       "model_id": "0d745b8d1be14d7d814d95df8c1d00ca"
      }
     },
     "metadata": {},
     "output_type": "display_data"
    },
    {
     "name": "stdout",
     "output_type": "stream",
     "text": [
      "Training loss: 0.7882\n",
      "Validation loss: 1.2526\n",
      "Current patience: 3, current trial: 3.\n"
     ]
    },
    {
     "data": {
      "text/plain": "  0%|          | 0/21 [00:00<?, ?it/s]",
      "application/vnd.jupyter.widget-view+json": {
       "version_major": 2,
       "version_minor": 0,
       "model_id": "978ac6ff22554c5190d1a574ce6f15fd"
      }
     },
     "metadata": {},
     "output_type": "display_data"
    },
    {
     "name": "stdout",
     "output_type": "stream",
     "text": [
      "Training loss: 0.8078\n",
      "Validation loss: 1.2381\n",
      "Current patience: 2, current trial: 3.\n"
     ]
    },
    {
     "data": {
      "text/plain": "  0%|          | 0/21 [00:00<?, ?it/s]",
      "application/vnd.jupyter.widget-view+json": {
       "version_major": 2,
       "version_minor": 0,
       "model_id": "405307299d194788850d025cc3c0ccd2"
      }
     },
     "metadata": {},
     "output_type": "display_data"
    },
    {
     "name": "stdout",
     "output_type": "stream",
     "text": [
      "Training loss: 0.7288\n",
      "Validation loss: 1.3576\n",
      "Current patience: 1, current trial: 3.\n"
     ]
    },
    {
     "data": {
      "text/plain": "  0%|          | 0/21 [00:00<?, ?it/s]",
      "application/vnd.jupyter.widget-view+json": {
       "version_major": 2,
       "version_minor": 0,
       "model_id": "926cc1f3fb114ddc8ae5872eb555a4f4"
      }
     },
     "metadata": {},
     "output_type": "display_data"
    },
    {
     "name": "stdout",
     "output_type": "stream",
     "text": [
      "Training loss: 0.7856\n",
      "Validation loss: 1.1988\n",
      "Current patience: 0, current trial: 3.\n",
      "Found new best model on dev set!\n"
     ]
    },
    {
     "data": {
      "text/plain": "  0%|          | 0/21 [00:00<?, ?it/s]",
      "application/vnd.jupyter.widget-view+json": {
       "version_major": 2,
       "version_minor": 0,
       "model_id": "50209f8672e74b8b9343da06ab3cbe27"
      }
     },
     "metadata": {},
     "output_type": "display_data"
    },
    {
     "name": "stdout",
     "output_type": "stream",
     "text": [
      "Training loss: 0.7619\n",
      "Validation loss: 1.2561\n",
      "Current patience: 4, current trial: 3.\n"
     ]
    },
    {
     "data": {
      "text/plain": "  0%|          | 0/21 [00:00<?, ?it/s]",
      "application/vnd.jupyter.widget-view+json": {
       "version_major": 2,
       "version_minor": 0,
       "model_id": "be08faf06d1b47f1a377cc316700da88"
      }
     },
     "metadata": {},
     "output_type": "display_data"
    },
    {
     "name": "stdout",
     "output_type": "stream",
     "text": [
      "Training loss: 0.7191\n",
      "Validation loss: 1.261\n",
      "Current patience: 3, current trial: 3.\n"
     ]
    },
    {
     "data": {
      "text/plain": "  0%|          | 0/21 [00:00<?, ?it/s]",
      "application/vnd.jupyter.widget-view+json": {
       "version_major": 2,
       "version_minor": 0,
       "model_id": "241f549a38b74cbf8a2c9ee469ae61f7"
      }
     },
     "metadata": {},
     "output_type": "display_data"
    },
    {
     "name": "stdout",
     "output_type": "stream",
     "text": [
      "Training loss: 0.716\n",
      "Validation loss: 1.2177\n",
      "Current patience: 2, current trial: 3.\n"
     ]
    },
    {
     "data": {
      "text/plain": "  0%|          | 0/21 [00:00<?, ?it/s]",
      "application/vnd.jupyter.widget-view+json": {
       "version_major": 2,
       "version_minor": 0,
       "model_id": "ac120e98edbc451a9ab716285c9f462b"
      }
     },
     "metadata": {},
     "output_type": "display_data"
    },
    {
     "name": "stdout",
     "output_type": "stream",
     "text": [
      "Training loss: 0.6824\n",
      "Validation loss: 1.1829\n",
      "Current patience: 1, current trial: 3.\n",
      "Found new best model on dev set!\n"
     ]
    },
    {
     "data": {
      "text/plain": "  0%|          | 0/21 [00:00<?, ?it/s]",
      "application/vnd.jupyter.widget-view+json": {
       "version_major": 2,
       "version_minor": 0,
       "model_id": "70dd53b0460b47749a11735d689d5544"
      }
     },
     "metadata": {},
     "output_type": "display_data"
    },
    {
     "name": "stdout",
     "output_type": "stream",
     "text": [
      "Training loss: 0.6747\n",
      "Validation loss: 1.2797\n",
      "Current patience: 4, current trial: 3.\n"
     ]
    },
    {
     "data": {
      "text/plain": "  0%|          | 0/21 [00:00<?, ?it/s]",
      "application/vnd.jupyter.widget-view+json": {
       "version_major": 2,
       "version_minor": 0,
       "model_id": "69ad1fed1cfa476caeb5c0706c6613aa"
      }
     },
     "metadata": {},
     "output_type": "display_data"
    },
    {
     "name": "stdout",
     "output_type": "stream",
     "text": [
      "Training loss: 0.6509\n",
      "Validation loss: 1.2752\n",
      "Current patience: 3, current trial: 3.\n"
     ]
    },
    {
     "data": {
      "text/plain": "  0%|          | 0/21 [00:00<?, ?it/s]",
      "application/vnd.jupyter.widget-view+json": {
       "version_major": 2,
       "version_minor": 0,
       "model_id": "f2abc14648aa4602ba1b7a80e51b1ba1"
      }
     },
     "metadata": {},
     "output_type": "display_data"
    },
    {
     "name": "stdout",
     "output_type": "stream",
     "text": [
      "Training loss: 0.662\n",
      "Validation loss: 1.2384\n",
      "Current patience: 2, current trial: 3.\n"
     ]
    },
    {
     "data": {
      "text/plain": "  0%|          | 0/21 [00:00<?, ?it/s]",
      "application/vnd.jupyter.widget-view+json": {
       "version_major": 2,
       "version_minor": 0,
       "model_id": "f26fbe46b17d42499f5a549748beb212"
      }
     },
     "metadata": {},
     "output_type": "display_data"
    },
    {
     "name": "stdout",
     "output_type": "stream",
     "text": [
      "Training loss: 0.6179\n",
      "Validation loss: 1.1992\n",
      "Current patience: 1, current trial: 3.\n"
     ]
    },
    {
     "data": {
      "text/plain": "  0%|          | 0/21 [00:00<?, ?it/s]",
      "application/vnd.jupyter.widget-view+json": {
       "version_major": 2,
       "version_minor": 0,
       "model_id": "e78e22501ecf4f2fba0086ffa43a9bf9"
      }
     },
     "metadata": {},
     "output_type": "display_data"
    },
    {
     "name": "stdout",
     "output_type": "stream",
     "text": [
      "Training loss: 0.6198\n",
      "Validation loss: 1.1848\n",
      "Current patience: 0, current trial: 3.\n",
      "Running out of patience, loading previous best model.\n",
      "Current learning rate: 1e-05\n"
     ]
    },
    {
     "data": {
      "text/plain": "  0%|          | 0/21 [00:00<?, ?it/s]",
      "application/vnd.jupyter.widget-view+json": {
       "version_major": 2,
       "version_minor": 0,
       "model_id": "cdc1f40f145b4e989960e246b5acab7e"
      }
     },
     "metadata": {},
     "output_type": "display_data"
    },
    {
     "name": "stdout",
     "output_type": "stream",
     "text": [
      "Training loss: 0.6161\n",
      "Validation loss: 1.1685\n",
      "Current patience: 4, current trial: 2.\n",
      "Found new best model on dev set!\n"
     ]
    },
    {
     "data": {
      "text/plain": "  0%|          | 0/21 [00:00<?, ?it/s]",
      "application/vnd.jupyter.widget-view+json": {
       "version_major": 2,
       "version_minor": 0,
       "model_id": "1e86f6bf43654b679ceb8789ac546886"
      }
     },
     "metadata": {},
     "output_type": "display_data"
    },
    {
     "ename": "KeyboardInterrupt",
     "evalue": "",
     "output_type": "error",
     "traceback": [
      "\u001B[1;31m---------------------------------------------------------------------------\u001B[0m",
      "\u001B[1;31mKeyboardInterrupt\u001B[0m                         Traceback (most recent call last)",
      "Cell \u001B[1;32mIn[15], line 34\u001B[0m\n\u001B[0;32m     32\u001B[0m     torch\u001B[38;5;241m.\u001B[39mnn\u001B[38;5;241m.\u001B[39mutils\u001B[38;5;241m.\u001B[39mclip_grad_value_([param \u001B[38;5;28;01mfor\u001B[39;00m param \u001B[38;5;129;01min\u001B[39;00m model\u001B[38;5;241m.\u001B[39mparameters() \u001B[38;5;28;01mif\u001B[39;00m param\u001B[38;5;241m.\u001B[39mrequires_grad], grad_clip_value)\n\u001B[0;32m     33\u001B[0m     optimizer\u001B[38;5;241m.\u001B[39mstep()\n\u001B[1;32m---> 34\u001B[0m     train_iter\u001B[38;5;241m.\u001B[39mset_description(\u001B[38;5;124mf\u001B[39m\u001B[38;5;124m\"\u001B[39m\u001B[38;5;124mEpoch \u001B[39m\u001B[38;5;132;01m{\u001B[39;00me\u001B[38;5;132;01m}\u001B[39;00m\u001B[38;5;124m/\u001B[39m\u001B[38;5;132;01m{\u001B[39;00mMAX_EPOCH\u001B[38;5;132;01m}\u001B[39;00m\u001B[38;5;124m, current batch loss: \u001B[39m\u001B[38;5;132;01m{\u001B[39;00m\u001B[38;5;28mround\u001B[39m(loss\u001B[38;5;241m.\u001B[39mitem()\u001B[38;5;241m/\u001B[39m\u001B[43mbatch_size\u001B[49m,\u001B[38;5;250m \u001B[39m\u001B[38;5;241m4\u001B[39m)\u001B[38;5;132;01m}\u001B[39;00m\u001B[38;5;124m\"\u001B[39m)\n\u001B[0;32m     35\u001B[0m     train_loss \u001B[38;5;241m+\u001B[39m\u001B[38;5;241m=\u001B[39m loss\u001B[38;5;241m.\u001B[39mitem()\n\u001B[0;32m     36\u001B[0m train_loss \u001B[38;5;241m=\u001B[39m train_loss \u001B[38;5;241m/\u001B[39m \u001B[38;5;28mlen\u001B[39m(train)\n",
      "\u001B[1;31mKeyboardInterrupt\u001B[0m: "
     ]
    }
   ],
   "source": [
    "model = LFLSTM(input_sizes, hidden_sizes, fc1_size, output_size, dropout)\n",
    "\n",
    "model.embed.requires_grad = False\n",
    "optimizer = Adam([param for param in model.parameters() if param.requires_grad], weight_decay=weight_decay)\n",
    "\n",
    "if CUDA:\n",
    "    model.cuda()\n",
    "criterion = nn.L1Loss(reduction='sum')\n",
    "criterion_test = nn.L1Loss(reduction='sum')\n",
    "best_valid_loss = float('inf')\n",
    "lr_scheduler = torch.optim.lr_scheduler.StepLR(optimizer, step_size=1, gamma=0.1)\n",
    "lr_scheduler.step() # for some reason it seems the StepLR needs to be stepped once first\n",
    "train_losses = []\n",
    "valid_losses = []\n",
    "for e in range(MAX_EPOCH):\n",
    "    model.train()\n",
    "    train_iter = tqdm_notebook(train_loader)\n",
    "    train_loss = 0.0\n",
    "    for batch in train_iter:\n",
    "        model.zero_grad()\n",
    "        t, v, a, y, l = batch\n",
    "        batch_size = t.size(0)\n",
    "        if CUDA:\n",
    "            t = t.cuda()\n",
    "            v = v.cuda()\n",
    "            a = a.cuda()\n",
    "            y = y.cuda()\n",
    "            l = l.cuda()\n",
    "        y_tilde = model(t, v, a, l)\n",
    "        loss = criterion(y_tilde, y)\n",
    "        loss.backward()\n",
    "        torch.nn.utils.clip_grad_value_([param for param in model.parameters() if param.requires_grad], grad_clip_value)\n",
    "        optimizer.step()\n",
    "        train_iter.set_description(f\"Epoch {e}/{MAX_EPOCH}, current batch loss: {round(loss.item()/batch_size, 4)}\")\n",
    "        train_loss += loss.item()\n",
    "    train_loss = train_loss / len(train)\n",
    "    train_losses.append(train_loss)\n",
    "    print(f\"Training loss: {round(train_loss, 4)}\")\n",
    "\n",
    "    model.eval()\n",
    "    with torch.no_grad():\n",
    "        valid_loss = 0.0\n",
    "        for batch in dev_loader:\n",
    "            model.zero_grad()\n",
    "            t, v, a, y, l = batch\n",
    "            if CUDA:\n",
    "                t = t.cuda()\n",
    "                v = v.cuda()\n",
    "                a = a.cuda()\n",
    "                y = y.cuda()\n",
    "                # l = l.cuda()\n",
    "            y_tilde = model(t, v, a, l)\n",
    "            loss = criterion(y_tilde, y)\n",
    "            valid_loss += loss.item()\n",
    "\n",
    "    valid_loss = valid_loss/len(dev)\n",
    "    valid_losses.append(valid_loss)\n",
    "    print(f\"Validation loss: {round(valid_loss, 4)}\")\n",
    "    print(f\"Current patience: {curr_patience}, current trial: {num_trials}.\")\n",
    "    if valid_loss <= best_valid_loss:\n",
    "        best_valid_loss = valid_loss\n",
    "        print(\"Found new best model on dev set!\")\n",
    "        torch.save(model.state_dict(), 'model.std')\n",
    "        torch.save(optimizer.state_dict(), 'optim.std')\n",
    "        curr_patience = patience\n",
    "    else:\n",
    "        curr_patience -= 1\n",
    "        if curr_patience <= -1:\n",
    "            print(\"Running out of patience, loading previous best model.\")\n",
    "            num_trials -= 1\n",
    "            curr_patience = patience\n",
    "            model.load_state_dict(torch.load('model.std'))\n",
    "            optimizer.load_state_dict(torch.load('optim.std'))\n",
    "            lr_scheduler.step()\n",
    "            print(f\"Current learning rate: {optimizer.state_dict()['param_groups'][0]['lr']}\")\n",
    "\n",
    "    if num_trials <= 0:\n",
    "        print(\"Running out of patience, early stopping.\")\n",
    "        break"
   ],
   "metadata": {
    "collapsed": false
   }
  },
  {
   "cell_type": "code",
   "execution_count": 13,
   "outputs": [
    {
     "name": "stdout",
     "output_type": "stream",
     "text": [
      "Test set performance: 1.21165796619115\n",
      "Test set accuracy is 0.6632653061224489\n"
     ]
    }
   ],
   "source": [
    "model.load_state_dict(torch.load('model.std'))\n",
    "y_true = []\n",
    "y_pred = []\n",
    "model.eval()\n",
    "with torch.no_grad():\n",
    "    test_loss = 0.0\n",
    "    for batch in test_loader:\n",
    "        model.zero_grad()\n",
    "        t, v, a, y, l = batch\n",
    "        if CUDA:\n",
    "            t = t.cuda()\n",
    "            v = v.cuda()\n",
    "            a = a.cuda()\n",
    "            y = y.cuda()\n",
    "            l = l.cuda()\n",
    "        y_tilde = model(t, v, a, l)\n",
    "        loss = criterion_test(y_tilde, y)\n",
    "        y_true.append(y_tilde.detach().cpu().numpy())\n",
    "        y_pred.append(y.detach().cpu().numpy())\n",
    "        test_loss += loss.item()\n",
    "print(f\"Test set performance: {test_loss/len(test)}\")\n",
    "y_true = np.concatenate(y_true, axis=0)\n",
    "y_pred = np.concatenate(y_pred, axis=0)\n",
    "\n",
    "y_true_bin = y_true >= 0\n",
    "y_pred_bin = y_pred >= 0\n",
    "bin_acc = accuracy_score(y_true_bin, y_pred_bin)\n",
    "print(f\"Test set accuracy is {bin_acc}\")"
   ],
   "metadata": {
    "collapsed": false
   }
  },
  {
   "cell_type": "code",
   "execution_count": 12,
   "outputs": [],
   "source": [],
   "metadata": {
    "collapsed": false
   }
  }
 ],
 "metadata": {
  "kernelspec": {
   "display_name": "Python 3",
   "language": "python",
   "name": "python3"
  },
  "language_info": {
   "codemirror_mode": {
    "name": "ipython",
    "version": 2
   },
   "file_extension": ".py",
   "mimetype": "text/x-python",
   "name": "python",
   "nbconvert_exporter": "python",
   "pygments_lexer": "ipython2",
   "version": "2.7.6"
  }
 },
 "nbformat": 4,
 "nbformat_minor": 0
}
